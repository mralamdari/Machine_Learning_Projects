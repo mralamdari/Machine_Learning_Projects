{
  "nbformat": 4,
  "nbformat_minor": 0,
  "metadata": {
    "colab": {
      "provenance": [],
      "collapsed_sections": [],
      "mount_file_id": "1idq5u8fo4RWDBKVwYuQMHCMUKKsprhUW",
      "authorship_tag": "ABX9TyO5Fd+PtCM7Yc5TnapXqY8M",
      "include_colab_link": true
    },
    "kernelspec": {
      "name": "python3",
      "display_name": "Python 3"
    },
    "language_info": {
      "name": "python"
    }
  },
  "cells": [
    {
      "cell_type": "markdown",
      "metadata": {
        "id": "view-in-github",
        "colab_type": "text"
      },
      "source": [
        "<a href=\"https://colab.research.google.com/github/mralamdari/Machine_Learning_Projects/blob/main/Fashion_Class_Classification_with_CNN_by_keras.ipynb\" target=\"_parent\"><img src=\"https://colab.research.google.com/assets/colab-badge.svg\" alt=\"Open In Colab\"/></a>"
      ]
    },
    {
      "cell_type": "markdown",
      "metadata": {
        "id": "EtiirXGDnEct"
      },
      "source": [
        "Fashion Class Classification with CNN by keras\n",
        "\n",
        "https://www.kaggle.com/zalando-research/fashionmnist\n",
        "\n"
      ]
    },
    {
      "cell_type": "code",
      "metadata": {
        "id": "lgQZXphSlIJ-"
      },
      "source": [
        "import pandas as pd, seaborn as sns, numpy as np, matplotlib.pyplot as plt, os\n",
        "from sklearn import model_selection"
      ],
      "execution_count": null,
      "outputs": []
    },
    {
      "cell_type": "code",
      "metadata": {
        "id": "GU2KVcgRpC6-",
        "colab": {
          "base_uri": "https://localhost:8080/"
        },
        "outputId": "374936b5-a66e-469b-97bb-12382f235358"
      },
      "source": [
        "os.environ['KAGGLE_CONFIG_DIR'] = '/content/drive/MyDrive/Colab Notebooks/'\n",
        "!kaggle datasets download -d zalando-research/fashionmnist\n",
        "!unzip \\*.zip && rm *.zip"
      ],
      "execution_count": null,
      "outputs": [
        {
          "output_type": "stream",
          "text": [
            "Warning: Your Kaggle API key is readable by other users on this system! To fix this, you can run 'chmod 600 /content/drive/MyDrive/Colab Notebooks/kaggle.json'\n",
            "fashionmnist.zip: Skipping, found more recently modified local copy (use --force to force download)\n",
            "Archive:  fashionmnist.zip\n",
            "  inflating: fashion-mnist_test.csv  \n",
            "  inflating: fashion-mnist_train.csv  \n",
            "  inflating: t10k-images-idx3-ubyte  \n",
            "  inflating: t10k-labels-idx1-ubyte  \n",
            "  inflating: train-images-idx3-ubyte  \n",
            "  inflating: train-labels-idx1-ubyte  \n"
          ],
          "name": "stdout"
        }
      ]
    },
    {
      "cell_type": "code",
      "metadata": {
        "id": "XbuG24qBp_Oi"
      },
      "source": [
        "train = pd.read_csv('fashion-mnist_train.csv', sep=',')\n",
        "test = pd.read_csv('fashion-mnist_test.csv', sep=',')"
      ],
      "execution_count": null,
      "outputs": []
    },
    {
      "cell_type": "code",
      "metadata": {
        "colab": {
          "base_uri": "https://localhost:8080/"
        },
        "id": "Ux1_6nW3tSf0",
        "outputId": "bd2b7455-80ef-4917-c092-48c874343546"
      },
      "source": [
        "train.shape, test.shape"
      ],
      "execution_count": null,
      "outputs": [
        {
          "output_type": "execute_result",
          "data": {
            "text/plain": [
              "((60000, 785), (10000, 785))"
            ]
          },
          "metadata": {
            "tags": []
          },
          "execution_count": 20
        }
      ]
    },
    {
      "cell_type": "code",
      "metadata": {
        "colab": {
          "base_uri": "https://localhost:8080/",
          "height": 282
        },
        "id": "PIOJ3Hs3tl1C",
        "outputId": "98224429-8f2e-4f52-928c-9254e5e8d177"
      },
      "source": [
        "'''To visiulize data we need to transfer the\n",
        "data frame to an numpy array,\n",
        "otherwise we can't do this\n",
        "'''\n",
        "train_array = np.array(train, dtype='float32')\n",
        "test_array = np.array(test, dtype='float32')\n",
        "number = 43603\n",
        "plt.imshow(train_array[number, 1:].reshape(28, 28))\n",
        "print(train.label[number])"
      ],
      "execution_count": null,
      "outputs": [
        {
          "output_type": "stream",
          "text": [
            "3\n"
          ],
          "name": "stdout"
        },
        {
          "output_type": "display_data",
          "data": {
            "image/png": "[encoded data removed]",
            "text/plain": [
              "<Figure size 432x288 with 1 Axes>"
            ]
          },
          "metadata": {
            "tags": [],
            "needs_background": "light"
          }
        }
      ]
    },
    {
      "cell_type": "code",
      "metadata": {
        "id": "KW6HzgCjuN3h"
      },
      "source": [
        "x_train , y_train = train_array[:, 1:] / 255.0, train_array[:, 0]\n",
        "x_test , y_test = test_array[:, 1:] / 255.0, test_array[:, 0]"
      ],
      "execution_count": null,
      "outputs": []
    },
    {
      "cell_type": "code",
      "metadata": {
        "id": "tOBSq7d20ffh"
      },
      "source": [
        "train_x, val_x, train_y, val_y = model_selection.train_test_split(x_train, y_train, test_size=0.2, random_state=353)"
      ],
      "execution_count": null,
      "outputs": []
    },
    {
      "cell_type": "code",
      "metadata": {
        "id": "m0OuaWYy1UUI"
      },
      "source": [
        "# To make data ready for CNN algorithm, \n",
        "# we need to transfer each raw image, to 28 * 28 * 1 form\n",
        "\n",
        "train_x = train_x.reshape(train_x.shape[0], *(28, 28, 1))\n",
        "x_test = x_test.reshape(x_test.shape[0], *(28, 28, 1))\n",
        "val_x = val_x.reshape(val_x.shape[0], *(28, 28, 1))"
      ],
      "execution_count": null,
      "outputs": []
    },
    {
      "cell_type": "code",
      "metadata": {
        "id": "maH6n_Qc3Lgs"
      },
      "source": [
        "from keras.models import Sequential\n",
        "from keras.layers import Conv2D, Dense, Flatten, Dropout, MaxPooling2D\n",
        "from keras.optimizers import Adam\n",
        "from keras.callbacks import TensorBoard"
      ],
      "execution_count": null,
      "outputs": []
    },
    {
      "cell_type": "code",
      "metadata": {
        "colab": {
          "base_uri": "https://localhost:8080/"
        },
        "id": "26hTBwn53uyv",
        "outputId": "e92caba0-623d-4e9c-a33a-95ce186f02bf"
      },
      "source": [
        "cnn_model = Sequential()\n",
        "cnn_model.add(Conv2D(32, 3, 3, input_shape=(28, 28, 1), activation='relu'))\n",
        "cnn_model.add(MaxPooling2D(pool_size=(2, 2)))\n",
        "cnn_model.add(Flatten())\n",
        "cnn_model.add(Dense(32, activation='relu'))\n",
        "cnn_model.add(Dense(10, activation='sigmoid'))\n",
        "cnn_model.compile(loss='sparse_categorical_crossentropy', optimizer=Adam(lr=0.001), metrics=['accuracy'])"
      ],
      "execution_count": null,
      "outputs": [
        {
          "output_type": "stream",
          "text": [
            "/usr/local/lib/python3.7/dist-packages/tensorflow/python/keras/optimizer_v2/optimizer_v2.py:375: UserWarning: The `lr` argument is deprecated, use `learning_rate` instead.\n",
            "  \"The `lr` argument is deprecated, use `learning_rate` instead.\")\n"
          ],
          "name": "stderr"
        }
      ]
    },
    {
      "cell_type": "code",
      "metadata": {
        "colab": {
          "base_uri": "https://localhost:8080/"
        },
        "id": "0qTwlvF55SVc",
        "outputId": "5c63bbfb-4ad1-4cc5-cebe-938139f929eb"
      },
      "source": [
        "cnn_model.fit(train_x, train_y, batch_size=512, epochs=50, verbose=1, validation_data=(val_x, val_y))"
      ],
      "execution_count": null,
      "outputs": [
        {
          "output_type": "stream",
          "text": [
            "Epoch 1/50\n",
            "94/94 [==============================] - 15s 25ms/step - loss: 1.9080 - accuracy: 0.3777 - val_loss: 0.8072 - val_accuracy: 0.7173\n",
            "Epoch 2/50\n",
            "94/94 [==============================] - 2s 19ms/step - loss: 0.7386 - accuracy: 0.7362 - val_loss: 0.6391 - val_accuracy: 0.7649\n",
            "Epoch 3/50\n",
            "94/94 [==============================] - 2s 19ms/step - loss: 0.6071 - accuracy: 0.7816 - val_loss: 0.5735 - val_accuracy: 0.7918\n",
            "Epoch 4/50\n",
            "94/94 [==============================] - 2s 19ms/step - loss: 0.5556 - accuracy: 0.7977 - val_loss: 0.5287 - val_accuracy: 0.8090\n",
            "Epoch 5/50\n",
            "94/94 [==============================] - 2s 19ms/step - loss: 0.5080 - accuracy: 0.8136 - val_loss: 0.5124 - val_accuracy: 0.8131\n",
            "Epoch 6/50\n",
            "94/94 [==============================] - 2s 19ms/step - loss: 0.4916 - accuracy: 0.8195 - val_loss: 0.4863 - val_accuracy: 0.8257\n",
            "Epoch 7/50\n",
            "94/94 [==============================] - 2s 19ms/step - loss: 0.4694 - accuracy: 0.8288 - val_loss: 0.4767 - val_accuracy: 0.8288\n",
            "Epoch 8/50\n",
            "94/94 [==============================] - 2s 20ms/step - loss: 0.4601 - accuracy: 0.8331 - val_loss: 0.4646 - val_accuracy: 0.8326\n",
            "Epoch 9/50\n",
            "94/94 [==============================] - 2s 19ms/step - loss: 0.4508 - accuracy: 0.8360 - val_loss: 0.4591 - val_accuracy: 0.8368\n",
            "Epoch 10/50\n",
            "94/94 [==============================] - 2s 19ms/step - loss: 0.4356 - accuracy: 0.8419 - val_loss: 0.4546 - val_accuracy: 0.8368\n",
            "Epoch 11/50\n",
            "94/94 [==============================] - 2s 19ms/step - loss: 0.4334 - accuracy: 0.8417 - val_loss: 0.4459 - val_accuracy: 0.8405\n",
            "Epoch 12/50\n",
            "94/94 [==============================] - 2s 19ms/step - loss: 0.4303 - accuracy: 0.8444 - val_loss: 0.4382 - val_accuracy: 0.8440\n",
            "Epoch 13/50\n",
            "94/94 [==============================] - 2s 19ms/step - loss: 0.4185 - accuracy: 0.8497 - val_loss: 0.4353 - val_accuracy: 0.8413\n",
            "Epoch 14/50\n",
            "94/94 [==============================] - 2s 20ms/step - loss: 0.4126 - accuracy: 0.8489 - val_loss: 0.4295 - val_accuracy: 0.8472\n",
            "Epoch 15/50\n",
            "94/94 [==============================] - 2s 19ms/step - loss: 0.4112 - accuracy: 0.8513 - val_loss: 0.4283 - val_accuracy: 0.8468\n",
            "Epoch 16/50\n",
            "94/94 [==============================] - 2s 19ms/step - loss: 0.4003 - accuracy: 0.8534 - val_loss: 0.4241 - val_accuracy: 0.8480\n",
            "Epoch 17/50\n",
            "94/94 [==============================] - 2s 19ms/step - loss: 0.3988 - accuracy: 0.8565 - val_loss: 0.4191 - val_accuracy: 0.8507\n",
            "Epoch 18/50\n",
            "94/94 [==============================] - 2s 19ms/step - loss: 0.3886 - accuracy: 0.8586 - val_loss: 0.4166 - val_accuracy: 0.8508\n",
            "Epoch 19/50\n",
            "94/94 [==============================] - 2s 19ms/step - loss: 0.3931 - accuracy: 0.8566 - val_loss: 0.4195 - val_accuracy: 0.8492\n",
            "Epoch 20/50\n",
            "94/94 [==============================] - 2s 19ms/step - loss: 0.3917 - accuracy: 0.8563 - val_loss: 0.4180 - val_accuracy: 0.8512\n",
            "Epoch 21/50\n",
            "94/94 [==============================] - 2s 19ms/step - loss: 0.3831 - accuracy: 0.8600 - val_loss: 0.4116 - val_accuracy: 0.8526\n",
            "Epoch 22/50\n",
            "94/94 [==============================] - 2s 19ms/step - loss: 0.3781 - accuracy: 0.8612 - val_loss: 0.4086 - val_accuracy: 0.8537\n",
            "Epoch 23/50\n",
            "94/94 [==============================] - 2s 20ms/step - loss: 0.3788 - accuracy: 0.8627 - val_loss: 0.4047 - val_accuracy: 0.8549\n",
            "Epoch 24/50\n",
            "94/94 [==============================] - 2s 20ms/step - loss: 0.3776 - accuracy: 0.8642 - val_loss: 0.4037 - val_accuracy: 0.8584\n",
            "Epoch 25/50\n",
            "94/94 [==============================] - 2s 21ms/step - loss: 0.3748 - accuracy: 0.8652 - val_loss: 0.4054 - val_accuracy: 0.8552\n",
            "Epoch 26/50\n",
            "94/94 [==============================] - 2s 21ms/step - loss: 0.3700 - accuracy: 0.8670 - val_loss: 0.4033 - val_accuracy: 0.8582\n",
            "Epoch 27/50\n",
            "94/94 [==============================] - 2s 21ms/step - loss: 0.3711 - accuracy: 0.8644 - val_loss: 0.3992 - val_accuracy: 0.8568\n",
            "Epoch 28/50\n",
            "94/94 [==============================] - 2s 21ms/step - loss: 0.3656 - accuracy: 0.8674 - val_loss: 0.4000 - val_accuracy: 0.8572\n",
            "Epoch 29/50\n",
            "94/94 [==============================] - 2s 21ms/step - loss: 0.3638 - accuracy: 0.8669 - val_loss: 0.3978 - val_accuracy: 0.8584\n",
            "Epoch 30/50\n",
            "94/94 [==============================] - 2s 21ms/step - loss: 0.3601 - accuracy: 0.8679 - val_loss: 0.3982 - val_accuracy: 0.8591\n",
            "Epoch 31/50\n",
            "94/94 [==============================] - 2s 21ms/step - loss: 0.3610 - accuracy: 0.8670 - val_loss: 0.3963 - val_accuracy: 0.8596\n",
            "Epoch 32/50\n",
            "94/94 [==============================] - 2s 21ms/step - loss: 0.3593 - accuracy: 0.8703 - val_loss: 0.3942 - val_accuracy: 0.8612\n",
            "Epoch 33/50\n",
            "94/94 [==============================] - 2s 21ms/step - loss: 0.3621 - accuracy: 0.8681 - val_loss: 0.3899 - val_accuracy: 0.8626\n",
            "Epoch 34/50\n",
            "94/94 [==============================] - 2s 21ms/step - loss: 0.3629 - accuracy: 0.8674 - val_loss: 0.3959 - val_accuracy: 0.8597\n",
            "Epoch 35/50\n",
            "94/94 [==============================] - 2s 21ms/step - loss: 0.3565 - accuracy: 0.8704 - val_loss: 0.3950 - val_accuracy: 0.8623\n",
            "Epoch 36/50\n",
            "94/94 [==============================] - 2s 21ms/step - loss: 0.3495 - accuracy: 0.8718 - val_loss: 0.3879 - val_accuracy: 0.8623\n",
            "Epoch 37/50\n",
            "94/94 [==============================] - 2s 20ms/step - loss: 0.3601 - accuracy: 0.8674 - val_loss: 0.3981 - val_accuracy: 0.8588\n",
            "Epoch 38/50\n",
            "94/94 [==============================] - 2s 20ms/step - loss: 0.3419 - accuracy: 0.8753 - val_loss: 0.3880 - val_accuracy: 0.8651\n",
            "Epoch 39/50\n",
            "94/94 [==============================] - 2s 19ms/step - loss: 0.3475 - accuracy: 0.8739 - val_loss: 0.3861 - val_accuracy: 0.8667\n",
            "Epoch 40/50\n",
            "94/94 [==============================] - 2s 19ms/step - loss: 0.3469 - accuracy: 0.8729 - val_loss: 0.3894 - val_accuracy: 0.8634\n",
            "Epoch 41/50\n",
            "94/94 [==============================] - 2s 20ms/step - loss: 0.3523 - accuracy: 0.8727 - val_loss: 0.3889 - val_accuracy: 0.8661\n",
            "Epoch 42/50\n",
            "94/94 [==============================] - 2s 19ms/step - loss: 0.3400 - accuracy: 0.8765 - val_loss: 0.3840 - val_accuracy: 0.8653\n",
            "Epoch 43/50\n",
            "94/94 [==============================] - 2s 19ms/step - loss: 0.3420 - accuracy: 0.8756 - val_loss: 0.3843 - val_accuracy: 0.8651\n",
            "Epoch 44/50\n",
            "94/94 [==============================] - 2s 19ms/step - loss: 0.3446 - accuracy: 0.8748 - val_loss: 0.3795 - val_accuracy: 0.8668\n",
            "Epoch 45/50\n",
            "94/94 [==============================] - 2s 19ms/step - loss: 0.3426 - accuracy: 0.8743 - val_loss: 0.3802 - val_accuracy: 0.8664\n",
            "Epoch 46/50\n",
            "94/94 [==============================] - 2s 19ms/step - loss: 0.3390 - accuracy: 0.8777 - val_loss: 0.3835 - val_accuracy: 0.8668\n",
            "Epoch 47/50\n",
            "94/94 [==============================] - 2s 19ms/step - loss: 0.3388 - accuracy: 0.8764 - val_loss: 0.3811 - val_accuracy: 0.8667\n",
            "Epoch 48/50\n",
            "94/94 [==============================] - 2s 19ms/step - loss: 0.3405 - accuracy: 0.8758 - val_loss: 0.3834 - val_accuracy: 0.8661\n",
            "Epoch 49/50\n",
            "94/94 [==============================] - 2s 19ms/step - loss: 0.3346 - accuracy: 0.8785 - val_loss: 0.3777 - val_accuracy: 0.8703\n",
            "Epoch 50/50\n",
            "94/94 [==============================] - 2s 19ms/step - loss: 0.3333 - accuracy: 0.8797 - val_loss: 0.3789 - val_accuracy: 0.8667\n"
          ],
          "name": "stdout"
        },
        {
          "output_type": "execute_result",
          "data": {
            "text/plain": [
              "<keras.callbacks.History at 0x7f152e31ec90>"
            ]
          },
          "metadata": {
            "tags": []
          },
          "execution_count": 52
        }
      ]
    },
    {
      "cell_type": "code",
      "metadata": {
        "colab": {
          "base_uri": "https://localhost:8080/"
        },
        "id": "Y-kWNFv38yQa",
        "outputId": "f4837f70-d7ea-4e6b-a069-a709371a3ba7"
      },
      "source": [
        "evaluation = cnn_model.evaluate(x_test, y_test)\n",
        "print(evaluation)"
      ],
      "execution_count": null,
      "outputs": [
        {
          "output_type": "stream",
          "text": [
            "313/313 [==============================] - 0s 1ms/step - loss: 0.3572 - accuracy: 0.8714\n",
            "[0.3572372794151306, 0.871399998664856]\n"
          ],
          "name": "stdout"
        }
      ]
    },
    {
      "cell_type": "code",
      "metadata": {
        "colab": {
          "base_uri": "https://localhost:8080/"
        },
        "id": "PX5X1okf9pKE",
        "outputId": "7ed1f31f-2bca-4686-a16a-04e69149f7cf"
      },
      "source": [
        "predicted = cnn_model.predict_classes(x_test)"
      ],
      "execution_count": null,
      "outputs": [
        {
          "output_type": "stream",
          "text": [
            "/usr/local/lib/python3.7/dist-packages/keras/engine/sequential.py:450: UserWarning: `model.predict_classes()` is deprecated and will be removed after 2021-01-01. Please use instead:* `np.argmax(model.predict(x), axis=-1)`,   if your model does multi-class classification   (e.g. if it uses a `softmax` last-layer activation).* `(model.predict(x) > 0.5).astype(\"int32\")`,   if your model does binary classification   (e.g. if it uses a `sigmoid` last-layer activation).\n",
            "  warnings.warn('`model.predict_classes()` is deprecated and '\n"
          ],
          "name": "stderr"
        }
      ]
    }
  ]
}