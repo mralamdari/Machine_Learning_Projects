{
  "nbformat": 4,
  "nbformat_minor": 0,
  "metadata": {
    "colab": {
      "provenance": [],
      "collapsed_sections": [
        "AOIhK7VjyUwQ",
        "R9UDAmpByTIe"
      ],
      "authorship_tag": "ABX9TyOha1WONLcE6tKndQZNzff5",
      "include_colab_link": true
    },
    "kernelspec": {
      "name": "python3",
      "display_name": "Python 3"
    },
    "language_info": {
      "name": "python"
    }
  },
  "cells": [
    {
      "cell_type": "markdown",
      "metadata": {
        "id": "view-in-github",
        "colab_type": "text"
      },
      "source": [
        "<a href=\"https://colab.research.google.com/github/mralamdari/Machine_Learning_Projects/blob/main/Draw_Numbers.ipynb\" target=\"_parent\"><img src=\"https://colab.research.google.com/assets/colab-badge.svg\" alt=\"Open In Colab\"/></a>"
      ]
    },
    {
      "cell_type": "markdown",
      "source": [
        "#1"
      ],
      "metadata": {
        "id": "AOIhK7VjyUwQ"
      }
    },
    {
      "cell_type": "code",
      "execution_count": null,
      "metadata": {
        "id": "b2Gu2slItPV0"
      },
      "outputs": [],
      "source": [
        "import pygame, sys\n",
        "import os, numpy as np\n",
        "from tkinter import *\n",
        "from tkinter import messagebox\n",
        "import tensorflow as tf\n",
        "\n",
        "class pixel(object):\n",
        "    def __init__(self, x, y, width, height):\n",
        "        self.x = x\n",
        "        self.y = y\n",
        "        self.width = width\n",
        "        self.height = height\n",
        "        self.color = (255, 255, 255)\n",
        "        self.neighbors = []\n",
        "\n",
        "    def draw(self, surface):\n",
        "        pygame.draw.rect(surface, self.color, (self.x, self.y, self.width + self.x, self.y + height))\n",
        "\n",
        "    def getNeighbors(self, g):\n",
        "        j = self.x // 20\n",
        "        i = self.y // 20\n",
        "        rows = cols = 28\n",
        "\n",
        "        # Horizontal and vertical neighbors\n",
        "        if i < cols - 1:  # Right\n",
        "            self.neighbors.append(g.pixels[i + 1][j])\n",
        "        if i > 0:  # Left\n",
        "            self.neighbors.append(g.pixels[i - 1][j])\n",
        "        if j < rows - 1:  # Up\n",
        "            self.neighbors.append(g.pixels[i][j + 1])\n",
        "        if j > 0:  # Down\n",
        "            self.neighbors.append(g.pixels[i][j - 1])\n",
        "\n",
        "        # Diagonal neighbors\n",
        "        if j > 0 and i > 0:  # Top Left\n",
        "            self.neighbors.append(g.pixels[i - 1][j - 1])\n",
        "\n",
        "        if j + 1 < rows and i > -1 and i - 1 > 0:  # Bottom Left\n",
        "            self.neighbors.append(g.pixels[i - 1][j + 1])\n",
        "\n",
        "        if j - 1 < rows and i < cols - 1 and j - 1 > 0:  # Top Right\n",
        "            self.neighbors.append(g.pixels[i + 1][j - 1])\n",
        "\n",
        "        if j < rows - 1 and i < cols - 1:  # Bottom Right\n",
        "            self.neighbors.append(g.pixels[i + 1][j + 1])\n",
        "\n",
        "\n",
        "class grid(object):\n",
        "    pixels = []\n",
        "\n",
        "    def __init__(self, row, col, width, height):\n",
        "        self.rows = row\n",
        "        self.cols = col\n",
        "        self.width = width\n",
        "        self.len = row * col\n",
        "        self.height = height\n",
        "        self.generatePixles()\n",
        "        pass\n",
        "\n",
        "    def draw(self, surface):\n",
        "        for row in self.pixels:\n",
        "            for col in row:\n",
        "                col.draw(surface)\n",
        "\n",
        "    def generatePixles(self):\n",
        "        x_gap = self.width // self.cols\n",
        "        y_gap = self.height // self.rows\n",
        "        self.pixels = []\n",
        "        for r in range(self.rows):\n",
        "            self.pixels.append([])\n",
        "            for c in range(self.cols):\n",
        "                self.pixels[r].append(pixel(x_gap * c, y_gap * r, x_gap, y_gap))\n",
        "\n",
        "        for r in range(self.rows):\n",
        "            for c in range(self.cols):\n",
        "                self.pixels[r][c].getNeighbors(self)\n",
        "\n",
        "    def clicked(self, pos):\n",
        "        try:\n",
        "            t = pos[0]\n",
        "            w = pos[1]\n",
        "            g1 = int(t) // self.pixels[0][0].width\n",
        "            g2 = int(w) // self.pixels[0][0].height\n",
        "            return self.pixels[g2][g1]\n",
        "        except:\n",
        "            pass\n",
        "\n",
        "\n",
        "    def convert_binary(self):\n",
        "        li = self.pixels\n",
        "        mat = np.zeros(shape=(1, 28, 28))\n",
        "        for i in range(len(li)):\n",
        "            for j in range(len(li[i])):\n",
        "                if li[i][j].color != (255, 255, 255):\n",
        "                    mat[0][i][j] = 1\n",
        "        return mat\n",
        "\n",
        "\n",
        "def guess(li):\n",
        "    num_list = [\"zero\", \"one\", \"two\", \"three\", \"four\", \"five\", \"six\", \"seven\", \"eight\", \"nine\"]\n",
        "    model = tf.keras.models.load_model(\"Final_Model.h5\")\n",
        "    pred = model.predict(li)\n",
        "    t = tf.argmax(pred[0])\n",
        "    print(f\"As my prediction, The number you entered is: {num_list[t].capitalize()}\")\n",
        "    window = Tk()\n",
        "    window.withdraw()\n",
        "    messagebox.showinfo(\"Prediction\", f\"As my prediction, The number you entered is: {num_list[t].capitalize()} ===> {t}\")\n",
        "    window.destroy()\n",
        "\n",
        "def main():\n",
        "    run = True\n",
        "\n",
        "    while run:\n",
        "        for event in pygame.event.get():\n",
        "            if event.type == pygame.QUIT:\n",
        "                run = False\n",
        "            if event.type == pygame.KEYDOWN:\n",
        "                li = g.convert_binary()\n",
        "                guess(li)\n",
        "                g.generatePixles()\n",
        "            if pygame.mouse.get_pressed()[0]:\n",
        "                pos = pygame.mouse.get_pos()\n",
        "                clicked = g.clicked(pos)\n",
        "                clicked.color=(0, 0, 255)\n",
        "                for o in clicked.neighbors:\n",
        "                    o.color=(0, 0, 255)\n",
        "            if pygame.mouse.get_pressed()[2]:\n",
        "                try:\n",
        "                    pos = pygame.mouse.get_pos()\n",
        "                    cliked = g.cliked(pos)\n",
        "                    clicked.color = (255, 255, 255)\n",
        "                except:\n",
        "                    pass\n",
        "        g.draw(win)\n",
        "        pygame.display.update()\n",
        "\n",
        "pygame.init()\n",
        "width = height = 560\n",
        "win = pygame.display.set_mode((width, height))\n",
        "pygame.display.set_caption(\"E.F.A Number Guesser\")\n",
        "g = grid(28, 28, width, height)\n",
        "main()\n",
        "pygame.quit()\n",
        "\n",
        "quit()\n"
      ]
    },
    {
      "cell_type": "code",
      "source": [
        "import numpy as np\n",
        "import sklearn\n",
        "from sklearn import datasets\n",
        "from sklearn import ensemble\n",
        "from sklearn import model_selection\n",
        "\n",
        "import matplotlib.pyplot as plt\n",
        "\n",
        "mnist = datasets.fetch_openml('mnist_784', version=1)\n",
        "\n",
        "mnist.feature_names\n",
        "\n",
        "x, y = mnist.data, mnist.target\n",
        "\n",
        "X = np.nan_to_num(x, copy=True)\n",
        "X.shape\n",
        "\n",
        "x_train, x_test, y_train, y_test = sklearn.model_selection.train_test_split(x, y, random_state=77, test_size=0.2)\n",
        "\n",
        "def standardization(x):\n",
        "    return (x - np.mean(x, axis=0)) / np.std(x, axis=0)\n",
        "\n",
        "x_train_std = standardization(x_train)\n",
        "x_test_std  = standardization(x_test)\n",
        "\n",
        "x_train = np.nan_to_num(x_train_std)\n",
        "x_test  = np.nan_to_num(x_test_std)\n",
        "\n",
        "clf = sklearn.ensemble.RandomForestClassifier()\n",
        "\n",
        "clf.fit(x_train, y_train)\n",
        "\n",
        "pred = clf.predict(x_test)\n",
        "\n",
        "score= sklearn.metrics.accuracy_score(y_test, pred)\n",
        "\n",
        "print(f'The Validation Score: %{100*score:.2f}')\n",
        "\n",
        "# rand_ind = np.random.randint(0, len(x_test), 16)\n",
        "\n",
        "fig, axs = plt.subplots(4, 4, figsize=(12, 12))\n",
        "# plt.gray()\n",
        "\n",
        "for r, ax in zip(rand_ind, axs.flat):\n",
        "\n",
        "    ax.set_title(y_test.values[r])\n",
        "    ax.matshow(x_test[r].reshape(28, 28))\n",
        "    ax.axis('off')\n",
        "\n",
        "fig.show()\n",
        "\n",
        "\"\"\"# Deep Learning Approch\"\"\"\n",
        "\n",
        "import torch\n",
        "import torchvision\n",
        "\n",
        "input_size=784     # Each Image has 784 features(pixels) 784 = 28*28\n",
        "out_size=10        # 10 Numbers\n",
        "epochs=10          # Iterations\n",
        "batch_size=100\n",
        "learning_rate=0.001\n",
        "\n",
        "mean_gray = 0.1307\n",
        "std_grey  = 0.3081\n",
        "\n",
        "transforms = torchvision.transforms.Compose([torchvision.transforms.ToTensor(),\n",
        "                                             torchvision.transforms.Normalize((mean_gray, ), (std_grey, ))])\n",
        "\n",
        "train_ds = torchvision.datasets.MNIST(root='/data',\n",
        "                                      train = True,\n",
        "                                      transform = torchvision.transforms.ToTensor(),\n",
        "                                      download=True)\n",
        "\n",
        "test_ds = torchvision.datasets.MNIST(root='/data',\n",
        "                                      train=False,\n",
        "                                      transform = torchvision.transforms.ToTensor(),\n",
        "                                      download=True)\n",
        "\n",
        "train_loader = torch.utils.data.DataLoader(train_ds,\n",
        "                                           batch_size=batch_size,\n",
        "                                           shuffle=True)\n",
        "\n",
        "test_loader = torch.utils.data.DataLoader(test_ds,\n",
        "                                          batch_size=batch_size,\n",
        "                                          shuffle=False)\n",
        "\n",
        "class Net(torch.nn.Module):\n",
        "  def __init__(self):\n",
        "    super(Net, self).__init__()\n",
        "    self.conv1 = torch.nn.Conv2d(in_channels=1, out_channels=8, kernel_size=3, stride=1, padding=1)\n",
        "    self.batchnorm1 = torch.nn.BatchNorm2d(8)\n",
        "    self.relu = torch.nn.ReLU()\n",
        "    self.maxpool = torch.nn.MaxPool2d(kernel_size=2)\n",
        "    self.conv2 = torch.nn.Conv2d(in_channels=8, out_channels=32, kernel_size=5, stride=1, padding=2)\n",
        "    self.batchnorm2 = torch.nn.BatchNorm2d(32)\n",
        "    self.fc1 = torch.nn.Linear(32*7*7, 600)\n",
        "    self.dropout = torch.nn.Dropout(p=0.5)\n",
        "    self.fc2 = torch.nn.Linear(600, 100)\n",
        "\n",
        "  def forward(self, x):\n",
        "    out = self.conv1(x)\n",
        "    out = self.batchnorm1(out)\n",
        "    out = self.relu(out)\n",
        "    out = self.maxpool(out)\n",
        "    out = self.conv2(out)\n",
        "    out = self.batchnorm2(out)\n",
        "    out = self.relu(out)\n",
        "    out = self.maxpool(out)\n",
        "\n",
        "    out = out.view(-1, 1568)\n",
        "\n",
        "    out = self.fc1(out)\n",
        "    out = self.dropout(out)\n",
        "    out = self.fc2(out)\n",
        "    return out\n",
        "\n",
        "model = Net()\n",
        "device = 'cuda' if torch.cuda.is_available() else 'cpu'\n",
        "model = model.to(device)\n",
        "\n",
        "loss_fn = torch.nn.CrossEntropyLoss()\n",
        "\n",
        "optimizer = torch.optim.Adam(model.parameters(), lr=0.01)\n",
        "\n",
        "num_epochs=20\n",
        "train_loss = []\n",
        "train_accuracy = []\n",
        "test_loss = []\n",
        "test_accuracy = []\n",
        "\n",
        "for epoch in range(num_epochs):\n",
        "  correct = 0\n",
        "  iterations = 0\n",
        "  iter_loss = 0.0\n",
        "\n",
        "  # Training Part\n",
        "  model.train()\n",
        "  for i, (inputs, labels) in enumerate(train_loader):\n",
        "    inputs = inputs.to(device)\n",
        "    labels = labels.to(device)\n",
        "    outputs = model(inputs)\n",
        "    loss = loss_fn(outputs, labels)\n",
        "    iter_loss += loss.item()\n",
        "    optimizer.zero_grad()\n",
        "    loss.backward()\n",
        "    optimizer.step()\n",
        "\n",
        "    _, pred = torch.max(outputs, 1)\n",
        "    correct += (pred == labels).sum().item()\n",
        "    iterations += 1\n",
        "\n",
        "  train_loss.append(iter_loss/iterations)\n",
        "  train_accuracy.append(100 * correct/ len(train_ds))\n",
        "\n",
        "  # Validation Part\n",
        "  t_loss = 0.0\n",
        "  correct = 0\n",
        "  iterations = 0\n",
        "  model.eval()\n",
        "  for i, (inputs, labels) in enumerate(test_loader):\n",
        "    inputs = inputs.to(device)\n",
        "    labels = labels.to(device)\n",
        "\n",
        "    outputs = model(inputs)\n",
        "    loss = loss_fn(outputs, labels)\n",
        "    t_loss += loss.item()\n",
        "    _, pred = torch.max(outputs, 1) #(100, 10)  ==> 10 is in index 1\n",
        "    correct += (pred == labels).sum().item()\n",
        "    iterations += 1\n",
        "\n",
        "  test_loss.append(t_loss/iterations)\n",
        "  test_accuracy.append(100*correct/len(test_ds))\n",
        "\n",
        "\n",
        "  print(f'epoch: {epoch+1}, Training Loss: {train_loss[-1]:.3f}, Training Accuracy: %{train_accuracy[-1]:.3f}, Test Loss: {test_loss[-1]:.3f}, Test Accuracy:% {test_accuracy[-1]:.3f}')\n",
        "\n",
        "def plot_curves(train_arr, test_arr, title=\"Accuracy\"):\n",
        "  epochs = range(1, len(test_arr)+1)\n",
        "  plt.figure()\n",
        "  plt.title(title)\n",
        "  plt.plot(epochs, train_arr, label=\"Training\")\n",
        "  plt.plot(epochs, test_arr, label=\"Testing\")\n",
        "  plt.legend()\n",
        "  plt.show()\n",
        "\n",
        "plot_curves(train_loss, test_loss, 'Loss')\n",
        "\n",
        "plot_curves(train_accuracy, test_accuracy)\n",
        "\n"
      ],
      "metadata": {
        "id": "b43TVmwbtWK2"
      },
      "execution_count": null,
      "outputs": []
    },
    {
      "cell_type": "markdown",
      "source": [
        "#2"
      ],
      "metadata": {
        "id": "R9UDAmpByTIe"
      }
    },
    {
      "cell_type": "code",
      "source": [
        "!pip install gradio"
      ],
      "metadata": {
        "id": "cd7NNdU_wYTQ"
      },
      "execution_count": null,
      "outputs": []
    },
    {
      "cell_type": "code",
      "source": [
        "def greet(name):\n",
        "  return \"Hello \" + name + \"!\"\n",
        "\n",
        "greet(\"World\")"
      ],
      "metadata": {
        "colab": {
          "base_uri": "https://localhost:8080/",
          "height": 36
        },
        "id": "A5iWFvp8wJxj",
        "outputId": "d2cc98c9-4cda-4c08-8a37-3703500bddc1"
      },
      "execution_count": null,
      "outputs": [
        {
          "output_type": "execute_result",
          "data": {
            "text/plain": [
              "'Hello World!'"
            ],
            "application/vnd.google.colaboratory.intrinsic+json": {
              "type": "string"
            }
          },
          "metadata": {},
          "execution_count": 7
        }
      ]
    },
    {
      "cell_type": "code",
      "source": [
        "# !pip install typing-extensions --upgrade\n",
        "# !pip uninstall typing-extensions\n",
        "# !pip install -U typing-extensions"
      ],
      "metadata": {
        "id": "XdBPdvC0zZ39"
      },
      "execution_count": null,
      "outputs": []
    },
    {
      "cell_type": "code",
      "source": [
        "import numpy as np\n",
        "import gradio as gr\n",
        "\n",
        "def sepia(input_img):\n",
        "    sepia_filter = np.array([\n",
        "        [0.393, 0.769, 0.189],\n",
        "        [0.349, 0.686, 0.168],\n",
        "        [0.272, 0.534, 0.131]\n",
        "    ])\n",
        "    sepia_img = input_img.dot(sepia_filter.T)\n",
        "    sepia_img /= sepia_img.max()\n",
        "    return sepia_img\n",
        "\n",
        "demo = gr.Interface(sepia, gr.Image(type=\"pil\"), \"image\")\n",
        "demo.launch(share=False)"
      ],
      "metadata": {
        "id": "KLLCfr21wab-"
      },
      "execution_count": 3,
      "outputs": []
    },
    {
      "cell_type": "code",
      "source": [
        "import gradio as gr\n",
        "\n",
        "def greet(name):\n",
        "    return \"Hello \" + name + \"!\"\n",
        "\n",
        "demo = gr.Interface(\n",
        "    fn=greet,\n",
        "    inputs=gr.Textbox(lines=2, placeholder=\"Name Here...\"),\n",
        "    outputs=\"text\",\n",
        ")\n",
        "# demo.launch(share=False)"
      ],
      "metadata": {
        "id": "yJfQhmV8whVY"
      },
      "execution_count": null,
      "outputs": []
    },
    {
      "cell_type": "code",
      "source": [
        "import gradio as gr\n",
        "\n",
        "def greet(name, is_morning, temperature):\n",
        "    salutation = \"Good morning\" if is_morning else \"Good evening\"\n",
        "    greeting = f\"{salutation} {name}. It is {temperature} degrees today\"\n",
        "    celsius = (temperature - 32) * 5 / 9\n",
        "    return greeting, round(celsius, 2)\n",
        "\n",
        "demo = gr.Interface(\n",
        "    fn=greet,\n",
        "    inputs=[\"text\", \"checkbox\", gr.Slider(0, 100)],\n",
        "    outputs=[\"text\", \"number\"],\n",
        ")\n",
        "demo.launch()"
      ],
      "metadata": {
        "id": "IN5o4gH0wfs4"
      },
      "execution_count": null,
      "outputs": []
    },
    {
      "cell_type": "code",
      "source": [
        "import numpy as np\n",
        "import gradio as gr\n",
        "\n",
        "def sepia(input_img):\n",
        "    sepia_filter = np.array([\n",
        "        [0.393, 0.769, 0.189],\n",
        "        [0.349, 0.686, 0.168],\n",
        "        [0.272, 0.534, 0.131]\n",
        "    ])\n",
        "    sepia_img = input_img.dot(sepia_filter.T)\n",
        "    sepia_img /= sepia_img.max()\n",
        "    return sepia_img\n",
        "\n",
        "demo = gr.Interface(sepia, gr.Image(type=\"filepath\", shape=...), \"image\")\n",
        "demo.launch()"
      ],
      "metadata": {
        "id": "t0LgIokhwfqM"
      },
      "execution_count": null,
      "outputs": []
    },
    {
      "cell_type": "code",
      "source": [
        "gr.Image(type=\"filepath\", shape=...)\n",
        "img = gr.Image(shape=(100, 100), type=\"pil\")\n",
        "img = gr.Image(invert_colors=True, type=\"numpy\")\n",
        "demo = gr.Interface(..., theme=gr.themes.Monochrome())\n"
      ],
      "metadata": {
        "id": "QkKDEMxXwqyv"
      },
      "execution_count": null,
      "outputs": []
    },
    {
      "cell_type": "code",
      "source": [
        "import gradio as gr\n",
        "import time\n",
        "\n",
        "def slowly_reverse(word, progress=gr.Progress()):\n",
        "    progress(0, desc=\"Starting\")\n",
        "    time.sleep(1)\n",
        "    progress(0.05)\n",
        "    new_string = \"\"\n",
        "    for letter in progress.tqdm(word, desc=\"Reversing\"):\n",
        "        time.sleep(0.25)\n",
        "        new_string = letter + new_string\n",
        "    return new_string\n",
        "\n",
        "demo = gr.Interface(slowly_reverse, gr.Text(), gr.Text())\n",
        "\n",
        "demo.launch(share=False)\n"
      ],
      "metadata": {
        "id": "e4gn3nO0x8d7"
      },
      "execution_count": 6,
      "outputs": []
    },
    {
      "cell_type": "code",
      "source": [
        "import gradio as gr\n",
        "import numpy as np\n",
        "import time\n",
        "\n",
        "# define core fn, which returns a generator {steps} times before returning the image\n",
        "def fake_diffusion(steps):\n",
        "    for _ in range(steps):\n",
        "        time.sleep(1)\n",
        "        image = np.random.random((600, 600, 3))\n",
        "        yield image\n",
        "    image = np.ones((1000,1000,3), np.uint8)\n",
        "    image[:] = [255, 124, 0]\n",
        "    yield image\n",
        "\n",
        "\n",
        "demo = gr.Interface(fake_diffusion, inputs=gr.Slider(1, 10, 3), outputs=\"image\")\n",
        "\n",
        "# define queue - required for generators\n",
        "demo.queue()\n",
        "\n",
        "demo.launch()\n"
      ],
      "metadata": {
        "id": "OXV4tzRfx4KP"
      },
      "execution_count": null,
      "outputs": []
    },
    {
      "cell_type": "code",
      "source": [
        "import random\n",
        "import gradio as gr\n",
        "\n",
        "def random_response(message, history):\n",
        "    return random.choice([\"Yes\", \"No\"])\n",
        "\n",
        "demo = gr.ChatInterface(random_response)\n",
        "\n",
        "demo.launch()"
      ],
      "metadata": {
        "id": "Z-mPYrJvw8pI"
      },
      "execution_count": null,
      "outputs": []
    },
    {
      "cell_type": "code",
      "source": [
        "import gradio as gr\n",
        "\n",
        "\n",
        "def greet(name):\n",
        "    return \"Hello \" + name + \"!\"\n",
        "\n",
        "\n",
        "with gr.Blocks() as demo:\n",
        "    name = gr.Textbox(label=\"Name\")\n",
        "    output = gr.Textbox(label=\"Output Box\")\n",
        "    greet_btn = gr.Button(\"Greet\")\n",
        "    greet_btn.click(fn=greet, inputs=name, outputs=output, api_name=\"greet\")\n",
        "\n",
        "demo.launch()"
      ],
      "metadata": {
        "id": "G6Uudl73w8mw"
      },
      "execution_count": null,
      "outputs": []
    },
    {
      "cell_type": "code",
      "source": [
        "import numpy as np\n",
        "import gradio as gr\n",
        "\n",
        "\n",
        "def flip_text(x):\n",
        "    return x[::-1]\n",
        "\n",
        "\n",
        "def flip_image(x):\n",
        "    return np.fliplr(x)\n",
        "\n",
        "\n",
        "with gr.Blocks() as demo:\n",
        "    gr.Markdown(\"Flip text or image files using this demo.\")\n",
        "    with gr.Tab(\"Flip Text\"):\n",
        "        text_input = gr.Textbox()\n",
        "        text_output = gr.Textbox()\n",
        "        text_button = gr.Button(\"Flip\")\n",
        "    with gr.Tab(\"Flip Image\"):\n",
        "        with gr.Row():\n",
        "            image_input = gr.Image()\n",
        "            image_output = gr.Image()\n",
        "        image_button = gr.Button(\"Flip\")\n",
        "\n",
        "    with gr.Accordion(\"Open for More!\"):\n",
        "        gr.Markdown(\"Look at me...\")\n",
        "\n",
        "    text_button.click(flip_text, inputs=text_input, outputs=text_output)\n",
        "    image_button.click(flip_image, inputs=image_input, outputs=image_output)\n",
        "\n",
        "demo.launch()"
      ],
      "metadata": {
        "id": "AAQ9tPSPxHmZ"
      },
      "execution_count": null,
      "outputs": []
    },
    {
      "cell_type": "code",
      "source": [
        "import gradio as gr\n",
        "#from foo import BAR\n",
        "#\n",
        "def calculator(num1, operation, num2):\n",
        "    if operation == \"add\":\n",
        "        return num1 + num2\n",
        "    elif operation == \"subtract\":\n",
        "        return num1 - num2\n",
        "    elif operation == \"multiply\":\n",
        "        return num1 * num2\n",
        "    elif operation == \"divide\":\n",
        "        if num2 == 0:\n",
        "            raise gr.Error(\"Cannot divide by zero!\")\n",
        "        return num1 / num2\n",
        "\n",
        "demo = gr.Interface(\n",
        "    calculator,\n",
        "    [\n",
        "        \"number\",\n",
        "        gr.Radio([\"add\", \"subtract\", \"multiply\", \"divide\"]),\n",
        "        \"number\"\n",
        "    ],\n",
        "    \"number\",\n",
        "    examples=[\n",
        "        [45, \"add\", 3],\n",
        "        [3.14, \"divide\", 2],\n",
        "        [144, \"multiply\", 2.5],\n",
        "        [0, \"subtract\", 1.2],\n",
        "    ],\n",
        "    title=\"Toy Calculator\",\n",
        "    description=\"Here's a sample toy calculator. Allows you to calculate things like $2+2=4$\",\n",
        ")\n",
        "\n",
        "demo.launch()\n"
      ],
      "metadata": {
        "id": "SODeWoCmxXdu"
      },
      "execution_count": null,
      "outputs": []
    },
    {
      "cell_type": "markdown",
      "source": [
        "#3"
      ],
      "metadata": {
        "id": "1tZTPVYOKcRD"
      }
    },
    {
      "cell_type": "code",
      "source": [
        "import numpy as np\n",
        "import tensorflow as tf\n",
        "\n",
        "(x_train, y_train), (x_test, y_test) = tf.keras.datasets.mnist.load_data()\n",
        "\n",
        "x_train = np.expand_dims(x_train, axis=-1) / 255\n",
        "x_test  = np.expand_dims(x_test , axis=-1) / 255\n",
        "\n",
        "y_train = tf.keras.utils.to_categorical(y=y_train, num_classes=10)\n",
        "y_test  = tf.keras.utils.to_categorical(y=y_test , num_classes=10)\n",
        "\n",
        "x_train.shape, y_train.shape, x_test.shape, y_test.shape"
      ],
      "metadata": {
        "colab": {
          "base_uri": "https://localhost:8080/"
        },
        "id": "kG36zqNEKc7U",
        "outputId": "c76f4584-2c51-4512-8d12-9937b301d9e8"
      },
      "execution_count": 46,
      "outputs": [
        {
          "output_type": "execute_result",
          "data": {
            "text/plain": [
              "((60000, 28, 28, 1), (60000, 10), (10000, 28, 28, 1), (10000, 10))"
            ]
          },
          "metadata": {},
          "execution_count": 46
        }
      ]
    },
    {
      "cell_type": "code",
      "source": [
        "model = tf.keras.models.Sequential([\n",
        "    tf.keras.layers.Conv2D(filters=16, kernel_size=3, strides=1, padding='valid', activation='relu', input_shape=(28, 28, 1)),\n",
        "    # tf.keras.layers.BatchNormalization(),\n",
        "    tf.keras.layers.Conv2D(filters=32, kernel_size=3, strides=1, padding='valid', activation='relu'),\n",
        "    # tf.keras.layers.BatchNormalization(),\n",
        "    tf.keras.layers.Conv2D(filters=32, kernel_size=3, strides=2, padding='valid', activation='relu'),\n",
        "    tf.keras.layers.GlobalAveragePooling2D(),\n",
        "    tf.keras.layers.Dense(10, activation='softmax')\n",
        "])\n",
        "model.summary()"
      ],
      "metadata": {
        "colab": {
          "base_uri": "https://localhost:8080/"
        },
        "id": "6vfy0M0XKk58",
        "outputId": "4c8b4f60-1b36-420d-893d-ce650d01b77a"
      },
      "execution_count": 60,
      "outputs": [
        {
          "output_type": "stream",
          "name": "stdout",
          "text": [
            "Model: \"sequential_10\"\n",
            "_________________________________________________________________\n",
            " Layer (type)                Output Shape              Param #   \n",
            "=================================================================\n",
            " conv2d_29 (Conv2D)          (None, 26, 26, 16)        160       \n",
            "                                                                 \n",
            " conv2d_30 (Conv2D)          (None, 24, 24, 32)        4640      \n",
            "                                                                 \n",
            " conv2d_31 (Conv2D)          (None, 11, 11, 32)        9248      \n",
            "                                                                 \n",
            " global_average_pooling2d_9  (None, 32)                0         \n",
            "  (GlobalAveragePooling2D)                                       \n",
            "                                                                 \n",
            " dense_9 (Dense)             (None, 10)                330       \n",
            "                                                                 \n",
            "=================================================================\n",
            "Total params: 14378 (56.16 KB)\n",
            "Trainable params: 14378 (56.16 KB)\n",
            "Non-trainable params: 0 (0.00 Byte)\n",
            "_________________________________________________________________\n"
          ]
        }
      ]
    },
    {
      "cell_type": "code",
      "source": [
        "model.compile(optimizer=tf.keras.optimizers.Adamax(),\n",
        "             loss=tf.keras.losses.CategoricalCrossentropy(),\n",
        "             metrics=['accuracy'])\n",
        "\n",
        "history=model.fit(x=x_train,\n",
        "          y=y_train,\n",
        "          batch_size=32,\n",
        "          epochs=20,\n",
        "          verbose=1,\n",
        "          validation_data=(x_test, y_test))"
      ],
      "metadata": {
        "colab": {
          "base_uri": "https://localhost:8080/"
        },
        "id": "s98wdR-ULOE3",
        "outputId": "f86e523a-4142-4887-905d-08e0d2432816"
      },
      "execution_count": null,
      "outputs": [
        {
          "output_type": "stream",
          "name": "stdout",
          "text": [
            "Epoch 1/20\n",
            "1875/1875 [==============================] - 79s 41ms/step - loss: 0.3204 - accuracy: 0.9076 - val_loss: 0.2707 - val_accuracy: 0.9236\n",
            "Epoch 2/20\n",
            "1875/1875 [==============================] - 74s 40ms/step - loss: 0.3054 - accuracy: 0.9110 - val_loss: 0.2894 - val_accuracy: 0.9099\n",
            "Epoch 3/20\n",
            "1850/1875 [============================>.] - ETA: 0s - loss: 0.2912 - accuracy: 0.9156"
          ]
        }
      ]
    },
    {
      "cell_type": "code",
      "source": [
        "(y_train[0] * 8 )/23\n",
        "y_train[0]"
      ],
      "metadata": {
        "colab": {
          "base_uri": "https://localhost:8080/"
        },
        "id": "XvoM670gOzUp",
        "outputId": "734b4bd3-cd95-48fe-983d-0b7804b68f40"
      },
      "execution_count": 59,
      "outputs": [
        {
          "output_type": "execute_result",
          "data": {
            "text/plain": [
              "array([0., 0., 0., 0., 0., 1., 0., 0., 0., 0.], dtype=float32)"
            ]
          },
          "metadata": {},
          "execution_count": 59
        }
      ]
    }
  ]
}