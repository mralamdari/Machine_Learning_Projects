{
  "nbformat": 4,
  "nbformat_minor": 0,
  "metadata": {
    "colab": {
      "provenance": [],
      "authorship_tag": "ABX9TyNLNj4nAlZJrKIIvt1cd5R1",
      "include_colab_link": true
    },
    "kernelspec": {
      "name": "python3",
      "display_name": "Python 3"
    },
    "language_info": {
      "name": "python"
    }
  },
  "cells": [
    {
      "cell_type": "markdown",
      "metadata": {
        "id": "view-in-github",
        "colab_type": "text"
      },
      "source": [
        "<a href=\"https://colab.research.google.com/github/mralamdari/Machine_Learning_Projects/blob/main/Grammer_Checker.ipynb\" target=\"_parent\"><img src=\"https://colab.research.google.com/assets/colab-badge.svg\" alt=\"Open In Colab\"/></a>"
      ]
    },
    {
      "cell_type": "code",
      "source": [
        "import os\n",
        "from IPython.display import clear_output"
      ],
      "metadata": {
        "id": "yXAMCqRv754J"
      },
      "execution_count": 2,
      "outputs": []
    },
    {
      "cell_type": "markdown",
      "source": [
        "##[Gramformer](https://github.com/PrithivirajDamodaran/Gramformer)"
      ],
      "metadata": {
        "id": "znaBCVsF9Omf"
      }
    },
    {
      "cell_type": "code",
      "execution_count": 3,
      "metadata": {
        "id": "xxbEyL5X9XW3"
      },
      "outputs": [],
      "source": [
        "!pip install -U git+https://github.com/PrithivirajDamodaran/Gramformer.git\n",
        "clear_output()"
      ]
    },
    {
      "cell_type": "code",
      "source": [
        "import gramformer"
      ],
      "metadata": {
        "id": "x4yl2Jvm7wUS"
      },
      "execution_count": 4,
      "outputs": []
    },
    {
      "cell_type": "code",
      "source": [
        "# models: 0:detector, 1:highlighter, 2:corrector, 3:all\n",
        "gf = gramformer.Gramformer(models=3, use_gpu=True)"
      ],
      "metadata": {
        "id": "SaP2tUYv8XPC"
      },
      "execution_count": null,
      "outputs": []
    }
  ]
}