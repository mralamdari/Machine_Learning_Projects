{
  "cells": [
    {
      "cell_type": "markdown",
      "metadata": {
        "id": "view-in-github",
        "colab_type": "text"
      },
      "source": [
        "<a href=\"https://colab.research.google.com/github/mralamdari/Machine_Learning_Projects/blob/main/Grammer_Checker.ipynb\" target=\"_parent\"><img src=\"https://colab.research.google.com/assets/colab-badge.svg\" alt=\"Open In Colab\"/></a>"
      ]
    },
    {
      "cell_type": "code",
      "execution_count": null,
      "metadata": {
        "id": "yXAMCqRv754J"
      },
      "outputs": [],
      "source": [
        "import os\n",
        "from IPython.display import clear_output"
      ]
    },
    {
      "cell_type": "markdown",
      "metadata": {
        "id": "znaBCVsF9Omf"
      },
      "source": [
        "##[Gramformer](https://github.com/PrithivirajDamodaran/Gramformer)"
      ]
    },
    {
      "cell_type": "code",
      "execution_count": null,
      "metadata": {
        "id": "xxbEyL5X9XW3"
      },
      "outputs": [],
      "source": [
        "!pip install -U git+https://github.com/PrithivirajDamodaran/Gramformer.git\n",
        "clear_output()"
      ]
    },
    {
      "cell_type": "code",
      "source": [
        "!pip install -U pip setuptools wheel"
      ],
      "metadata": {
        "id": "v5l3R9vRExMU"
      },
      "execution_count": null,
      "outputs": []
    },
    {
      "cell_type": "code",
      "execution_count": null,
      "metadata": {
        "id": "x4yl2Jvm7wUS"
      },
      "outputs": [],
      "source": [
        "# !python -m spacy download en_core_web_lg\n",
        "# *** restart the colab runtime ***\n",
        "\n",
        "import spacy.cli\n",
        "spacy.cli.download(\"en_core_web_lg\")\n",
        "nlp = spacy.load(\"en_core_web_lg\")"
      ]
    },
    {
      "cell_type": "code",
      "execution_count": null,
      "metadata": {
        "id": "SaP2tUYv8XPC"
      },
      "outputs": [],
      "source": [
        "# models: 0:detector, 1:highlighter, 2:corrector, 3:all\n",
        "from gramformer import Gramformer\n",
        "\n",
        "gf = Gramformer(models=1, use_gpu=False)"
      ]
    },
    {
      "cell_type": "code",
      "execution_count": null,
      "metadata": {
        "id": "ez4zL5Zf9CUZ"
      },
      "outputs": [],
      "source": [
        "gf.correct('I likes to eatt. applees')"
      ]
    },
    {
      "cell_type": "markdown",
      "source": [
        "#2"
      ],
      "metadata": {
        "id": "PN81e37LKAIx"
      }
    },
    {
      "cell_type": "code",
      "execution_count": null,
      "metadata": {
        "id": "GiUBSx928w53"
      },
      "outputs": [],
      "source": [
        "!pip3 install -U git+https://github.com/PrithivirajDamodaran/Gramformer.git\n",
        "!pip install happytransformer\n",
        "clear_output()"
      ]
    },
    {
      "cell_type": "code",
      "source": [
        "from happytransformer import HappyTextToText\n",
        "from happytransformer import TTSettings\n",
        "\n",
        "happy_tt = HappyTextToText(\"T5\",  \"prithivida/grammar_error_correcter_v1\")\n",
        "text = \"gec: \" + \"I likes to eatt. applees\""
      ],
      "metadata": {
        "id": "2GPGrU3xELPf"
      },
      "execution_count": null,
      "outputs": []
    },
    {
      "cell_type": "code",
      "source": [
        "settings = TTSettings(do_sample=True, top_k=10, temperature=0.5,  min_length=1, max_length=100)"
      ],
      "metadata": {
        "id": "bcLfznkGKMpu"
      },
      "execution_count": null,
      "outputs": []
    },
    {
      "cell_type": "code",
      "source": [
        "result = happy_tt.generate_text(text, args=settings)\n",
        "print(result.text)"
      ],
      "metadata": {
        "colab": {
          "base_uri": "https://localhost:8080/"
        },
        "id": "Fm56sYhcKMi-",
        "outputId": "1fb6c05d-1208-4b81-b51a-2b652b37cd08"
      },
      "execution_count": null,
      "outputs": [
        {
          "output_type": "stream",
          "name": "stdout",
          "text": [
            "I like to eat apples.\n"
          ]
        }
      ]
    },
    {
      "cell_type": "markdown",
      "source": [
        "#Gradio"
      ],
      "metadata": {
        "id": "vJJljvzaK3Jj"
      }
    },
    {
      "cell_type": "code",
      "source": [
        "!pip install gradio\n",
        "clear_output()"
      ],
      "metadata": {
        "id": "gO7rWFYJKUFw"
      },
      "execution_count": null,
      "outputs": []
    },
    {
      "cell_type": "code",
      "source": [
        "import gradio as gr"
      ],
      "metadata": {
        "id": "ZC9KETFEK-lq"
      },
      "execution_count": null,
      "outputs": []
    },
    {
      "cell_type": "code",
      "source": [
        "def correct(sentence):\n",
        "  return gf.correct(sentence)[0]"
      ],
      "metadata": {
        "id": "1cYpHtO4LBhN"
      },
      "execution_count": null,
      "outputs": []
    },
    {
      "cell_type": "code",
      "source": [
        "interface = gr.Interface(fn=correct,\n",
        "                         inputs=gr.inputs.Textbox(lines=2, placeholder=\"Enter Sentence here...\"),\n",
        "                         outputs='text',\n",
        "                         title=\"Sup, I\\',m Gramformer\")"
      ],
      "metadata": {
        "colab": {
          "base_uri": "https://localhost:8080/"
        },
        "id": "k7Z-gGqzLYue",
        "outputId": "1cddc7b3-00ec-4c22-a27c-a5c718c03cd9"
      },
      "execution_count": null,
      "outputs": [
        {
          "output_type": "stream",
          "name": "stderr",
          "text": [
            "/usr/local/lib/python3.10/dist-packages/gradio/inputs.py:27: UserWarning: Usage of gradio.inputs is deprecated, and will not be supported in the future, please import your component from gradio.components\n",
            "  warnings.warn(\n",
            "/usr/local/lib/python3.10/dist-packages/gradio/inputs.py:30: UserWarning: `optional` parameter is deprecated, and it has no effect\n",
            "  super().__init__(\n",
            "/usr/local/lib/python3.10/dist-packages/gradio/inputs.py:30: UserWarning: `numeric` parameter is deprecated, and it has no effect\n",
            "  super().__init__(\n"
          ]
        }
      ]
    },
    {
      "cell_type": "code",
      "source": [
        "interface.launch(share=False)"
      ],
      "metadata": {
        "colab": {
          "base_uri": "https://localhost:8080/",
          "height": 651
        },
        "id": "U1FuaruQL6gs",
        "outputId": "1aed0588-fd93-411a-beee-14d8a1c58139"
      },
      "execution_count": null,
      "outputs": [
        {
          "output_type": "stream",
          "name": "stdout",
          "text": [
            "Rerunning server... use `close()` to stop if you need to change `launch()` parameters.\n",
            "----\n",
            "Colab notebook detected. To show errors in colab notebook, set debug=True in launch()\n",
            "Note: opening Chrome Inspector may crash demo inside Colab notebooks.\n",
            "\n",
            "To create a public link, set `share=True` in `launch()`.\n"
          ]
        },
        {
          "output_type": "display_data",
          "data": {
            "text/plain": [
              "<IPython.core.display.Javascript object>"
            ],
            "application/javascript": [
              "(async (port, path, width, height, cache, element) => {\n",
              "                        if (!google.colab.kernel.accessAllowed && !cache) {\n",
              "                            return;\n",
              "                        }\n",
              "                        element.appendChild(document.createTextNode(''));\n",
              "                        const url = await google.colab.kernel.proxyPort(port, {cache});\n",
              "\n",
              "                        const external_link = document.createElement('div');\n",
              "                        external_link.innerHTML = `\n",
              "                            <div style=\"font-family: monospace; margin-bottom: 0.5rem\">\n",
              "                                Running on <a href=${new URL(path, url).toString()} target=\"_blank\">\n",
              "                                    https://localhost:${port}${path}\n",
              "                                </a>\n",
              "                            </div>\n",
              "                        `;\n",
              "                        element.appendChild(external_link);\n",
              "\n",
              "                        const iframe = document.createElement('iframe');\n",
              "                        iframe.src = new URL(path, url).toString();\n",
              "                        iframe.height = height;\n",
              "                        iframe.allow = \"autoplay; camera; microphone; clipboard-read; clipboard-write;\"\n",
              "                        iframe.width = width;\n",
              "                        iframe.style.border = 0;\n",
              "                        element.appendChild(iframe);\n",
              "                    })(7860, \"/\", \"100%\", 500, false, window.element)"
            ]
          },
          "metadata": {}
        },
        {
          "output_type": "execute_result",
          "data": {
            "text/plain": []
          },
          "metadata": {},
          "execution_count": 39
        }
      ]
    },
    {
      "cell_type": "code",
      "source": [],
      "metadata": {
        "id": "ZX8FQR4PMMPC"
      },
      "execution_count": null,
      "outputs": []
    }
  ],
  "metadata": {
    "colab": {
      "provenance": [],
      "authorship_tag": "ABX9TyN9yx272rZjCjeCMlOAshw/",
      "include_colab_link": true
    },
    "kernelspec": {
      "display_name": "Python 3",
      "name": "python3"
    },
    "language_info": {
      "name": "python"
    }
  },
  "nbformat": 4,
  "nbformat_minor": 0
}