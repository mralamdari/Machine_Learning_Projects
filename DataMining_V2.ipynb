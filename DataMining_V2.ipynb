{
  "nbformat": 4,
  "nbformat_minor": 0,
  "metadata": {
    "colab": {
      "provenance": [],
      "collapsed_sections": [],
      "mount_file_id": "1-dD5QCU8X6IGaVEm2rEqPlZKFxIZ7MPS",
      "authorship_tag": "ABX9TyP8ofmeLgmzh875DMIm3PXE",
      "include_colab_link": true
    },
    "kernelspec": {
      "display_name": "Python 3",
      "name": "python3"
    },
    "language_info": {
      "name": "python"
    }
  },
  "cells": [
    {
      "cell_type": "markdown",
      "metadata": {
        "id": "view-in-github",
        "colab_type": "text"
      },
      "source": [
        "<a href=\"https://colab.research.google.com/github/mralamdari/Machine_Learning_Projects/blob/main/DataMining_V2.ipynb\" target=\"_parent\"><img src=\"https://colab.research.google.com/assets/colab-badge.svg\" alt=\"Open In Colab\"/></a>"
      ]
    },
    {
      "cell_type": "code",
      "metadata": {
        "id": "I6T0TsXvhyBy"
      },
      "source": [
        "import numpy as np\n",
        "import pandas as pd\n",
        "import datetime, os, sys\n",
        "import matplotlib.pyplot as plt\n",
        "import matplotlib\n",
        "from sklearn import preprocessing, linear_model, metrics, model_selection, decomposition, svm, datasets"
      ],
      "execution_count": null,
      "outputs": []
    },
    {
      "cell_type": "code",
      "metadata": {
        "id": "DweoaZSlLz0B"
      },
      "source": [
        "#### store data values in x,y test and train\n",
        "mnist = datasets.fetch_openml('mnist_784')"
      ],
      "execution_count": null,
      "outputs": []
    },
    {
      "cell_type": "code",
      "metadata": {
        "id": "gp9xjDhPaasE"
      },
      "source": [
        "x_pc = EFA_PCA(mnist.data, 650)\n",
        "x_train_pca, x_test_pca, y_train, y_test = model_selection.train_test_split(x_pc, mnist.target, test_size=0.2)"
      ],
      "execution_count": null,
      "outputs": []
    },
    {
      "cell_type": "code",
      "metadata": {
        "colab": {
          "base_uri": "https://localhost:8080/"
        },
        "id": "46TjFxLybX1L",
        "outputId": "ad430b17-2d50-4750-ae75-b1e6a496feb6"
      },
      "source": [
        "EFA_tester(x_train_pca, y_train, x_test_pca, y_test)"
      ],
      "execution_count": null,
      "outputs": [
        {
          "output_type": "stream",
          "text": [
            "Train Delay: 35, Test Delay: 0, Score: 0.917\n",
            "Train Delay: 746, Test Delay: 241, Score: 0.9645\n",
            "Train Delay: 410, Test Delay: 0, Score: 0.8994285714285715\n"
          ],
          "name": "stdout"
        }
      ]
    },
    {
      "cell_type": "code",
      "metadata": {
        "id": "RWxyA3MxJZDD"
      },
      "source": [
        "def EFA_PCA(X, components=320):\n",
        "    x_std = preprocessing.StandardScaler().fit_transform(X)\n",
        "    if components != 0:\n",
        "      return decomposition.PCA(n_components=components).fit_transform(x_std)\n",
        "    return x_std\n",
        "\n",
        "\n",
        "def EFA_tester(X, Y, XP, YT):    \n",
        "    # first method : Logistic Regression\n",
        "    start_11 = datetime.datetime.now()\n",
        "    logisticRegression = linear_model.LogisticRegression(C=1.25, n_jobs=-1)\n",
        "    logisticRegression.fit(X, Y)\n",
        "    start_21 = datetime.datetime.now()\n",
        "    delay11 = start_21 - start_11\n",
        "    clf1 = logisticRegression.predict(XP)\n",
        "    start_31 = datetime.datetime.now()\n",
        "    delay12 = start_31 - start_21\n",
        "    score1 = np.sum(YT == clf1) / YT.shape[0]\n",
        "    print(f'Train Delay: {delay11.seconds}, Test Delay: {delay12.seconds}, Score: {score1}')\n",
        "\n",
        "    # Second method : SVM\n",
        "    start_21 = datetime.datetime.now()\n",
        "    svm_clf = svm.SVC()\n",
        "    svm_clf.fit(X, Y)\n",
        "    start_22 = datetime.datetime.now()\n",
        "    delay21 = start_22 - start_21\n",
        "    clf2 = svm_clf.predict(XP)\n",
        "    start_23 = datetime.datetime.now()\n",
        "    delay22 = start_23 - start_22\n",
        "    score2 = np.sum(YT == clf2) / YT.shape[0]\n",
        "    print(f'Train Delay: {delay21.seconds}, Test Delay: {delay22.seconds}, Score: {score2}')\n",
        "\n",
        "\n",
        "    #  third metohd : Stochastic Gradient Descent\n",
        "    start_31 = datetime.datetime.now()\n",
        "    sgd = linear_model.SGDClassifier()\n",
        "    sgd.fit(X, Y)\n",
        "    start_32 = datetime.datetime.now()\n",
        "    delay31 = start_32 - start_31\n",
        "    clf3 = sgd.predict(XP)\n",
        "    start_33 = datetime.datetime.now()\n",
        "    delay32 = start_33 - start_32\n",
        "    score3 = np.sum(YT == clf3) / YT.shape[0]\n",
        "    print(f'Train Delay: {delay31.seconds}, Test Delay: {delay32.seconds}, Score: {score3}')\n"
      ],
      "execution_count": null,
      "outputs": []
    },
    {
      "cell_type": "code",
      "metadata": {
        "id": "bw3Ytf6jj6xk"
      },
      "source": [
        "## first way: normal way\n",
        "def standardization(x):\n",
        "    return (x - np.mean(x, axis=0)) / np.std(x, axis=0)\n",
        "\n",
        "x_s = standardization(mnist.data)\n",
        "x_std = np.nan_to_num(x_s)\n",
        "\n",
        "## second way: using sklearn\n",
        "# x_std = preprocessing.StandardScaler().fit_transform(mnist.data)\n",
        "x_train_std, x_test_std, y_train, y_test = model_selection.train_test_split(x_std, mnist.target, test_size=0.2)\n",
        "# x_train_std, x_test_std, y_train, y_test = model_selection.train_test_split(mnist.data, mnist.target, test_size=0.2)"
      ],
      "execution_count": null,
      "outputs": []
    },
    {
      "cell_type": "code",
      "metadata": {
        "id": "Krru0dD0ok9X"
      },
      "source": [
        "def pcaMaker(k, x_std):\n",
        "  x_meaned = x_std - np.mean(x_std, axis=0)\n",
        "  cov_mat = x_meaned.T.dot(x_meaned) / (x_std.shape[0] - 1)\n",
        "  # cov_mat = np.cov(x_meaned, rowvar = False)  \n",
        "  eigen_values, eigen_vectors = np.linalg.eig(cov_mat.T)\n",
        "  sorted_index = np.argsort(eigen_values)[::-1]\n",
        "  sorted_eigenvalue = eigen_values[sorted_index]\n",
        "  sorted_eigenvectors = eigen_vectors[:,sorted_index]\n",
        "  eigenvector_subset = sorted_eigenvectors[:,0:k]\n",
        "  X_reduced = eigenvector_subset.T.dot( x_meaned.T).T   \n",
        "  return X_reduced"
      ],
      "execution_count": null,
      "outputs": []
    },
    {
      "cell_type": "code",
      "metadata": {
        "id": "jboGyMsUpv--"
      },
      "source": [
        "## first way: without library\n",
        "x_train_pca = pcaMaker(320, x_train_std)\n",
        "x_test_pca = np.float64(pcaMaker(320, x_test_std))\n",
        "\n",
        "\n",
        "## second way: with sklearn.decomposiotion.PCA()\n",
        "# {'auto', 'full', 'arpack', 'randomized'}\n",
        "pca = decomposition.PCA(n_components=320)\n",
        "pca.fit(x_train_std)\n",
        "# x_train_pca = pca.transform(x_train_std)\n",
        "# x_test_pca = pca.transform(x_test_std)"
      ],
      "execution_count": null,
      "outputs": []
    },
    {
      "cell_type": "code",
      "metadata": {
        "colab": {
          "base_uri": "https://localhost:8080/"
        },
        "id": "tL6NkAAIx0mf",
        "outputId": "de85c313-6f70-4ac1-9fd5-b9193f5d4de3"
      },
      "source": [],
      "execution_count": null,
      "outputs": [
        {
          "output_type": "execute_result",
          "data": {
            "text/plain": [
              "<module 'scipy.misc' from '/usr/local/lib/python3.7/dist-packages/scipy/misc/__init__.py'>"
            ]
          },
          "metadata": {
            "tags": []
          },
          "execution_count": 12
        }
      ]
    },
    {
      "cell_type": "code",
      "metadata": {
        "colab": {
          "base_uri": "https://localhost:8080/",
          "height": 216
        },
        "id": "B8JGI6qzukyu",
        "outputId": "61259672-0464-41d8-b106-4829e341b93f"
      },
      "source": [
        "num, n= 2000, 10\n",
        "x_std = preprocessing.StandardScaler().fit_transform(mnist.data)\n",
        "pca = decomposition.PCA(n_components=n)\n",
        "x = pca.fit_transform(x_std)\n",
        "sample2 = pca.inverse_transform(x[num])\n",
        "sample2.shape = (28, 28)\n",
        "b = plt.subplot(1, 2, 1)\n",
        "b.set_title(f'Reduced after PCA_{n}')\n",
        "plt.imshow(sample2, cmap=plt.cm.gray_r)\n",
        "matplotlib.image.imsave(f'PCA_{n}.jpeg', sample2, cmap=plt.cm.gray_r)"
      ],
      "execution_count": null,
      "outputs": [
        {
          "output_type": "display_data",
          "data": {
            "image/png": "[encoded data removed]",
            "text/plain": [
              "<Figure size 432x288 with 1 Axes>"
            ]
          },
          "metadata": {
            "tags": [],
            "needs_background": "light"
          }
        }
      ]
    },
    {
      "cell_type": "code",
      "metadata": {
        "colab": {
          "base_uri": "https://localhost:8080/",
          "height": 287
        },
        "id": "5LOb3dNvp-_R",
        "outputId": "f20f230a-101b-490f-f8b1-cb747cc389b3"
      },
      "source": [
        "#### This code shows difference between data's images, before and after pca\n",
        "num = 2000\n",
        "\n",
        "sample1 = x_train_std[num]\n",
        "sample1.shape = (28, 28)\n",
        "a = plt.subplot(1, 2, 1)\n",
        "a.set_title('Original Image')\n",
        "plt.imshow(sample1, cmap=plt.cm.gray_r)\n",
        "# This is the result of what I was trying to get in above codes\n",
        "\n",
        "sample2 = pca.inverse_transform(x_train_pca[num])\n",
        "# sample2 = x_train_pca[num]\n",
        "sample2.shape=(28, 28)\n",
        "b = plt.subplot(1, 2, 1)\n",
        "b.set_title('Reduced after PCA')\n",
        "plt.imshow(sample2, cmap=plt.cm.gray_r)"
      ],
      "execution_count": null,
      "outputs": [
        {
          "output_type": "stream",
          "text": [
            "/usr/local/lib/python3.7/dist-packages/ipykernel_launcher.py:14: MatplotlibDeprecationWarning: Adding an axes using the same arguments as a previous axes currently reuses the earlier instance.  In a future version, a new instance will always be created and returned.  Meanwhile, this warning can be suppressed, and the future behavior ensured, by passing a unique label to each axes instance.\n",
            "  \n"
          ],
          "name": "stderr"
        },
        {
          "output_type": "execute_result",
          "data": {
            "text/plain": [
              "<matplotlib.image.AxesImage at 0x7f9c6a65a3d0>"
            ]
          },
          "metadata": {
            "tags": []
          },
          "execution_count": 6
        },
        {
          "output_type": "display_data",
          "data": {
            "image/png": "[encoded data removed]",
            "text/plain": [
              "<Figure size 432x288 with 1 Axes>"
            ]
          },
          "metadata": {
            "tags": [],
            "needs_background": "light"
          }
        }
      ]
    },
    {
      "cell_type": "code",
      "metadata": {
        "colab": {
          "base_uri": "https://localhost:8080/"
        },
        "id": "CgQQ00DZ39AE",
        "outputId": "469a99c0-776c-4b64-f460-030dbd8a5880"
      },
      "source": [
        "# this part is only made to estimate the difference of training delay on OriginalData vs PCAData\n",
        "logistic = linear_model.LogisticRegression(C=1.1, n_jobs=-1)\n",
        "\n",
        "start = datetime.datetime.now()\n",
        "logistic.fit(x_train_pca, y_train)\n",
        "delay1=datetime.datetime.now() - start\n",
        "\n",
        "start2 = datetime.datetime.now()\n",
        "logistic.fit(x_train_std, y_train)\n",
        "delay2=datetime.datetime.now() - start2\n",
        "\n",
        "print('Original Data Classification Delay: ', delay2.seconds)\n",
        "print('PCA Data Classification Delay: ', delay1.seconds)"
      ],
      "execution_count": null,
      "outputs": [
        {
          "output_type": "stream",
          "text": [
            "Original Data Classification Delay:  38\n",
            "PCA Data Classification Delay:  18\n"
          ],
          "name": "stdout"
        }
      ]
    },
    {
      "cell_type": "code",
      "metadata": {
        "id": "EuFDea6F4CpM"
      },
      "source": [
        "# first method : Logistic Regression\n",
        "logisticRegression = linear_model.LogisticRegression(C=1.25, n_jobs=-1)\n",
        "logisticRegression.fit(x_train_pca, y_train)\n",
        "clf1 = logisticRegression.predict(x_test_pca)"
      ],
      "execution_count": null,
      "outputs": []
    },
    {
      "cell_type": "code",
      "metadata": {
        "id": "eoZRXo73lw-i"
      },
      "source": [
        "# Second method : SVM\n",
        "svm_clf = svm.SVC()\n",
        "svm_clf.fit(x_train_pca, y_train)\n",
        "clf2 = svm_clf.predict(x_test_pca)"
      ],
      "execution_count": null,
      "outputs": []
    },
    {
      "cell_type": "code",
      "metadata": {
        "id": "EibGNW3AoBB7"
      },
      "source": [
        "#  third metohd : Stochastic Gradient Descent\n",
        "sgd = linear_model.SGDClassifier()\n",
        "sgd.fit(x_train_pca, y_train)\n",
        "clf3 = sgd.predict(x_test_pca)"
      ],
      "execution_count": null,
      "outputs": []
    },
    {
      "cell_type": "code",
      "metadata": {
        "colab": {
          "base_uri": "https://localhost:8080/"
        },
        "id": "T-C6vwi7o_ae",
        "outputId": "8d090827-b010-4233-9621-695c6f3eef2b"
      },
      "source": [
        "# In here we estimate how much our algorithm is correct\n",
        "score = np.sum(y_test == clf3) / y_test.shape[0]\n",
        "score"
      ],
      "execution_count": null,
      "outputs": [
        {
          "output_type": "execute_result",
          "data": {
            "text/plain": [
              "0.23364285714285715"
            ]
          },
          "metadata": {
            "tags": []
          },
          "execution_count": 49
        }
      ]
    },
    {
      "cell_type": "code",
      "metadata": {
        "colab": {
          "base_uri": "https://localhost:8080/",
          "height": 188
        },
        "id": "Inp7XOJd7Kja",
        "outputId": "d2b47ca3-62d9-43e0-d9c7-7e15e7da7784"
      },
      "source": [
        "# This method gives details about the classification\n",
        "metrics.classification_report(y_test, clf3)"
      ],
      "execution_count": null,
      "outputs": [
        {
          "output_type": "execute_result",
          "data": {
            "application/vnd.google.colaboratory.intrinsic+json": {
              "type": "string"
            },
            "text/plain": [
              "'              precision    recall  f1-score   support\\n\\n           0       0.00      0.00      0.00      1366\\n           1       0.00      0.00      0.00      1572\\n           2       0.30      0.41      0.35      1377\\n           3       0.36      0.32      0.34      1471\\n           4       0.31      0.10      0.15      1390\\n           5       0.30      0.25      0.27      1224\\n           6       0.85      0.65      0.74      1419\\n           7       0.08      0.05      0.06      1444\\n           8       0.14      0.52      0.21      1358\\n           9       0.09      0.06      0.07      1379\\n\\n    accuracy                           0.23     14000\\n   macro avg       0.24      0.24      0.22     14000\\nweighted avg       0.24      0.23      0.22     14000\\n'"
            ]
          },
          "metadata": {
            "tags": []
          },
          "execution_count": 50
        }
      ]
    },
    {
      "cell_type": "code",
      "metadata": {
        "id": "ici4DrYRVXg8"
      },
      "source": [],
      "execution_count": null,
      "outputs": []
    }
  ]
}