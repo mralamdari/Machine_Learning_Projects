{
  "nbformat": 4,
  "nbformat_minor": 0,
  "metadata": {
    "colab": {
      "provenance": [],
      "collapsed_sections": [
        "3jfvyerCKbv-",
        "kDqJpBV7MXCR",
        "h9BAgWBUQiEe",
        "56-sQxLiWxjU",
        "bMxMvz0Yct0o",
        "u_OId5aIiJBg",
        "nvYQyef7iSwR",
        "z2WvvY8FlNl6",
        "TrcsBNR0RWJR",
        "Is3wDq1NlO4j",
        "1fIbO8VYYCpG",
        "CRSJN59QY92Y",
        "dHrtR9uzcNXK",
        "ytSyrTjjZkbb",
        "JPGNAMn5Rtah",
        "Q-WrbIttTyBY"
      ],
      "include_colab_link": true
    },
    "kernelspec": {
      "display_name": "Python 3",
      "name": "python3"
    },
    "language_info": {
      "name": "python"
    },
    "gpuClass": "standard"
  },
  "cells": [
    {
      "cell_type": "markdown",
      "metadata": {
        "id": "view-in-github",
        "colab_type": "text"
      },
      "source": [
        "<a href=\"https://colab.research.google.com/github/mralamdari/Machine_Learning_Projects/blob/main/Mnist_with_drawingPrediction.ipynb\" target=\"_parent\"><img src=\"https://colab.research.google.com/assets/colab-badge.svg\" alt=\"Open In Colab\"/></a>"
      ]
    },
    {
      "cell_type": "markdown",
      "metadata": {
        "id": "kdLXEpzX720P"
      },
      "source": [
        "https://github.com/techwithtim\n",
        "\n",
        "\n",
        "https://github.com/techwithtim/Number-Guesser-Neural-Net"
      ]
    },
    {
      "cell_type": "code",
      "metadata": {
        "id": "8nSQfqJXGuJg"
      },
      "source": [
        "import os\n",
        "import datetime\n",
        "import numpy as np\n",
        "import pandas as pd\n",
        "import seaborn as sns\n",
        "import tensorflow as tf\n",
        "import matplotlib.pyplot as plt\n",
        "\n",
        "from sklearn import svm\n",
        "from sklearn import tree\n",
        "from sklearn import metrics\n",
        "from sklearn import ensemble\n",
        "from sklearn import neighbors\n",
        "from sklearn import linear_model\n",
        "from sklearn import preprocessing\n",
        "from sklearn import decomposition\n",
        "from sklearn import model_selection\n",
        "from sklearn import feature_selection"
      ],
      "execution_count": 37,
      "outputs": []
    },
    {
      "cell_type": "code",
      "metadata": {
        "colab": {
          "base_uri": "https://localhost:8080/"
        },
        "id": "tSTvMIROZTtf",
        "outputId": "6cd7c88d-8d19-4634-ba0d-a70942770b04"
      },
      "source": [
        "!nvidia-smi -L"
      ],
      "execution_count": null,
      "outputs": [
        {
          "output_type": "stream",
          "name": "stdout",
          "text": [
            "NVIDIA-SMI has failed because it couldn't communicate with the NVIDIA driver. Make sure that the latest NVIDIA driver is installed and running.\n",
            "\n"
          ]
        }
      ]
    },
    {
      "cell_type": "markdown",
      "metadata": {
        "id": "3jfvyerCKbv-"
      },
      "source": [
        "##Data Collecting"
      ]
    },
    {
      "cell_type": "code",
      "source": [
        "from google.colab import drive\n",
        "drive.mount('/content/drive')"
      ],
      "metadata": {
        "colab": {
          "base_uri": "https://localhost:8080/"
        },
        "id": "WjcOufnWWQRF",
        "outputId": "24c745f0-baff-4865-8feb-5b8125570e53"
      },
      "execution_count": 2,
      "outputs": [
        {
          "output_type": "stream",
          "name": "stdout",
          "text": [
            "Mounted at /content/drive\n"
          ]
        }
      ]
    },
    {
      "cell_type": "code",
      "metadata": {
        "id": "MPUO4_JB7uUb",
        "colab": {
          "base_uri": "https://localhost:8080/"
        },
        "outputId": "8b39a173-ae09-4f2f-ec95-b0b796d295d6"
      },
      "source": [
        "os.environ['KAGGLE_CONFIG_DIR'] = '/content/drive/MyDrive'\n",
        "!kaggle competitions download -c digit-recognizer\n",
        "!unzip \\*.zip && rm *.zip"
      ],
      "execution_count": 3,
      "outputs": [
        {
          "output_type": "stream",
          "name": "stdout",
          "text": [
            "Downloading digit-recognizer.zip to /content\n",
            " 85% 13.0M/15.3M [00:00<00:00, 39.0MB/s]\n",
            "100% 15.3M/15.3M [00:00<00:00, 44.6MB/s]\n",
            "Archive:  digit-recognizer.zip\n",
            "  inflating: sample_submission.csv   \n",
            "  inflating: test.csv                \n",
            "  inflating: train.csv               \n"
          ]
        }
      ]
    },
    {
      "cell_type": "code",
      "metadata": {
        "id": "eS3dbr0kIP7k"
      },
      "source": [
        "train = pd.read_csv(\"train.csv\")\n",
        "test = pd.read_csv(\"test.csv\")\n",
        "submission = pd.read_csv(\"sample_submission.csv\")"
      ],
      "execution_count": 4,
      "outputs": []
    },
    {
      "cell_type": "markdown",
      "metadata": {
        "id": "-ms132SlKY0n"
      },
      "source": [
        "train: 42000 samples with labels\n",
        "\n",
        "test: 28000 samples without labels\n",
        "\n",
        "submission: 28000 labels for test\n",
        "\n",
        "features: 784"
      ]
    },
    {
      "cell_type": "code",
      "metadata": {
        "id": "v3Pg3_h6JPng",
        "colab": {
          "base_uri": "https://localhost:8080/"
        },
        "outputId": "a63330ca-c282-4c77-9e58-0ab452ca51ce"
      },
      "source": [
        "train.shape, test.shape, submission.shape"
      ],
      "execution_count": 5,
      "outputs": [
        {
          "output_type": "execute_result",
          "data": {
            "text/plain": [
              "((42000, 785), (28000, 784), (28000, 2))"
            ]
          },
          "metadata": {},
          "execution_count": 5
        }
      ]
    },
    {
      "cell_type": "markdown",
      "metadata": {
        "id": "kDqJpBV7MXCR"
      },
      "source": [
        "##Data Preprocessing"
      ]
    },
    {
      "cell_type": "code",
      "metadata": {
        "colab": {
          "base_uri": "https://localhost:8080/"
        },
        "id": "cI53QHPKJgQq",
        "outputId": "49356ce5-ef02-42ed-b7ad-383bf74e5cce"
      },
      "source": [
        "train.iloc[0][train.iloc[0] != 0], test.iloc[0][test.iloc[0] != 0]"
      ],
      "execution_count": 6,
      "outputs": [
        {
          "output_type": "execute_result",
          "data": {
            "text/plain": [
              "(label         1\n",
              " pixel132    188\n",
              " pixel133    255\n",
              " pixel134     94\n",
              " pixel159    191\n",
              "            ... \n",
              " pixel626    250\n",
              " pixel627    131\n",
              " pixel652    214\n",
              " pixel653    218\n",
              " pixel654     95\n",
              " Name: 0, Length: 98, dtype: int64, pixel122    10\n",
              " pixel123    17\n",
              " pixel124    17\n",
              " pixel125    17\n",
              " pixel126    17\n",
              "             ..\n",
              " pixel599    30\n",
              " pixel600    15\n",
              " pixel601    10\n",
              " pixel610    14\n",
              " pixel611     6\n",
              " Name: 0, Length: 215, dtype: int64)"
            ]
          },
          "metadata": {},
          "execution_count": 6
        }
      ]
    },
    {
      "cell_type": "markdown",
      "metadata": {
        "id": "jA5FN1stMEtZ"
      },
      "source": [
        "our images are not scaled so we have to rescale them"
      ]
    },
    {
      "cell_type": "code",
      "metadata": {
        "id": "KHeihv-ZM4l4"
      },
      "source": [
        "X = train.drop([\"label\"], axis=1).values / 255\n",
        "Y = train[\"label\"].values\n",
        "test /= 255\n",
        "x_train, x_test, y_train, y_test = model_selection.train_test_split(X, Y, random_state=77, test_size=0.2)"
      ],
      "execution_count": 7,
      "outputs": []
    },
    {
      "cell_type": "markdown",
      "metadata": {
        "id": "BSeeXKwuO_Kk"
      },
      "source": [
        "x_train: 33600  (%80)\n",
        "\n",
        "x_test:  8400   (%20)"
      ]
    },
    {
      "cell_type": "code",
      "metadata": {
        "colab": {
          "base_uri": "https://localhost:8080/"
        },
        "id": "MTrhJO2oJ8mq",
        "outputId": "60a79842-2f02-4314-bc87-93b73bc2aa38"
      },
      "source": [
        "x_train.shape, x_test.shape"
      ],
      "execution_count": 8,
      "outputs": [
        {
          "output_type": "execute_result",
          "data": {
            "text/plain": [
              "((33600, 784), (8400, 784))"
            ]
          },
          "metadata": {},
          "execution_count": 8
        }
      ]
    },
    {
      "cell_type": "code",
      "metadata": {
        "colab": {
          "base_uri": "https://localhost:8080/"
        },
        "id": "xICamGK0Pmq8",
        "outputId": "e386bf33-3801-45ec-f243-65355b445f0c"
      },
      "source": [
        "784 ** 0.5"
      ],
      "execution_count": 9,
      "outputs": [
        {
          "output_type": "execute_result",
          "data": {
            "text/plain": [
              "28.0"
            ]
          },
          "metadata": {},
          "execution_count": 9
        }
      ]
    },
    {
      "cell_type": "markdown",
      "metadata": {
        "id": "MJnt7InxPtC5"
      },
      "source": [
        "784 is 28*28"
      ]
    },
    {
      "cell_type": "code",
      "metadata": {
        "colab": {
          "base_uri": "https://localhost:8080/",
          "height": 0
        },
        "id": "SxUj22niMyaD",
        "outputId": "98b41371-74c5-4cb8-f1f0-e269c74afd86"
      },
      "source": [
        "n = 1297\n",
        "sample = x_train[n].reshape(28, 28)\n",
        "plt.imshow(sample)\n",
        "plt.title(y_train[n])"
      ],
      "execution_count": 10,
      "outputs": [
        {
          "output_type": "execute_result",
          "data": {
            "text/plain": [
              "Text(0.5, 1.0, '9')"
            ]
          },
          "metadata": {},
          "execution_count": 10
        },
        {
          "output_type": "display_data",
          "data": {
            "text/plain": [
              "<Figure size 432x288 with 1 Axes>"
            ],
            "image/png": "[encoded data removed]"
          },
          "metadata": {
            "needs_background": "light"
          }
        }
      ]
    },
    {
      "cell_type": "markdown",
      "metadata": {
        "id": "KqTSQptxQYA7"
      },
      "source": [
        "#Machine Learning Models"
      ]
    },
    {
      "cell_type": "code",
      "metadata": {
        "id": "ILZq4yQibqWo"
      },
      "source": [
        "def model_scores(model):\n",
        "  s = datetime.datetime.now()\n",
        "  pred = model.predict(x_test)\n",
        "  res = sum(pred == y_test)/len(y_test)\n",
        "  dic = {\"train\" : model.score(x_train, y_train),\n",
        "         \"Test\" : model.score(x_test, y_test)}  \n",
        "\n",
        "  print(\"Train Score: \" , model.score(x_train, y_train))\n",
        "  print(\"Test Score: \" , model.score(x_test, y_test))\n",
        "  print(metrics.classification_report(y_test, pred))\n",
        "  print(f\"Spend time is: {datetime.datetime.now().minute - s.minute} Minuts\")\n",
        "  return pred, dic"
      ],
      "execution_count": 12,
      "outputs": []
    },
    {
      "cell_type": "markdown",
      "metadata": {
        "id": "h9BAgWBUQiEe"
      },
      "source": [
        "##model 0: linear"
      ]
    },
    {
      "cell_type": "code",
      "metadata": {
        "colab": {
          "base_uri": "https://localhost:8080/"
        },
        "id": "y0QTcbJ3P6NU",
        "outputId": "009e0d39-0fa1-4ecd-f9d4-fbb6cf84641c"
      },
      "source": [
        "model_0 = linear_model.SGDClassifier()\n",
        "model_0.fit(x_train, y_train)"
      ],
      "execution_count": null,
      "outputs": [
        {
          "output_type": "execute_result",
          "data": {
            "text/plain": [
              "SGDClassifier()"
            ]
          },
          "metadata": {},
          "execution_count": 18
        }
      ]
    },
    {
      "cell_type": "code",
      "metadata": {
        "colab": {
          "base_uri": "https://localhost:8080/"
        },
        "id": "gO0G2Mrvc7eh",
        "outputId": "91976a05-7594-4ba7-882c-5d4b59b3f227"
      },
      "source": [
        "pred_0, scores = model_scores(model_0)"
      ],
      "execution_count": null,
      "outputs": [
        {
          "output_type": "stream",
          "name": "stdout",
          "text": [
            "Train Score:  0.9264583333333334\n",
            "Test Score:  0.9142857142857143\n",
            "              precision    recall  f1-score   support\n",
            "\n",
            "           0       0.94      0.97      0.95       802\n",
            "           1       0.95      0.98      0.96       965\n",
            "           2       0.89      0.90      0.90       828\n",
            "           3       0.90      0.89      0.89       891\n",
            "           4       0.93      0.92      0.92       792\n",
            "           5       0.85      0.89      0.87       731\n",
            "           6       0.94      0.95      0.95       853\n",
            "           7       0.92      0.94      0.93       883\n",
            "           8       0.91      0.83      0.87       795\n",
            "           9       0.90      0.87      0.88       860\n",
            "\n",
            "    accuracy                           0.91      8400\n",
            "   macro avg       0.91      0.91      0.91      8400\n",
            "weighted avg       0.91      0.91      0.91      8400\n",
            "\n",
            "Spend time is: 0 Minuts\n"
          ]
        },
        {
          "output_type": "execute_result",
          "data": {
            "text/plain": [
              "{'train': 0.9264583333333334, 'Test': 0.9142857142857143}"
            ]
          },
          "metadata": {},
          "execution_count": 19
        }
      ]
    },
    {
      "cell_type": "markdown",
      "metadata": {
        "id": "56-sQxLiWxjU"
      },
      "source": [
        "##Model 1: LogisticRegression"
      ]
    },
    {
      "cell_type": "code",
      "metadata": {
        "id": "PjA9-fAwS9wa"
      },
      "source": [
        "model_1 = linear_model.LogisticRegression()\n",
        "model_1.fit(x_train, y_train)"
      ],
      "execution_count": null,
      "outputs": []
    },
    {
      "cell_type": "code",
      "metadata": {
        "id": "4_MpfVEDXJqT",
        "colab": {
          "base_uri": "https://localhost:8080/"
        },
        "outputId": "6a6fca5c-1868-4758-ac6a-8b5bb7e9968f"
      },
      "source": [
        "pred_1, scores = model_scores(model_1)"
      ],
      "execution_count": null,
      "outputs": [
        {
          "output_type": "stream",
          "name": "stdout",
          "text": [
            "Train Score:  0.9407142857142857\n",
            "Test Score:  0.9207142857142857\n",
            "              precision    recall  f1-score   support\n",
            "\n",
            "           0       0.96      0.97      0.96       802\n",
            "           1       0.95      0.97      0.96       965\n",
            "           2       0.90      0.89      0.90       828\n",
            "           3       0.90      0.89      0.90       891\n",
            "           4       0.95      0.92      0.93       792\n",
            "           5       0.89      0.87      0.88       731\n",
            "           6       0.95      0.95      0.95       853\n",
            "           7       0.92      0.94      0.93       883\n",
            "           8       0.88      0.88      0.88       795\n",
            "           9       0.89      0.91      0.90       860\n",
            "\n",
            "    accuracy                           0.92      8400\n",
            "   macro avg       0.92      0.92      0.92      8400\n",
            "weighted avg       0.92      0.92      0.92      8400\n",
            "\n",
            "Spend time is: 0 Minuts\n"
          ]
        },
        {
          "output_type": "execute_result",
          "data": {
            "text/plain": [
              "{'train': 0.9407142857142857, 'Test': 0.9207142857142857}"
            ]
          },
          "metadata": {},
          "execution_count": 25
        }
      ]
    },
    {
      "cell_type": "markdown",
      "metadata": {
        "id": "bMxMvz0Yct0o"
      },
      "source": [
        "##model 2: Linear SVC"
      ]
    },
    {
      "cell_type": "code",
      "metadata": {
        "id": "lVfjRN4lbj0-",
        "colab": {
          "base_uri": "https://localhost:8080/"
        },
        "outputId": "bdf3b257-8360-4f88-e3d3-feebca9d3af2"
      },
      "source": [
        "model_2 = svm.LinearSVC()\n",
        "model_2.fit(x_train, y_train)"
      ],
      "execution_count": null,
      "outputs": [
        {
          "output_type": "stream",
          "name": "stderr",
          "text": [
            "/usr/local/lib/python3.8/dist-packages/sklearn/svm/_base.py:1206: ConvergenceWarning: Liblinear failed to converge, increase the number of iterations.\n",
            "  warnings.warn(\n"
          ]
        },
        {
          "output_type": "execute_result",
          "data": {
            "text/plain": [
              "LinearSVC()"
            ]
          },
          "metadata": {},
          "execution_count": 26
        }
      ]
    },
    {
      "cell_type": "code",
      "metadata": {
        "id": "p_ycKRLAeJFo",
        "colab": {
          "base_uri": "https://localhost:8080/"
        },
        "outputId": "f36e2560-b6dd-4177-ce64-24fb046dcec3"
      },
      "source": [
        "pred_2, scores = model_scores(model_2)"
      ],
      "execution_count": null,
      "outputs": [
        {
          "output_type": "stream",
          "name": "stdout",
          "text": [
            "Train Score:  0.9339285714285714\n",
            "Test Score:  0.91\n",
            "              precision    recall  f1-score   support\n",
            "\n",
            "           0       0.94      0.97      0.96       802\n",
            "           1       0.95      0.98      0.96       965\n",
            "           2       0.89      0.87      0.88       828\n",
            "           3       0.89      0.87      0.88       891\n",
            "           4       0.93      0.92      0.92       792\n",
            "           5       0.86      0.86      0.86       731\n",
            "           6       0.94      0.95      0.94       853\n",
            "           7       0.92      0.93      0.93       883\n",
            "           8       0.88      0.86      0.87       795\n",
            "           9       0.88      0.89      0.88       860\n",
            "\n",
            "    accuracy                           0.91      8400\n",
            "   macro avg       0.91      0.91      0.91      8400\n",
            "weighted avg       0.91      0.91      0.91      8400\n",
            "\n",
            "Spend time is: 0 Minuts\n"
          ]
        },
        {
          "output_type": "execute_result",
          "data": {
            "text/plain": [
              "{'train': 0.9339285714285714, 'Test': 0.91}"
            ]
          },
          "metadata": {},
          "execution_count": 27
        }
      ]
    },
    {
      "cell_type": "markdown",
      "metadata": {
        "id": "u_OId5aIiJBg"
      },
      "source": [
        "##Model 3: SVC"
      ]
    },
    {
      "cell_type": "code",
      "metadata": {
        "id": "oJFzpZcVeSXh",
        "colab": {
          "base_uri": "https://localhost:8080/"
        },
        "outputId": "db7e69aa-e7bb-4011-9117-faa769ac3d04"
      },
      "source": [
        "model_3 = svm.SVC()\n",
        "model_3.fit(x_train, y_train)"
      ],
      "execution_count": 13,
      "outputs": [
        {
          "output_type": "execute_result",
          "data": {
            "text/plain": [
              "SVC()"
            ]
          },
          "metadata": {},
          "execution_count": 13
        }
      ]
    },
    {
      "cell_type": "code",
      "metadata": {
        "id": "pidjFEEsecXS",
        "colab": {
          "base_uri": "https://localhost:8080/"
        },
        "outputId": "23f1cedb-9e97-40f6-9c58-e1171d75b897"
      },
      "source": [
        "pred_3, scores = model_scores(model_3)"
      ],
      "execution_count": 14,
      "outputs": [
        {
          "output_type": "stream",
          "name": "stdout",
          "text": [
            "Train Score:  0.9888690476190476\n",
            "Test Score:  0.9745238095238096\n",
            "              precision    recall  f1-score   support\n",
            "\n",
            "           0       0.99      0.99      0.99       802\n",
            "           1       0.99      0.99      0.99       965\n",
            "           2       0.98      0.98      0.98       828\n",
            "           3       0.96      0.96      0.96       891\n",
            "           4       0.97      0.98      0.97       792\n",
            "           5       0.98      0.96      0.97       731\n",
            "           6       0.98      0.99      0.99       853\n",
            "           7       0.97      0.98      0.97       883\n",
            "           8       0.97      0.97      0.97       795\n",
            "           9       0.96      0.95      0.96       860\n",
            "\n",
            "    accuracy                           0.97      8400\n",
            "   macro avg       0.97      0.97      0.97      8400\n",
            "weighted avg       0.97      0.97      0.97      8400\n",
            "\n",
            "Prediction time is: 12 Minuts\n"
          ]
        }
      ]
    },
    {
      "cell_type": "markdown",
      "metadata": {
        "id": "nvYQyef7iSwR"
      },
      "source": [
        "##Model 4: K neighbors\n"
      ]
    },
    {
      "cell_type": "code",
      "metadata": {
        "id": "o2HkbGxaiIbw",
        "colab": {
          "base_uri": "https://localhost:8080/"
        },
        "outputId": "221751ff-4d2f-4f24-f4fb-a41fcb0cc227"
      },
      "source": [
        "model_4 = neighbors.KNeighborsClassifier(n_neighbors=5)\n",
        "model_4.fit(x_train, y_train)"
      ],
      "execution_count": null,
      "outputs": [
        {
          "output_type": "execute_result",
          "data": {
            "text/plain": [
              "KNeighborsClassifier()"
            ]
          },
          "metadata": {},
          "execution_count": 30
        }
      ]
    },
    {
      "cell_type": "code",
      "metadata": {
        "id": "76FaeGxMxIhp",
        "colab": {
          "base_uri": "https://localhost:8080/"
        },
        "outputId": "97f1f456-8b81-4ba7-d49a-067b2a08e2f7"
      },
      "source": [
        "pred_4, scores = model_scores(model_4)"
      ],
      "execution_count": null,
      "outputs": [
        {
          "output_type": "stream",
          "name": "stdout",
          "text": [
            "              precision    recall  f1-score   support\n",
            "\n",
            "           0       0.98      1.00      0.99       802\n",
            "           1       0.96      0.99      0.98       965\n",
            "           2       0.99      0.96      0.97       828\n",
            "           3       0.95      0.97      0.96       891\n",
            "           4       0.98      0.96      0.97       792\n",
            "           5       0.96      0.94      0.95       731\n",
            "           6       0.98      0.99      0.98       853\n",
            "           7       0.95      0.98      0.96       883\n",
            "           8       0.98      0.91      0.94       795\n",
            "           9       0.94      0.94      0.94       860\n",
            "\n",
            "    accuracy                           0.96      8400\n",
            "   macro avg       0.97      0.96      0.96      8400\n",
            "weighted avg       0.97      0.96      0.96      8400\n",
            "\n"
          ]
        }
      ]
    },
    {
      "cell_type": "markdown",
      "metadata": {
        "id": "z2WvvY8FlNl6"
      },
      "source": [
        "##Model 5: DecisionTreeClassifier"
      ]
    },
    {
      "cell_type": "code",
      "metadata": {
        "id": "wRBdXRspk2ck",
        "colab": {
          "base_uri": "https://localhost:8080/"
        },
        "outputId": "086215af-f2e7-4ebd-a66b-41d9c5aae1cc"
      },
      "source": [
        "model_5 = tree.DecisionTreeClassifier()\n",
        "model_5.fit(x_train, y_train)"
      ],
      "execution_count": null,
      "outputs": [
        {
          "output_type": "execute_result",
          "data": {
            "text/plain": [
              "DecisionTreeClassifier()"
            ]
          },
          "metadata": {},
          "execution_count": 36
        }
      ]
    },
    {
      "cell_type": "code",
      "metadata": {
        "id": "CLOS4VQUljUJ",
        "colab": {
          "base_uri": "https://localhost:8080/"
        },
        "outputId": "0e3019de-cfcb-464f-bea4-72a85090a9e2"
      },
      "source": [
        "pred_5, scores = model_scores(model_5)"
      ],
      "execution_count": null,
      "outputs": [
        {
          "output_type": "stream",
          "name": "stdout",
          "text": [
            "Train Score:  1.0\n",
            "Test Score:  0.8520238095238095\n",
            "              precision    recall  f1-score   support\n",
            "\n",
            "           0       0.92      0.91      0.91       802\n",
            "           1       0.93      0.95      0.94       965\n",
            "           2       0.83      0.80      0.82       828\n",
            "           3       0.81      0.83      0.82       891\n",
            "           4       0.85      0.85      0.85       792\n",
            "           5       0.76      0.80      0.78       731\n",
            "           6       0.89      0.89      0.89       853\n",
            "           7       0.88      0.88      0.88       883\n",
            "           8       0.80      0.75      0.78       795\n",
            "           9       0.82      0.82      0.82       860\n",
            "\n",
            "    accuracy                           0.85      8400\n",
            "   macro avg       0.85      0.85      0.85      8400\n",
            "weighted avg       0.85      0.85      0.85      8400\n",
            "\n",
            "Spend time is: 0 Minuts\n"
          ]
        },
        {
          "output_type": "execute_result",
          "data": {
            "text/plain": [
              "{'train': 1.0, 'Test': 0.8520238095238095}"
            ]
          },
          "metadata": {},
          "execution_count": 37
        }
      ]
    },
    {
      "cell_type": "markdown",
      "metadata": {
        "id": "TrcsBNR0RWJR"
      },
      "source": [
        "##Model 6: RandomForestClassifier"
      ]
    },
    {
      "cell_type": "code",
      "metadata": {
        "id": "EwEIl2EKLobN",
        "colab": {
          "base_uri": "https://localhost:8080/"
        },
        "outputId": "5ead1dd9-c57f-4e22-dccd-0ef7161e2b59"
      },
      "source": [
        "model_6 = ensemble.RandomForestClassifier()\n",
        "model_6.fit(x_train, y_train)"
      ],
      "execution_count": 15,
      "outputs": [
        {
          "output_type": "execute_result",
          "data": {
            "text/plain": [
              "RandomForestClassifier()"
            ]
          },
          "metadata": {},
          "execution_count": 15
        }
      ]
    },
    {
      "cell_type": "code",
      "metadata": {
        "id": "kHEpJe41Syou",
        "colab": {
          "base_uri": "https://localhost:8080/"
        },
        "outputId": "293fa18d-4ef5-4ae6-8f45-365170486358"
      },
      "source": [
        "pred_6, scores = model_scores(model_6)"
      ],
      "execution_count": 16,
      "outputs": [
        {
          "output_type": "stream",
          "name": "stdout",
          "text": [
            "Train Score:  1.0\n",
            "Test Score:  0.9620238095238095\n",
            "              precision    recall  f1-score   support\n",
            "\n",
            "           0       0.98      0.98      0.98       802\n",
            "           1       0.99      0.99      0.99       965\n",
            "           2       0.95      0.96      0.96       828\n",
            "           3       0.94      0.95      0.94       891\n",
            "           4       0.96      0.96      0.96       792\n",
            "           5       0.96      0.95      0.96       731\n",
            "           6       0.98      0.98      0.98       853\n",
            "           7       0.97      0.96      0.96       883\n",
            "           8       0.94      0.95      0.94       795\n",
            "           9       0.94      0.94      0.94       860\n",
            "\n",
            "    accuracy                           0.96      8400\n",
            "   macro avg       0.96      0.96      0.96      8400\n",
            "weighted avg       0.96      0.96      0.96      8400\n",
            "\n",
            "Prediction time is: 0 Minuts\n"
          ]
        }
      ]
    },
    {
      "cell_type": "markdown",
      "source": [
        "##Model 7: GradientBoostingClassifier"
      ],
      "metadata": {
        "id": "Is3wDq1NlO4j"
      }
    },
    {
      "cell_type": "code",
      "metadata": {
        "id": "XfTzblnPS7AA",
        "colab": {
          "base_uri": "https://localhost:8080/"
        },
        "outputId": "0127cba9-211d-407c-e1df-a21539a87f8f"
      },
      "source": [
        "model_7 = ensemble.GradientBoostingClassifier()\n",
        "model_7.fit(x_train, y_train)"
      ],
      "execution_count": null,
      "outputs": [
        {
          "output_type": "execute_result",
          "data": {
            "text/plain": [
              "GradientBoostingClassifier()"
            ]
          },
          "metadata": {},
          "execution_count": 40
        }
      ]
    },
    {
      "cell_type": "code",
      "metadata": {
        "id": "ck8BXzeUT0XM",
        "colab": {
          "base_uri": "https://localhost:8080/"
        },
        "outputId": "cfaa668e-c45b-4567-8f52-b7d73489d3ca"
      },
      "source": [
        "pred_7, scores = model_scores(model_7)"
      ],
      "execution_count": null,
      "outputs": [
        {
          "output_type": "stream",
          "name": "stdout",
          "text": [
            "Train Score:  0.9685119047619047\n",
            "Test Score:  0.9421428571428572\n",
            "              precision    recall  f1-score   support\n",
            "\n",
            "           0       0.96      0.97      0.97       802\n",
            "           1       0.98      0.98      0.98       965\n",
            "           2       0.94      0.93      0.93       828\n",
            "           3       0.92      0.92      0.92       891\n",
            "           4       0.94      0.94      0.94       792\n",
            "           5       0.94      0.92      0.93       731\n",
            "           6       0.97      0.96      0.96       853\n",
            "           7       0.95      0.95      0.95       883\n",
            "           8       0.92      0.93      0.92       795\n",
            "           9       0.91      0.92      0.92       860\n",
            "\n",
            "    accuracy                           0.94      8400\n",
            "   macro avg       0.94      0.94      0.94      8400\n",
            "weighted avg       0.94      0.94      0.94      8400\n",
            "\n",
            "Spend time is: 0 Minuts\n"
          ]
        },
        {
          "output_type": "execute_result",
          "data": {
            "text/plain": [
              "{'train': 0.9685119047619047, 'Test': 0.9421428571428572}"
            ]
          },
          "metadata": {},
          "execution_count": 41
        }
      ]
    },
    {
      "cell_type": "markdown",
      "metadata": {
        "id": "xtMRrWV4T0HP"
      },
      "source": [
        "##The best ML Models\n",
        "\n",
        "(based on what we have experimented so far.)\n",
        "\n",
        "are SVC and Random Forest\n",
        "\n",
        "So, lets make an experimant and determine wich is better by some plots."
      ]
    },
    {
      "cell_type": "code",
      "source": [
        "confusion = metrics.confusion_matrix(y_test, pred_3)\n",
        "sns.heatmap(confusion, annot=True)"
      ],
      "metadata": {
        "colab": {
          "base_uri": "https://localhost:8080/",
          "height": 282
        },
        "id": "l-V9QkK8hxIb",
        "outputId": "79549a6c-edc5-484a-e17a-4286ecd1fb92"
      },
      "execution_count": 21,
      "outputs": [
        {
          "output_type": "execute_result",
          "data": {
            "text/plain": [
              "<matplotlib.axes._subplots.AxesSubplot at 0x7fc9cda8fa30>"
            ]
          },
          "metadata": {},
          "execution_count": 21
        },
        {
          "output_type": "display_data",
          "data": {
            "text/plain": [
              "<Figure size 432x288 with 2 Axes>"
            ],
            "image/png": "[encoded data removed]"
          },
          "metadata": {
            "needs_background": "light"
          }
        }
      ]
    },
    {
      "cell_type": "code",
      "source": [
        "confusion = metrics.confusion_matrix(y_test, pred_6)\n",
        "sns.heatmap(confusion, annot=True)"
      ],
      "metadata": {
        "colab": {
          "base_uri": "https://localhost:8080/",
          "height": 282
        },
        "id": "6LyZmDt0iIkx",
        "outputId": "0e627bc8-65ba-4ab0-b3d6-3284326c4e25"
      },
      "execution_count": 23,
      "outputs": [
        {
          "output_type": "execute_result",
          "data": {
            "text/plain": [
              "<matplotlib.axes._subplots.AxesSubplot at 0x7fc9cd95a580>"
            ]
          },
          "metadata": {},
          "execution_count": 23
        },
        {
          "output_type": "display_data",
          "data": {
            "text/plain": [
              "<Figure size 432x288 with 2 Axes>"
            ],
            "image/png": "[encoded data removed]"
          },
          "metadata": {
            "needs_background": "light"
          }
        }
      ]
    },
    {
      "cell_type": "code",
      "source": [
        "pca = decomposition.PCA(n_components=320)\n",
        "std = preprocessing.StandardScaler()\n",
        "\n",
        "x_train_std = std.fit_transform(x_train)\n",
        "x_test_std = std.transform(x_test)\n",
        "\n",
        "\n",
        "x_train_pca = pca.fit_transform(x_train_std)\n",
        "x_test_pca = pca.transform(x_test_std)"
      ],
      "metadata": {
        "id": "3JlQogBq9Uk8"
      },
      "execution_count": 41,
      "outputs": []
    },
    {
      "cell_type": "code",
      "source": [
        "x_train_pca.shape, x_train_std.shape"
      ],
      "metadata": {
        "id": "PxeyU1ILOeqy",
        "colab": {
          "base_uri": "https://localhost:8080/"
        },
        "outputId": "7e17f887-68f0-4742-eed8-64dcb5b2f8f4"
      },
      "execution_count": 44,
      "outputs": [
        {
          "output_type": "execute_result",
          "data": {
            "text/plain": [
              "((33600, 320), (33600, 784))"
            ]
          },
          "metadata": {},
          "execution_count": 44
        }
      ]
    },
    {
      "cell_type": "markdown",
      "metadata": {
        "id": "1fIbO8VYYCpG"
      },
      "source": [
        "#Deep Learning Models"
      ]
    },
    {
      "cell_type": "code",
      "metadata": {
        "id": "3gr7YAnTgcAd"
      },
      "source": [
        "def plot_loss_curves(history):\n",
        "  hist = history.history\n",
        "  loss, val_loss = hist[\"loss\"], hist[\"val_loss\"]\n",
        "  accuracy, val_accuracy = hist[\"accuracy\"], hist[\"val_accuracy\"]\n",
        "  epochs = range(1, len(hist[\"loss\"])+1)\n",
        "  plt.title(\"Accuracy\")\n",
        "  plt.plot(epochs, accuracy, label=\"Training\")\n",
        "  plt.plot(epochs, val_accuracy, label=\"Testing\")\n",
        "  plt.legend()\n",
        "  plt.figure()\n",
        "  plt.title(\"Loss\")\n",
        "  plt.plot(epochs, loss, label=\"Training\")\n",
        "  plt.plot(epochs, val_loss, label=\"Testing\")\n",
        "  plt.legend()\n",
        "  plt.show()  "
      ],
      "execution_count": null,
      "outputs": []
    },
    {
      "cell_type": "markdown",
      "metadata": {
        "id": "CRSJN59QY92Y"
      },
      "source": [
        "##Model 0: "
      ]
    },
    {
      "cell_type": "code",
      "metadata": {
        "id": "nZlIN7wEYUCc"
      },
      "source": [
        "model_0 = tf.keras.Sequential([\n",
        "  tf.keras.layers.Dense(28, input_shape=(784, )),\n",
        "  tf.keras.layers.Dense(64, activation=\"relu\"),\n",
        "  tf.keras.layers.Dense(128, activation=\"relu\"),\n",
        "  # tf.keras.layers.GlobalAveragePooling2D(),\n",
        "  tf.keras.layers.Dense(1, activation=\"softmax\")\n",
        "])\n",
        "\n",
        "model_0.compile(\n",
        "    loss = tf.keras.losses.sparse_categorical_crossentropy,\n",
        "    optimizer = tf.keras.optimizers.Adam(),\n",
        "    metrics = \"accuracy\"\n",
        ")"
      ],
      "execution_count": null,
      "outputs": []
    },
    {
      "cell_type": "code",
      "metadata": {
        "id": "rLBK89vBYiSF"
      },
      "source": [
        "model_0_history = model_0.fit(x_train, y_train, epochs=2, validation_data=(x_test, y_test))"
      ],
      "execution_count": null,
      "outputs": []
    },
    {
      "cell_type": "code",
      "metadata": {
        "id": "BmnXthhtGohO"
      },
      "source": [
        "pred=model_0.predict(x_test)"
      ],
      "execution_count": null,
      "outputs": []
    },
    {
      "cell_type": "code",
      "metadata": {
        "id": "COsvTI1pGnux"
      },
      "source": [
        "pred"
      ],
      "execution_count": null,
      "outputs": []
    },
    {
      "cell_type": "markdown",
      "metadata": {
        "id": "dHrtR9uzcNXK"
      },
      "source": [
        "##Model 1: CNN"
      ]
    },
    {
      "cell_type": "code",
      "metadata": {
        "id": "BDD05Jm3gog_"
      },
      "source": [
        "inputs = tf.keras.Input(shape=(28, 28, 1))\n",
        "x = tf.keras.layers.Conv2D(128, 3, 1, activation=\"relu\")(inputs)\n",
        "x = tf.keras.layers.MaxPooling2D()(x)\n",
        "x = tf.keras.layers.Conv2D(128, 3, 1, activation=\"relu\")(x)\n",
        "x = tf.keras.layers.MaxPooling2D()(x)\n",
        "x = tf.keras.layers.Flatten()(x)\n",
        "# x = tf.keras.layers.GlobalMaxPooling2D()(x)\n",
        "\n",
        "outputs = tf.keras.layers.Dense(10, activation=\"softmax\")(x)\n",
        "model_1 = tf.keras.Model(inputs, outputs)\n",
        "\n",
        "model_1.compile(loss=tf.keras.losses.sparse_categorical_crossentropy,\n",
        "                optimizer=tf.keras.optimizers.Adam(learning_rate=0.001),\n",
        "                metrics=\"accuracy\")"
      ],
      "execution_count": null,
      "outputs": []
    },
    {
      "cell_type": "code",
      "metadata": {
        "id": "WO2DPYt3jHC8"
      },
      "source": [
        "# tf.one_hot(y_test)\n",
        "model_1_history=model_1.fit(x_train.reshape((-1 ,28, 28)), y_train, epochs=10, validation_data=(x_test.reshape((-1 ,28, 28)), y_test))"
      ],
      "execution_count": null,
      "outputs": []
    },
    {
      "cell_type": "code",
      "metadata": {
        "id": "gnzElGn2TNxx"
      },
      "source": [
        "plot_loss_curves(model_1_history)"
      ],
      "execution_count": null,
      "outputs": []
    },
    {
      "cell_type": "code",
      "metadata": {
        "id": "WVVY8Cx-TTRn"
      },
      "source": [
        "preds = model_1.predict(x_test.reshape(-1, 28, 28, 1))"
      ],
      "execution_count": null,
      "outputs": []
    },
    {
      "cell_type": "code",
      "metadata": {
        "id": "lEHjgZWvTUbQ"
      },
      "source": [
        "model_1.evaluate(x_train.reshape(-1, 28, 28, 1), y_train), model_1.evaluate(x_test.reshape(-1, 28, 28, 1), y_test)"
      ],
      "execution_count": null,
      "outputs": []
    },
    {
      "cell_type": "markdown",
      "metadata": {
        "id": "ytSyrTjjZkbb"
      },
      "source": [
        "##Comparing trained models of CNN"
      ]
    },
    {
      "cell_type": "code",
      "metadata": {
        "id": "97c8e-BjZkCR"
      },
      "source": [
        "#path of 1ll 23 models i have trained so far\n",
        "# path = \"/content/drive/MyDrive/Colab Notebooks/ML Projects/New folder/\"\n",
        "path = \"/content/drive/MyDrive/Colab Notebooks/New folder/\"\n",
        "models_dic = {}\n",
        "for p in range(1, 24):\n",
        "  model_path = path + f\"m{p}.h5\"\n",
        "  model = tf.keras.models.load_model(model_path)\n",
        "  train_evaluate = model.evaluate(x_train.reshape((-1, 28, 28)), y_train)\n",
        "  test_evaluate = model.evaluate(x_test.reshape((-1, 28, 28)), y_test) \n",
        "  models_dic[p] = { \"train_accuracy\":train_evaluate[1], \"train_loss\": train_evaluate[0], \"test_accuracy\":test_evaluate[1], \"test_loss\": test_evaluate[0]}\n",
        "  models_df = pd.DataFrame(models_dic).T"
      ],
      "execution_count": null,
      "outputs": []
    },
    {
      "cell_type": "code",
      "metadata": {
        "id": "PPQx4epLh4ZX",
        "colab": {
          "base_uri": "https://localhost:8080/",
          "height": 762
        },
        "outputId": "4e74e003-041b-4ea1-f0c9-246548b06c13"
      },
      "source": [
        "models_df.sort_values(by=[\"test_accuracy\"], ascending=False)"
      ],
      "execution_count": null,
      "outputs": [
        {
          "output_type": "execute_result",
          "data": {
            "text/html": [
              "<div>\n",
              "<style scoped>\n",
              "    .dataframe tbody tr th:only-of-type {\n",
              "        vertical-align: middle;\n",
              "    }\n",
              "\n",
              "    .dataframe tbody tr th {\n",
              "        vertical-align: top;\n",
              "    }\n",
              "\n",
              "    .dataframe thead th {\n",
              "        text-align: right;\n",
              "    }\n",
              "</style>\n",
              "<table border=\"1\" class=\"dataframe\">\n",
              "  <thead>\n",
              "    <tr style=\"text-align: right;\">\n",
              "      <th></th>\n",
              "      <th>train_accuracy</th>\n",
              "      <th>train_loss</th>\n",
              "      <th>test_accuracy</th>\n",
              "      <th>test_loss</th>\n",
              "    </tr>\n",
              "  </thead>\n",
              "  <tbody>\n",
              "    <tr>\n",
              "      <th>18</th>\n",
              "      <td>1.000000</td>\n",
              "      <td>3.176907e-06</td>\n",
              "      <td>0.991786</td>\n",
              "      <td>0.067846</td>\n",
              "    </tr>\n",
              "    <tr>\n",
              "      <th>19</th>\n",
              "      <td>1.000000</td>\n",
              "      <td>1.044863e-06</td>\n",
              "      <td>0.991310</td>\n",
              "      <td>0.062082</td>\n",
              "    </tr>\n",
              "    <tr>\n",
              "      <th>22</th>\n",
              "      <td>1.000000</td>\n",
              "      <td>6.828502e-05</td>\n",
              "      <td>0.991071</td>\n",
              "      <td>0.055414</td>\n",
              "    </tr>\n",
              "    <tr>\n",
              "      <th>20</th>\n",
              "      <td>1.000000</td>\n",
              "      <td>2.188002e-07</td>\n",
              "      <td>0.991071</td>\n",
              "      <td>0.070997</td>\n",
              "    </tr>\n",
              "    <tr>\n",
              "      <th>23</th>\n",
              "      <td>1.000000</td>\n",
              "      <td>6.025529e-06</td>\n",
              "      <td>0.990952</td>\n",
              "      <td>0.060588</td>\n",
              "    </tr>\n",
              "    <tr>\n",
              "      <th>21</th>\n",
              "      <td>1.000000</td>\n",
              "      <td>1.408385e-05</td>\n",
              "      <td>0.990833</td>\n",
              "      <td>0.050922</td>\n",
              "    </tr>\n",
              "    <tr>\n",
              "      <th>15</th>\n",
              "      <td>1.000000</td>\n",
              "      <td>4.471530e-05</td>\n",
              "      <td>0.990476</td>\n",
              "      <td>0.064449</td>\n",
              "    </tr>\n",
              "    <tr>\n",
              "      <th>16</th>\n",
              "      <td>1.000000</td>\n",
              "      <td>6.130013e-06</td>\n",
              "      <td>0.990357</td>\n",
              "      <td>0.054814</td>\n",
              "    </tr>\n",
              "    <tr>\n",
              "      <th>9</th>\n",
              "      <td>0.999375</td>\n",
              "      <td>2.167474e-03</td>\n",
              "      <td>0.988095</td>\n",
              "      <td>0.065245</td>\n",
              "    </tr>\n",
              "    <tr>\n",
              "      <th>17</th>\n",
              "      <td>0.998304</td>\n",
              "      <td>7.563761e-03</td>\n",
              "      <td>0.987976</td>\n",
              "      <td>0.136149</td>\n",
              "    </tr>\n",
              "    <tr>\n",
              "      <th>11</th>\n",
              "      <td>0.999286</td>\n",
              "      <td>3.533017e-03</td>\n",
              "      <td>0.987857</td>\n",
              "      <td>0.048961</td>\n",
              "    </tr>\n",
              "    <tr>\n",
              "      <th>10</th>\n",
              "      <td>0.998929</td>\n",
              "      <td>2.709898e-03</td>\n",
              "      <td>0.987738</td>\n",
              "      <td>0.077579</td>\n",
              "    </tr>\n",
              "    <tr>\n",
              "      <th>4</th>\n",
              "      <td>0.999077</td>\n",
              "      <td>4.757093e-03</td>\n",
              "      <td>0.987619</td>\n",
              "      <td>0.045633</td>\n",
              "    </tr>\n",
              "    <tr>\n",
              "      <th>14</th>\n",
              "      <td>0.999048</td>\n",
              "      <td>3.041919e-03</td>\n",
              "      <td>0.987619</td>\n",
              "      <td>0.063026</td>\n",
              "    </tr>\n",
              "    <tr>\n",
              "      <th>13</th>\n",
              "      <td>0.999018</td>\n",
              "      <td>2.983594e-03</td>\n",
              "      <td>0.987381</td>\n",
              "      <td>0.055670</td>\n",
              "    </tr>\n",
              "    <tr>\n",
              "      <th>12</th>\n",
              "      <td>0.998482</td>\n",
              "      <td>5.923007e-03</td>\n",
              "      <td>0.987143</td>\n",
              "      <td>0.049397</td>\n",
              "    </tr>\n",
              "    <tr>\n",
              "      <th>1</th>\n",
              "      <td>0.996935</td>\n",
              "      <td>1.149080e-02</td>\n",
              "      <td>0.985952</td>\n",
              "      <td>0.051452</td>\n",
              "    </tr>\n",
              "    <tr>\n",
              "      <th>5</th>\n",
              "      <td>0.996101</td>\n",
              "      <td>1.503616e-02</td>\n",
              "      <td>0.984881</td>\n",
              "      <td>0.107619</td>\n",
              "    </tr>\n",
              "    <tr>\n",
              "      <th>2</th>\n",
              "      <td>0.994911</td>\n",
              "      <td>1.712773e-02</td>\n",
              "      <td>0.984762</td>\n",
              "      <td>0.048800</td>\n",
              "    </tr>\n",
              "    <tr>\n",
              "      <th>3</th>\n",
              "      <td>0.996964</td>\n",
              "      <td>1.204487e-02</td>\n",
              "      <td>0.984405</td>\n",
              "      <td>0.049163</td>\n",
              "    </tr>\n",
              "    <tr>\n",
              "      <th>8</th>\n",
              "      <td>0.986905</td>\n",
              "      <td>4.346908e-02</td>\n",
              "      <td>0.981548</td>\n",
              "      <td>0.058100</td>\n",
              "    </tr>\n",
              "    <tr>\n",
              "      <th>6</th>\n",
              "      <td>0.986042</td>\n",
              "      <td>4.518902e-02</td>\n",
              "      <td>0.981310</td>\n",
              "      <td>0.063656</td>\n",
              "    </tr>\n",
              "    <tr>\n",
              "      <th>7</th>\n",
              "      <td>0.936339</td>\n",
              "      <td>2.293378e-01</td>\n",
              "      <td>0.931548</td>\n",
              "      <td>0.250475</td>\n",
              "    </tr>\n",
              "  </tbody>\n",
              "</table>\n",
              "</div>"
            ],
            "text/plain": [
              "    train_accuracy    train_loss  test_accuracy  test_loss\n",
              "18        1.000000  3.176907e-06       0.991786   0.067846\n",
              "19        1.000000  1.044863e-06       0.991310   0.062082\n",
              "22        1.000000  6.828502e-05       0.991071   0.055414\n",
              "20        1.000000  2.188002e-07       0.991071   0.070997\n",
              "23        1.000000  6.025529e-06       0.990952   0.060588\n",
              "21        1.000000  1.408385e-05       0.990833   0.050922\n",
              "15        1.000000  4.471530e-05       0.990476   0.064449\n",
              "16        1.000000  6.130013e-06       0.990357   0.054814\n",
              "9         0.999375  2.167474e-03       0.988095   0.065245\n",
              "17        0.998304  7.563761e-03       0.987976   0.136149\n",
              "11        0.999286  3.533017e-03       0.987857   0.048961\n",
              "10        0.998929  2.709898e-03       0.987738   0.077579\n",
              "4         0.999077  4.757093e-03       0.987619   0.045633\n",
              "14        0.999048  3.041919e-03       0.987619   0.063026\n",
              "13        0.999018  2.983594e-03       0.987381   0.055670\n",
              "12        0.998482  5.923007e-03       0.987143   0.049397\n",
              "1         0.996935  1.149080e-02       0.985952   0.051452\n",
              "5         0.996101  1.503616e-02       0.984881   0.107619\n",
              "2         0.994911  1.712773e-02       0.984762   0.048800\n",
              "3         0.996964  1.204487e-02       0.984405   0.049163\n",
              "8         0.986905  4.346908e-02       0.981548   0.058100\n",
              "6         0.986042  4.518902e-02       0.981310   0.063656\n",
              "7         0.936339  2.293378e-01       0.931548   0.250475"
            ]
          },
          "metadata": {},
          "execution_count": 8
        }
      ]
    },
    {
      "cell_type": "code",
      "metadata": {
        "id": "_EqRfBTfiJvn",
        "colab": {
          "base_uri": "https://localhost:8080/",
          "height": 762
        },
        "outputId": "42467f78-0896-4d3d-bfea-0e45e8d5483e"
      },
      "source": [
        "models_df.sort_values(by=[\"test_loss\"], ascending=True)"
      ],
      "execution_count": null,
      "outputs": [
        {
          "output_type": "execute_result",
          "data": {
            "text/html": [
              "<div>\n",
              "<style scoped>\n",
              "    .dataframe tbody tr th:only-of-type {\n",
              "        vertical-align: middle;\n",
              "    }\n",
              "\n",
              "    .dataframe tbody tr th {\n",
              "        vertical-align: top;\n",
              "    }\n",
              "\n",
              "    .dataframe thead th {\n",
              "        text-align: right;\n",
              "    }\n",
              "</style>\n",
              "<table border=\"1\" class=\"dataframe\">\n",
              "  <thead>\n",
              "    <tr style=\"text-align: right;\">\n",
              "      <th></th>\n",
              "      <th>train_accuracy</th>\n",
              "      <th>train_loss</th>\n",
              "      <th>test_accuracy</th>\n",
              "      <th>test_loss</th>\n",
              "    </tr>\n",
              "  </thead>\n",
              "  <tbody>\n",
              "    <tr>\n",
              "      <th>4</th>\n",
              "      <td>0.999077</td>\n",
              "      <td>4.757093e-03</td>\n",
              "      <td>0.987619</td>\n",
              "      <td>0.045633</td>\n",
              "    </tr>\n",
              "    <tr>\n",
              "      <th>2</th>\n",
              "      <td>0.994911</td>\n",
              "      <td>1.712773e-02</td>\n",
              "      <td>0.984762</td>\n",
              "      <td>0.048800</td>\n",
              "    </tr>\n",
              "    <tr>\n",
              "      <th>11</th>\n",
              "      <td>0.999286</td>\n",
              "      <td>3.533017e-03</td>\n",
              "      <td>0.987857</td>\n",
              "      <td>0.048961</td>\n",
              "    </tr>\n",
              "    <tr>\n",
              "      <th>3</th>\n",
              "      <td>0.996964</td>\n",
              "      <td>1.204487e-02</td>\n",
              "      <td>0.984405</td>\n",
              "      <td>0.049163</td>\n",
              "    </tr>\n",
              "    <tr>\n",
              "      <th>12</th>\n",
              "      <td>0.998482</td>\n",
              "      <td>5.923007e-03</td>\n",
              "      <td>0.987143</td>\n",
              "      <td>0.049397</td>\n",
              "    </tr>\n",
              "    <tr>\n",
              "      <th>21</th>\n",
              "      <td>1.000000</td>\n",
              "      <td>1.408385e-05</td>\n",
              "      <td>0.990833</td>\n",
              "      <td>0.050922</td>\n",
              "    </tr>\n",
              "    <tr>\n",
              "      <th>1</th>\n",
              "      <td>0.996935</td>\n",
              "      <td>1.149080e-02</td>\n",
              "      <td>0.985952</td>\n",
              "      <td>0.051452</td>\n",
              "    </tr>\n",
              "    <tr>\n",
              "      <th>16</th>\n",
              "      <td>1.000000</td>\n",
              "      <td>6.130013e-06</td>\n",
              "      <td>0.990357</td>\n",
              "      <td>0.054814</td>\n",
              "    </tr>\n",
              "    <tr>\n",
              "      <th>22</th>\n",
              "      <td>1.000000</td>\n",
              "      <td>6.828502e-05</td>\n",
              "      <td>0.991071</td>\n",
              "      <td>0.055414</td>\n",
              "    </tr>\n",
              "    <tr>\n",
              "      <th>13</th>\n",
              "      <td>0.999018</td>\n",
              "      <td>2.983594e-03</td>\n",
              "      <td>0.987381</td>\n",
              "      <td>0.055670</td>\n",
              "    </tr>\n",
              "    <tr>\n",
              "      <th>8</th>\n",
              "      <td>0.986905</td>\n",
              "      <td>4.346908e-02</td>\n",
              "      <td>0.981548</td>\n",
              "      <td>0.058100</td>\n",
              "    </tr>\n",
              "    <tr>\n",
              "      <th>23</th>\n",
              "      <td>1.000000</td>\n",
              "      <td>6.025529e-06</td>\n",
              "      <td>0.990952</td>\n",
              "      <td>0.060588</td>\n",
              "    </tr>\n",
              "    <tr>\n",
              "      <th>19</th>\n",
              "      <td>1.000000</td>\n",
              "      <td>1.044863e-06</td>\n",
              "      <td>0.991310</td>\n",
              "      <td>0.062082</td>\n",
              "    </tr>\n",
              "    <tr>\n",
              "      <th>14</th>\n",
              "      <td>0.999048</td>\n",
              "      <td>3.041919e-03</td>\n",
              "      <td>0.987619</td>\n",
              "      <td>0.063026</td>\n",
              "    </tr>\n",
              "    <tr>\n",
              "      <th>6</th>\n",
              "      <td>0.986042</td>\n",
              "      <td>4.518902e-02</td>\n",
              "      <td>0.981310</td>\n",
              "      <td>0.063656</td>\n",
              "    </tr>\n",
              "    <tr>\n",
              "      <th>15</th>\n",
              "      <td>1.000000</td>\n",
              "      <td>4.471530e-05</td>\n",
              "      <td>0.990476</td>\n",
              "      <td>0.064449</td>\n",
              "    </tr>\n",
              "    <tr>\n",
              "      <th>9</th>\n",
              "      <td>0.999375</td>\n",
              "      <td>2.167474e-03</td>\n",
              "      <td>0.988095</td>\n",
              "      <td>0.065245</td>\n",
              "    </tr>\n",
              "    <tr>\n",
              "      <th>18</th>\n",
              "      <td>1.000000</td>\n",
              "      <td>3.176907e-06</td>\n",
              "      <td>0.991786</td>\n",
              "      <td>0.067846</td>\n",
              "    </tr>\n",
              "    <tr>\n",
              "      <th>20</th>\n",
              "      <td>1.000000</td>\n",
              "      <td>2.188002e-07</td>\n",
              "      <td>0.991071</td>\n",
              "      <td>0.070997</td>\n",
              "    </tr>\n",
              "    <tr>\n",
              "      <th>10</th>\n",
              "      <td>0.998929</td>\n",
              "      <td>2.709898e-03</td>\n",
              "      <td>0.987738</td>\n",
              "      <td>0.077579</td>\n",
              "    </tr>\n",
              "    <tr>\n",
              "      <th>5</th>\n",
              "      <td>0.996101</td>\n",
              "      <td>1.503616e-02</td>\n",
              "      <td>0.984881</td>\n",
              "      <td>0.107619</td>\n",
              "    </tr>\n",
              "    <tr>\n",
              "      <th>17</th>\n",
              "      <td>0.998304</td>\n",
              "      <td>7.563761e-03</td>\n",
              "      <td>0.987976</td>\n",
              "      <td>0.136149</td>\n",
              "    </tr>\n",
              "    <tr>\n",
              "      <th>7</th>\n",
              "      <td>0.936339</td>\n",
              "      <td>2.293378e-01</td>\n",
              "      <td>0.931548</td>\n",
              "      <td>0.250475</td>\n",
              "    </tr>\n",
              "  </tbody>\n",
              "</table>\n",
              "</div>"
            ],
            "text/plain": [
              "    train_accuracy    train_loss  test_accuracy  test_loss\n",
              "4         0.999077  4.757093e-03       0.987619   0.045633\n",
              "2         0.994911  1.712773e-02       0.984762   0.048800\n",
              "11        0.999286  3.533017e-03       0.987857   0.048961\n",
              "3         0.996964  1.204487e-02       0.984405   0.049163\n",
              "12        0.998482  5.923007e-03       0.987143   0.049397\n",
              "21        1.000000  1.408385e-05       0.990833   0.050922\n",
              "1         0.996935  1.149080e-02       0.985952   0.051452\n",
              "16        1.000000  6.130013e-06       0.990357   0.054814\n",
              "22        1.000000  6.828502e-05       0.991071   0.055414\n",
              "13        0.999018  2.983594e-03       0.987381   0.055670\n",
              "8         0.986905  4.346908e-02       0.981548   0.058100\n",
              "23        1.000000  6.025529e-06       0.990952   0.060588\n",
              "19        1.000000  1.044863e-06       0.991310   0.062082\n",
              "14        0.999048  3.041919e-03       0.987619   0.063026\n",
              "6         0.986042  4.518902e-02       0.981310   0.063656\n",
              "15        1.000000  4.471530e-05       0.990476   0.064449\n",
              "9         0.999375  2.167474e-03       0.988095   0.065245\n",
              "18        1.000000  3.176907e-06       0.991786   0.067846\n",
              "20        1.000000  2.188002e-07       0.991071   0.070997\n",
              "10        0.998929  2.709898e-03       0.987738   0.077579\n",
              "5         0.996101  1.503616e-02       0.984881   0.107619\n",
              "17        0.998304  7.563761e-03       0.987976   0.136149\n",
              "7         0.936339  2.293378e-01       0.931548   0.250475"
            ]
          },
          "metadata": {},
          "execution_count": 9
        }
      ]
    },
    {
      "cell_type": "markdown",
      "metadata": {
        "id": "JPGNAMn5Rtah"
      },
      "source": [
        "###The best Deep Learning models are 4 and 18 and they don't different a lot"
      ]
    },
    {
      "cell_type": "code",
      "metadata": {
        "id": "FhxK974kjSJu"
      },
      "source": [
        "# path = \"/content/drive/MyDrive/Colab Notebooks/ML Projects/New folder/\"\n",
        "path = \"/content/drive/MyDrive/Colab Notebooks/New folder/\"\n",
        "\n",
        "model_4 = tf.keras.models.load_model(path + f\"m4.h5\")\n",
        "model_18 = tf.keras.models.load_model(path + f\"m18.h5\")"
      ],
      "execution_count": null,
      "outputs": []
    },
    {
      "cell_type": "markdown",
      "metadata": {
        "id": "Q-WrbIttTyBY"
      },
      "source": [
        "###Creating the Submission file"
      ]
    },
    {
      "cell_type": "code",
      "metadata": {
        "id": "Z0qErtMmOCuG",
        "colab": {
          "base_uri": "https://localhost:8080/"
        },
        "outputId": "5b82b58e-11b2-43d5-bac9-484b14e89c1d"
      },
      "source": [
        "pred_18 = model_18.predict(test.values.reshape((-1, 28, 28)))\n",
        "pred_4 = model_4.predict(test.values.reshape((-1, 28, 28)))\n",
        "pred_4 = np.argmax(pred_4, axis=1)\n",
        "pred_18 = np.argmax(pred_18, axis=1)\n",
        "len(pred_4 == pred_18) / len(pred_4)\n",
        "submission = pred_4\n",
        "submission"
      ],
      "execution_count": null,
      "outputs": [
        {
          "output_type": "execute_result",
          "data": {
            "text/plain": [
              "array([2, 0, 9, ..., 3, 9, 2])"
            ]
          },
          "metadata": {},
          "execution_count": 11
        }
      ]
    },
    {
      "cell_type": "code",
      "metadata": {
        "colab": {
          "base_uri": "https://localhost:8080/"
        },
        "id": "2YVNNvLTAB0b",
        "outputId": "58ee9497-d89e-44f7-8dbd-0f49ada26dd7"
      },
      "source": [
        "# tf.Tensor(op=[232,32,32,3,3,3], dtype=tf.float32, value_index=[1,1,1,1,1,1])\n",
        "tf.constant([2,3,4,5,5]).numpy()"
      ],
      "execution_count": null,
      "outputs": [
        {
          "output_type": "execute_result",
          "data": {
            "text/plain": [
              "array([2, 3, 4, 5, 5], dtype=int32)"
            ]
          },
          "metadata": {},
          "execution_count": 25
        }
      ]
    },
    {
      "cell_type": "code",
      "metadata": {
        "id": "SgmZAJslSULX"
      },
      "source": [
        "n=26374\n",
        "pred= model_4.predict(test.values[n].reshape((-1, 28, 28)))\n",
        "plt.imshow(test.values[n].reshape((28, 28)))\n",
        "plt.title(f\"The Number I Predicted is: {np.argmax(pred)} \")"
      ],
      "execution_count": null,
      "outputs": []
    },
    {
      "cell_type": "code",
      "metadata": {
        "id": "UtdNF_QASZ0e"
      },
      "source": [
        "# path = \"/content/drive/MyDrive/Colab Notebooks/ML Projects/New folder/\"\n",
        "path = \"/content/drive/MyDrive/Colab Notebooks/New folder/\"\n",
        "models_preds = []\n",
        "for p in range(1, 24):\n",
        "  model_path = path + f\"m{p}.h5\"\n",
        "  model = tf.keras.models.load_model(model_path)\n",
        "  sub = model.predict(test.values.reshape((-1, 28, 28)))\n",
        "  sub = np.argmax(sub, axis=1)\n",
        "  models_preds.append(sub)\n",
        "diff = pd.DataFrame(models_preds)"
      ],
      "execution_count": null,
      "outputs": []
    },
    {
      "cell_type": "code",
      "metadata": {
        "id": "56h85iGAd8IC"
      },
      "source": [
        "diff"
      ],
      "execution_count": null,
      "outputs": []
    },
    {
      "cell_type": "code",
      "metadata": {
        "id": "OJVKPMk1WpO7"
      },
      "source": [
        "arr=[]\n",
        "transpose_diff=diff.T\n",
        "for i in range(len(transpose_diff)):\n",
        "  item = transpose_diff.iloc[i]\n",
        "  n=item.unique()\n",
        "  if len(n) != 1:\n",
        "    arr.append([i, len(n), n, item.value_counts().to_list()])\n",
        "misspredictions = pd.DataFrame(arr, columns=[\"Id\", \"Count\", \"Unique_Items\", \"Unique_Items_Count\"])"
      ],
      "execution_count": null,
      "outputs": []
    },
    {
      "cell_type": "code",
      "metadata": {
        "colab": {
          "base_uri": "https://localhost:8080/",
          "height": 419
        },
        "id": "7uQzEBDvdnNm",
        "outputId": "0b9b1c11-7197-4af5-b879-c8891f83625c"
      },
      "source": [
        "the_most_missunderstod_ones = misspredictions.sort_values([\"Unique_Items_Count\"])\n",
        "the_most_missunderstod_ones"
      ],
      "execution_count": null,
      "outputs": [
        {
          "output_type": "execute_result",
          "data": {
            "text/html": [
              "<div>\n",
              "<style scoped>\n",
              "    .dataframe tbody tr th:only-of-type {\n",
              "        vertical-align: middle;\n",
              "    }\n",
              "\n",
              "    .dataframe tbody tr th {\n",
              "        vertical-align: top;\n",
              "    }\n",
              "\n",
              "    .dataframe thead th {\n",
              "        text-align: right;\n",
              "    }\n",
              "</style>\n",
              "<table border=\"1\" class=\"dataframe\">\n",
              "  <thead>\n",
              "    <tr style=\"text-align: right;\">\n",
              "      <th></th>\n",
              "      <th>Id</th>\n",
              "      <th>Count</th>\n",
              "      <th>Unique_Items</th>\n",
              "      <th>Unique_Items_Count</th>\n",
              "    </tr>\n",
              "  </thead>\n",
              "  <tbody>\n",
              "    <tr>\n",
              "      <th>426</th>\n",
              "      <td>4341</td>\n",
              "      <td>5</td>\n",
              "      <td>[0, 6, 3, 2, 8]</td>\n",
              "      <td>[7, 7, 4, 3, 2]</td>\n",
              "    </tr>\n",
              "    <tr>\n",
              "      <th>798</th>\n",
              "      <td>8337</td>\n",
              "      <td>5</td>\n",
              "      <td>[0, 4, 2, 9, 8]</td>\n",
              "      <td>[8, 6, 4, 3, 2]</td>\n",
              "    </tr>\n",
              "    <tr>\n",
              "      <th>1697</th>\n",
              "      <td>17583</td>\n",
              "      <td>6</td>\n",
              "      <td>[2, 4, 6, 3, 1, 5]</td>\n",
              "      <td>[8, 7, 3, 2, 2, 1]</td>\n",
              "    </tr>\n",
              "    <tr>\n",
              "      <th>767</th>\n",
              "      <td>8031</td>\n",
              "      <td>4</td>\n",
              "      <td>[8, 7, 3, 9]</td>\n",
              "      <td>[8, 7, 5, 3]</td>\n",
              "    </tr>\n",
              "    <tr>\n",
              "      <th>2563</th>\n",
              "      <td>26392</td>\n",
              "      <td>5</td>\n",
              "      <td>[2, 7, 8, 3, 9]</td>\n",
              "      <td>[8, 7, 6, 1, 1]</td>\n",
              "    </tr>\n",
              "    <tr>\n",
              "      <th>...</th>\n",
              "      <td>...</td>\n",
              "      <td>...</td>\n",
              "      <td>...</td>\n",
              "      <td>...</td>\n",
              "    </tr>\n",
              "    <tr>\n",
              "      <th>552</th>\n",
              "      <td>5669</td>\n",
              "      <td>2</td>\n",
              "      <td>[2, 8]</td>\n",
              "      <td>[22, 1]</td>\n",
              "    </tr>\n",
              "    <tr>\n",
              "      <th>1484</th>\n",
              "      <td>15617</td>\n",
              "      <td>2</td>\n",
              "      <td>[9, 5]</td>\n",
              "      <td>[22, 1]</td>\n",
              "    </tr>\n",
              "    <tr>\n",
              "      <th>553</th>\n",
              "      <td>5684</td>\n",
              "      <td>2</td>\n",
              "      <td>[3, 2]</td>\n",
              "      <td>[22, 1]</td>\n",
              "    </tr>\n",
              "    <tr>\n",
              "      <th>548</th>\n",
              "      <td>5620</td>\n",
              "      <td>2</td>\n",
              "      <td>[2, 5]</td>\n",
              "      <td>[22, 1]</td>\n",
              "    </tr>\n",
              "    <tr>\n",
              "      <th>1355</th>\n",
              "      <td>13986</td>\n",
              "      <td>2</td>\n",
              "      <td>[5, 4]</td>\n",
              "      <td>[22, 1]</td>\n",
              "    </tr>\n",
              "  </tbody>\n",
              "</table>\n",
              "<p>2711 rows × 4 columns</p>\n",
              "</div>"
            ],
            "text/plain": [
              "         Id  Count        Unique_Items  Unique_Items_Count\n",
              "426    4341      5     [0, 6, 3, 2, 8]     [7, 7, 4, 3, 2]\n",
              "798    8337      5     [0, 4, 2, 9, 8]     [8, 6, 4, 3, 2]\n",
              "1697  17583      6  [2, 4, 6, 3, 1, 5]  [8, 7, 3, 2, 2, 1]\n",
              "767    8031      4        [8, 7, 3, 9]        [8, 7, 5, 3]\n",
              "2563  26392      5     [2, 7, 8, 3, 9]     [8, 7, 6, 1, 1]\n",
              "...     ...    ...                 ...                 ...\n",
              "552    5669      2              [2, 8]             [22, 1]\n",
              "1484  15617      2              [9, 5]             [22, 1]\n",
              "553    5684      2              [3, 2]             [22, 1]\n",
              "548    5620      2              [2, 5]             [22, 1]\n",
              "1355  13986      2              [5, 4]             [22, 1]\n",
              "\n",
              "[2711 rows x 4 columns]"
            ]
          },
          "metadata": {},
          "execution_count": 28
        }
      ]
    },
    {
      "cell_type": "code",
      "metadata": {
        "id": "37NTCjh3rTbF"
      },
      "source": [
        "for i in range(len(test)):\n",
        "  id = the_most_missunderstod_ones.Id.values[i]\n",
        "  print(i, the_most_missunderstod_ones.iloc[i])\n",
        "  plt.figure()\n",
        "  plt.imshow(test.iloc[id].values.reshape((28, 28)))\n",
        "  plt.title(f\"The Number I Predicted is: {submission[id]}\")\n",
        "  plt.show()\n",
        "  answer = input()\n",
        "  if answer ==\"Quit\": break\n",
        "  if answer.isdigit():\n",
        "    submission[id] = int(answer)"
      ],
      "execution_count": null,
      "outputs": []
    },
    {
      "cell_type": "code",
      "metadata": {
        "colab": {
          "base_uri": "https://localhost:8080/"
        },
        "id": "eYQi-y3yLodW",
        "outputId": "d2fa9f66-895e-4cfa-d3a0-543837c2f4cc"
      },
      "source": [
        "diff[0].unique()"
      ],
      "execution_count": null,
      "outputs": [
        {
          "output_type": "execute_result",
          "data": {
            "text/plain": [
              "array([2])"
            ]
          },
          "metadata": {},
          "execution_count": 167
        }
      ]
    },
    {
      "cell_type": "code",
      "metadata": {
        "id": "z-nsCpLsQ2Ka"
      },
      "source": [
        "arr=[]\n",
        "transpose_diff=diff.T\n",
        "for i in range(len(transpose_diff)):\n",
        "  item = transpose_diff.iloc[i]\n",
        "  temp=item.unique()\n",
        "  arr.append(temp[0])\n",
        "save_file = pd.DataFrame(arr, columns=[\"Label\"])\n",
        "save_file.to_csv(\"/content/sample_submission.csv\")"
      ],
      "execution_count": null,
      "outputs": []
    },
    {
      "cell_type": "markdown",
      "metadata": {
        "id": "yP3jwhcXZbOq"
      },
      "source": [
        "#The Final Selection"
      ]
    },
    {
      "cell_type": "code",
      "metadata": {
        "id": "H39NyIhsaBsR"
      },
      "source": [
        "sub = pd.read_csv(\"/content/sample_submission.csv\")"
      ],
      "execution_count": null,
      "outputs": []
    },
    {
      "cell_type": "code",
      "metadata": {
        "id": "lkPdFddDZRNo"
      },
      "source": [
        "#path of 1ll 23 models i have trained so far\n",
        "# path = \"/content/drive/MyDrive/Colab Notebooks/ML Projects/New folder/\"\n",
        "path = \"/content/drive/MyDrive/Colab Notebooks/New folder/\"\n",
        "m_d = {}\n",
        "for p in range(1, 24):\n",
        "  model_path = path + f\"m{p}.h5\"\n",
        "  model = tf.keras.models.load_model(model_path)\n",
        "  model.fit(X.reshape((-1, 28, 28))//10, Y//10, epochs = 5, validation_data=(test.values.reshape((-1, 28, 28))//10, sub.Label.values//10))\n",
        "  train_evaluate = model.evaluate(X.reshape((-1, 28, 28)), Y)\n",
        "  test_evaluate = model.evaluate(test.values.reshape((-1, 28, 28)), sub.Label.values) \n",
        "  m_d[p] = { \"train_accuracy\":train_evaluate[1], \"train_loss\": train_evaluate[0], \"test_accuracy\":test_evaluate[1], \"test_loss\": test_evaluate[0]}\n",
        "  models_d = pd.DataFrame(m_d).T"
      ],
      "execution_count": null,
      "outputs": []
    },
    {
      "cell_type": "code",
      "metadata": {
        "id": "BUJRwOQCcZ_6"
      },
      "source": [
        "# models_d.to_csv(\"/content/drive/MyDrive/Colab Notebooks/FinalComapring.csv\")"
      ],
      "execution_count": null,
      "outputs": []
    },
    {
      "cell_type": "code",
      "metadata": {
        "colab": {
          "base_uri": "https://localhost:8080/",
          "height": 762
        },
        "id": "jLlbs7aDjhcG",
        "outputId": "8442022b-277c-4ad7-e6f4-e3d68142ba37"
      },
      "source": [
        "models_d.sort_values(by=\"test_accuracy\", ascending=False)"
      ],
      "execution_count": null,
      "outputs": [
        {
          "output_type": "execute_result",
          "data": {
            "text/html": [
              "<div>\n",
              "<style scoped>\n",
              "    .dataframe tbody tr th:only-of-type {\n",
              "        vertical-align: middle;\n",
              "    }\n",
              "\n",
              "    .dataframe tbody tr th {\n",
              "        vertical-align: top;\n",
              "    }\n",
              "\n",
              "    .dataframe thead th {\n",
              "        text-align: right;\n",
              "    }\n",
              "</style>\n",
              "<table border=\"1\" class=\"dataframe\">\n",
              "  <thead>\n",
              "    <tr style=\"text-align: right;\">\n",
              "      <th></th>\n",
              "      <th>train_accuracy</th>\n",
              "      <th>train_loss</th>\n",
              "      <th>test_accuracy</th>\n",
              "      <th>test_loss</th>\n",
              "    </tr>\n",
              "  </thead>\n",
              "  <tbody>\n",
              "    <tr>\n",
              "      <th>10</th>\n",
              "      <td>0.933500</td>\n",
              "      <td>0.294131</td>\n",
              "      <td>0.923536</td>\n",
              "      <td>0.396406</td>\n",
              "    </tr>\n",
              "    <tr>\n",
              "      <th>17</th>\n",
              "      <td>0.926357</td>\n",
              "      <td>0.699339</td>\n",
              "      <td>0.914821</td>\n",
              "      <td>0.949701</td>\n",
              "    </tr>\n",
              "    <tr>\n",
              "      <th>5</th>\n",
              "      <td>0.888024</td>\n",
              "      <td>0.942263</td>\n",
              "      <td>0.881821</td>\n",
              "      <td>1.112346</td>\n",
              "    </tr>\n",
              "    <tr>\n",
              "      <th>22</th>\n",
              "      <td>0.743167</td>\n",
              "      <td>2.127851</td>\n",
              "      <td>0.737821</td>\n",
              "      <td>2.228649</td>\n",
              "    </tr>\n",
              "    <tr>\n",
              "      <th>15</th>\n",
              "      <td>0.615714</td>\n",
              "      <td>5.434259</td>\n",
              "      <td>0.617214</td>\n",
              "      <td>5.467914</td>\n",
              "    </tr>\n",
              "    <tr>\n",
              "      <th>21</th>\n",
              "      <td>0.377571</td>\n",
              "      <td>12.077907</td>\n",
              "      <td>0.376250</td>\n",
              "      <td>12.150851</td>\n",
              "    </tr>\n",
              "    <tr>\n",
              "      <th>23</th>\n",
              "      <td>0.359214</td>\n",
              "      <td>12.857657</td>\n",
              "      <td>0.364607</td>\n",
              "      <td>12.993781</td>\n",
              "    </tr>\n",
              "    <tr>\n",
              "      <th>14</th>\n",
              "      <td>0.343810</td>\n",
              "      <td>9.292270</td>\n",
              "      <td>0.344786</td>\n",
              "      <td>9.358514</td>\n",
              "    </tr>\n",
              "    <tr>\n",
              "      <th>9</th>\n",
              "      <td>0.272905</td>\n",
              "      <td>17.205099</td>\n",
              "      <td>0.273536</td>\n",
              "      <td>17.370552</td>\n",
              "    </tr>\n",
              "    <tr>\n",
              "      <th>18</th>\n",
              "      <td>0.186095</td>\n",
              "      <td>24.097271</td>\n",
              "      <td>0.186536</td>\n",
              "      <td>24.048954</td>\n",
              "    </tr>\n",
              "    <tr>\n",
              "      <th>16</th>\n",
              "      <td>0.179167</td>\n",
              "      <td>36.230160</td>\n",
              "      <td>0.179071</td>\n",
              "      <td>36.466030</td>\n",
              "    </tr>\n",
              "    <tr>\n",
              "      <th>19</th>\n",
              "      <td>0.172262</td>\n",
              "      <td>33.234276</td>\n",
              "      <td>0.173607</td>\n",
              "      <td>33.348316</td>\n",
              "    </tr>\n",
              "    <tr>\n",
              "      <th>13</th>\n",
              "      <td>0.146524</td>\n",
              "      <td>29.331253</td>\n",
              "      <td>0.146357</td>\n",
              "      <td>29.344837</td>\n",
              "    </tr>\n",
              "    <tr>\n",
              "      <th>11</th>\n",
              "      <td>0.139762</td>\n",
              "      <td>20.743559</td>\n",
              "      <td>0.140571</td>\n",
              "      <td>20.791550</td>\n",
              "    </tr>\n",
              "    <tr>\n",
              "      <th>4</th>\n",
              "      <td>0.131024</td>\n",
              "      <td>24.436394</td>\n",
              "      <td>0.131536</td>\n",
              "      <td>24.516878</td>\n",
              "    </tr>\n",
              "    <tr>\n",
              "      <th>3</th>\n",
              "      <td>0.125833</td>\n",
              "      <td>13.322968</td>\n",
              "      <td>0.127143</td>\n",
              "      <td>13.375772</td>\n",
              "    </tr>\n",
              "    <tr>\n",
              "      <th>12</th>\n",
              "      <td>0.123524</td>\n",
              "      <td>16.539450</td>\n",
              "      <td>0.122000</td>\n",
              "      <td>16.584894</td>\n",
              "    </tr>\n",
              "    <tr>\n",
              "      <th>20</th>\n",
              "      <td>0.098619</td>\n",
              "      <td>59.260250</td>\n",
              "      <td>0.100000</td>\n",
              "      <td>59.188786</td>\n",
              "    </tr>\n",
              "    <tr>\n",
              "      <th>2</th>\n",
              "      <td>0.098571</td>\n",
              "      <td>21.769047</td>\n",
              "      <td>0.099964</td>\n",
              "      <td>21.794172</td>\n",
              "    </tr>\n",
              "    <tr>\n",
              "      <th>8</th>\n",
              "      <td>0.098381</td>\n",
              "      <td>46.276096</td>\n",
              "      <td>0.099821</td>\n",
              "      <td>46.136242</td>\n",
              "    </tr>\n",
              "    <tr>\n",
              "      <th>7</th>\n",
              "      <td>0.098381</td>\n",
              "      <td>56.544025</td>\n",
              "      <td>0.099821</td>\n",
              "      <td>56.499741</td>\n",
              "    </tr>\n",
              "    <tr>\n",
              "      <th>6</th>\n",
              "      <td>0.098381</td>\n",
              "      <td>62.202442</td>\n",
              "      <td>0.099821</td>\n",
              "      <td>62.061497</td>\n",
              "    </tr>\n",
              "    <tr>\n",
              "      <th>1</th>\n",
              "      <td>0.098381</td>\n",
              "      <td>23.661039</td>\n",
              "      <td>0.099821</td>\n",
              "      <td>23.673214</td>\n",
              "    </tr>\n",
              "  </tbody>\n",
              "</table>\n",
              "</div>"
            ],
            "text/plain": [
              "    train_accuracy  train_loss  test_accuracy  test_loss\n",
              "10        0.933500    0.294131       0.923536   0.396406\n",
              "17        0.926357    0.699339       0.914821   0.949701\n",
              "5         0.888024    0.942263       0.881821   1.112346\n",
              "22        0.743167    2.127851       0.737821   2.228649\n",
              "15        0.615714    5.434259       0.617214   5.467914\n",
              "21        0.377571   12.077907       0.376250  12.150851\n",
              "23        0.359214   12.857657       0.364607  12.993781\n",
              "14        0.343810    9.292270       0.344786   9.358514\n",
              "9         0.272905   17.205099       0.273536  17.370552\n",
              "18        0.186095   24.097271       0.186536  24.048954\n",
              "16        0.179167   36.230160       0.179071  36.466030\n",
              "19        0.172262   33.234276       0.173607  33.348316\n",
              "13        0.146524   29.331253       0.146357  29.344837\n",
              "11        0.139762   20.743559       0.140571  20.791550\n",
              "4         0.131024   24.436394       0.131536  24.516878\n",
              "3         0.125833   13.322968       0.127143  13.375772\n",
              "12        0.123524   16.539450       0.122000  16.584894\n",
              "20        0.098619   59.260250       0.100000  59.188786\n",
              "2         0.098571   21.769047       0.099964  21.794172\n",
              "8         0.098381   46.276096       0.099821  46.136242\n",
              "7         0.098381   56.544025       0.099821  56.499741\n",
              "6         0.098381   62.202442       0.099821  62.061497\n",
              "1         0.098381   23.661039       0.099821  23.673214"
            ]
          },
          "metadata": {},
          "execution_count": 215
        }
      ]
    },
    {
      "cell_type": "code",
      "metadata": {
        "id": "dR2zA_5PpiGh"
      },
      "source": [
        "# path = \"/content/drive/MyDrive/Colab Notebooks/New folder/\"\n",
        "path = \"/content/drive/MyDrive/New folder/\"\n",
        "m_d = {}\n",
        "history_list=[]\n",
        "for p in range(1, 24):\n",
        "  model_path = path + f\"m{p}.h5\"\n",
        "  model = tf.keras.models.load_model(model_path)\n",
        "  history=model.fit(X.reshape((-1, 28, 28)), Y, epochs = 20, validation_data=(test.values.reshape((-1, 28, 28))//5, sub.Label.values//5))\n",
        "  train_evaluate = model.evaluate(X.reshape((-1, 28, 28)), Y)\n",
        "  test_evaluate = model.evaluate(test.values.reshape((-1, 28, 28)), sub.Label.values) \n",
        "  model.save(f\"temp_m{p}.h5\")\n",
        "  history_list.append(history)\n",
        "  # m_d[p] = { \"train_accuracy\":train_evaluate[1], \"train_loss\": train_evaluate[0], \"test_accuracy\":test_evaluate[1], \"test_loss\": test_evaluate[0]}\n",
        "  m_d[p] = { \"train_accuracy\":train_evaluate[1], \"train_loss\": train_evaluate[0], \"test_accuracy\":test_evaluate[1], \"test_loss\": test_evaluate[0], \"history\":history}\n",
        "  models_d = pd.DataFrame(m_d).T"
      ],
      "execution_count": null,
      "outputs": []
    },
    {
      "cell_type": "code",
      "source": [
        "# Submission!\n",
        "# submission_pred = model.predict(Test_df.values)\n",
        "# submission_pred = np.argmax(submission_pred,axis = 1)\n",
        "# submission_pred = pd.Series(submission_pred,name=\"Label\")\n",
        "# submission = pd.concat([pd.Series(range(1,28001),name = \"ImageId\"),submission_pred],axis = 1)\n",
        "\n",
        "# submission.to_csv(\"submissionMNIST.csv\",index=False)"
      ],
      "metadata": {
        "id": "-2QEtQMijoil"
      },
      "execution_count": null,
      "outputs": []
    }
  ]
}