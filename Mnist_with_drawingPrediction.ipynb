{
  "nbformat": 4,
  "nbformat_minor": 0,
  "metadata": {
    "accelerator": "GPU",
    "colab": {
      "provenance": [],
      "collapsed_sections": [
        "56-sQxLiWxjU",
        "bMxMvz0Yct0o",
        "u_OId5aIiJBg",
        "nvYQyef7iSwR",
        "z2WvvY8FlNl6",
        "TrcsBNR0RWJR",
        "CRSJN59QY92Y",
        "dHrtR9uzcNXK",
        "ytSyrTjjZkbb",
        "yP3jwhcXZbOq"
      ],
      "include_colab_link": true
    },
    "kernelspec": {
      "display_name": "Python 3",
      "name": "python3"
    },
    "language_info": {
      "name": "python"
    }
  },
  "cells": [
    {
      "cell_type": "markdown",
      "metadata": {
        "id": "view-in-github",
        "colab_type": "text"
      },
      "source": [
        "<a href=\"https://colab.research.google.com/github/mralamdari/Machine_Learning_Projects/blob/main/Mnist_with_drawingPrediction.ipynb\" target=\"_parent\"><img src=\"https://colab.research.google.com/assets/colab-badge.svg\" alt=\"Open In Colab\"/></a>"
      ]
    },
    {
      "cell_type": "markdown",
      "metadata": {
        "id": "kdLXEpzX720P"
      },
      "source": [
        "https://github.com/techwithtim\n",
        "\n",
        "\n",
        "https://github.com/techwithtim/Number-Guesser-Neural-Net"
      ]
    },
    {
      "cell_type": "code",
      "metadata": {
        "id": "8nSQfqJXGuJg"
      },
      "source": [
        "import os\n",
        "import datetime\n",
        "import numpy as np\n",
        "import pandas as pd\n",
        "import seaborn as sns\n",
        "import tensorflow as tf\n",
        "import matplotlib.pyplot as plt\n",
        "\n",
        "from sklearn import preprocessing, model_selection, linear_model, feature_selection, neighbors, svm, tree,ensemble, metrics"
      ],
      "execution_count": null,
      "outputs": []
    },
    {
      "cell_type": "code",
      "metadata": {
        "colab": {
          "base_uri": "https://localhost:8080/"
        },
        "id": "tSTvMIROZTtf",
        "outputId": "343a5b6b-a8d6-4bc3-f7e6-167366f8cb02"
      },
      "source": [
        "!nvidia-smi -L"
      ],
      "execution_count": null,
      "outputs": [
        {
          "output_type": "stream",
          "name": "stdout",
          "text": [
            "GPU 0: Tesla K80 (UUID: GPU-1d531269-359c-954b-777f-dec65ef31a99)\n"
          ]
        }
      ]
    },
    {
      "cell_type": "code",
      "metadata": {
        "id": "FuoWlzBAVWMv"
      },
      "source": [
        "from google.colab import drive\n",
        "drive.mount('/content/drive')"
      ],
      "execution_count": null,
      "outputs": []
    },
    {
      "cell_type": "markdown",
      "metadata": {
        "id": "3jfvyerCKbv-"
      },
      "source": [
        "##Data Collecting"
      ]
    },
    {
      "cell_type": "code",
      "metadata": {
        "id": "MPUO4_JB7uUb"
      },
      "source": [
        "os.environ['KAGGLE_CONFIG_DIR'] = '/content/drive/MyDrive/Colab Notebooks/'\n",
        "!kaggle competitions download -c digit-recognizer\n",
        "!unzip \\*.zip && rm *.zip"
      ],
      "execution_count": null,
      "outputs": []
    },
    {
      "cell_type": "code",
      "metadata": {
        "id": "eS3dbr0kIP7k"
      },
      "source": [
        "train = pd.read_csv(\"train.csv\")\n",
        "test = pd.read_csv(\"test.csv\")\n",
        "submission = pd.read_csv(\"sample_submission.csv\")"
      ],
      "execution_count": null,
      "outputs": []
    },
    {
      "cell_type": "markdown",
      "metadata": {
        "id": "-ms132SlKY0n"
      },
      "source": [
        "train: 42000 samples with labels\n",
        "\n",
        "test: 28000 samples without labels\n",
        "\n",
        "submission: 28000 labels for test\n",
        "\n",
        "features: 784"
      ]
    },
    {
      "cell_type": "code",
      "metadata": {
        "id": "v3Pg3_h6JPng"
      },
      "source": [
        "train.shape, test.shape, submission.shape"
      ],
      "execution_count": null,
      "outputs": []
    },
    {
      "cell_type": "markdown",
      "metadata": {
        "id": "kDqJpBV7MXCR"
      },
      "source": [
        "##Data Preprocessing"
      ]
    },
    {
      "cell_type": "code",
      "metadata": {
        "colab": {
          "base_uri": "https://localhost:8080/"
        },
        "id": "cI53QHPKJgQq",
        "outputId": "52349906-263e-4c6b-9994-2cca9545f42c"
      },
      "source": [
        "train.iloc[0][train.iloc[0] != 0], test.iloc[0][test.iloc[0] != 0]"
      ],
      "execution_count": null,
      "outputs": [
        {
          "output_type": "execute_result",
          "data": {
            "text/plain": [
              "(label         1\n",
              " pixel132    188\n",
              " pixel133    255\n",
              " pixel134     94\n",
              " pixel159    191\n",
              "            ... \n",
              " pixel626    250\n",
              " pixel627    131\n",
              " pixel652    214\n",
              " pixel653    218\n",
              " pixel654     95\n",
              " Name: 0, Length: 98, dtype: int64, pixel122    10\n",
              " pixel123    17\n",
              " pixel124    17\n",
              " pixel125    17\n",
              " pixel126    17\n",
              "             ..\n",
              " pixel599    30\n",
              " pixel600    15\n",
              " pixel601    10\n",
              " pixel610    14\n",
              " pixel611     6\n",
              " Name: 0, Length: 215, dtype: int64)"
            ]
          },
          "metadata": {},
          "execution_count": 9
        }
      ]
    },
    {
      "cell_type": "markdown",
      "metadata": {
        "id": "jA5FN1stMEtZ"
      },
      "source": [
        "our images are not scaled so we have to rescale then"
      ]
    },
    {
      "cell_type": "code",
      "metadata": {
        "id": "KHeihv-ZM4l4"
      },
      "source": [
        "X = train.drop([\"label\"], axis=1).values / 255\n",
        "Y = train[\"label\"].values\n",
        "test /= 255\n",
        "x_train, x_test, y_train, y_test = model_selection.train_test_split(X, Y, random_state=77, test_size=0.2)"
      ],
      "execution_count": null,
      "outputs": []
    },
    {
      "cell_type": "markdown",
      "metadata": {
        "id": "BSeeXKwuO_Kk"
      },
      "source": [
        "x_train: 33600  (%80)\n",
        "\n",
        "x_test:  8400   (%20)"
      ]
    },
    {
      "cell_type": "code",
      "metadata": {
        "colab": {
          "base_uri": "https://localhost:8080/"
        },
        "id": "MTrhJO2oJ8mq",
        "outputId": "911e330e-c83d-4518-e88a-2d310e1507e8"
      },
      "source": [
        "x_train.shape, x_test.shape"
      ],
      "execution_count": null,
      "outputs": [
        {
          "output_type": "execute_result",
          "data": {
            "text/plain": [
              "((33600, 784), (8400, 784))"
            ]
          },
          "metadata": {},
          "execution_count": 11
        }
      ]
    },
    {
      "cell_type": "code",
      "metadata": {
        "colab": {
          "base_uri": "https://localhost:8080/"
        },
        "id": "xICamGK0Pmq8",
        "outputId": "4ddb9190-5f5c-4de5-8139-830ad1ee60df"
      },
      "source": [
        "784 ** 0.5"
      ],
      "execution_count": null,
      "outputs": [
        {
          "output_type": "execute_result",
          "data": {
            "text/plain": [
              "28.0"
            ]
          },
          "metadata": {},
          "execution_count": 12
        }
      ]
    },
    {
      "cell_type": "markdown",
      "metadata": {
        "id": "MJnt7InxPtC5"
      },
      "source": [
        "784 is 28*28"
      ]
    },
    {
      "cell_type": "code",
      "metadata": {
        "colab": {
          "base_uri": "https://localhost:8080/",
          "height": 298
        },
        "id": "SxUj22niMyaD",
        "outputId": "4c46a496-b46c-452f-8340-0be7b902612b"
      },
      "source": [
        "n = 12967\n",
        "sample = x_train[n].reshape(28, 28)\n",
        "plt.imshow(sample)\n",
        "plt.title(y_train[n])"
      ],
      "execution_count": null,
      "outputs": [
        {
          "output_type": "execute_result",
          "data": {
            "text/plain": [
              "Text(0.5, 1.0, '5')"
            ]
          },
          "metadata": {},
          "execution_count": 13
        },
        {
          "output_type": "display_data",
          "data": {
            "image/png": "[encoded data removed]",
            "text/plain": [
              "<Figure size 432x288 with 1 Axes>"
            ]
          },
          "metadata": {
            "needs_background": "light"
          }
        }
      ]
    },
    {
      "cell_type": "markdown",
      "metadata": {
        "id": "KqTSQptxQYA7"
      },
      "source": [
        "#Machine Learning Models"
      ]
    },
    {
      "cell_type": "code",
      "metadata": {
        "id": "ILZq4yQibqWo"
      },
      "source": [
        "def model_scores(model):\n",
        "  s = datetime.datetime.now()\n",
        "  pred = model.predict(x_test)\n",
        "  res = sum(pred == y_test)/len(y_test)\n",
        "  dic = {\"train\" : model.score(x_train, y_train),\n",
        "         \"Test\" : model.score(x_test, y_test)}  \n",
        "\n",
        "  print(\"Train Score: \" , model.score(x_train, y_train))\n",
        "  print(\"Test Score: \" , model.score(x_test, y_test))\n",
        "  print(metrics.classification_report(y_test, pred))\n",
        "  print(f\"Spend time is: {datetime.datetime.now().minute - s.minute} Minuts\")\n",
        "  return dic"
      ],
      "execution_count": null,
      "outputs": []
    },
    {
      "cell_type": "markdown",
      "metadata": {
        "id": "h9BAgWBUQiEe"
      },
      "source": [
        "##model 0: linear"
      ]
    },
    {
      "cell_type": "code",
      "metadata": {
        "colab": {
          "base_uri": "https://localhost:8080/"
        },
        "id": "y0QTcbJ3P6NU",
        "outputId": "8aa391ce-5d1a-4d7e-a7bf-8b85fb0d4f66"
      },
      "source": [
        "model_0 = linear_model.SGDClassifier()\n",
        "model_0.fit(x_train, y_train)"
      ],
      "execution_count": null,
      "outputs": [
        {
          "output_type": "execute_result",
          "data": {
            "text/plain": [
              "SGDClassifier(alpha=0.0001, average=False, class_weight=None,\n",
              "              early_stopping=False, epsilon=0.1, eta0=0.0, fit_intercept=True,\n",
              "              l1_ratio=0.15, learning_rate='optimal', loss='hinge',\n",
              "              max_iter=1000, n_iter_no_change=5, n_jobs=None, penalty='l2',\n",
              "              power_t=0.5, random_state=None, shuffle=True, tol=0.001,\n",
              "              validation_fraction=0.1, verbose=0, warm_start=False)"
            ]
          },
          "metadata": {},
          "execution_count": 15
        }
      ]
    },
    {
      "cell_type": "code",
      "metadata": {
        "colab": {
          "base_uri": "https://localhost:8080/"
        },
        "id": "gO0G2Mrvc7eh",
        "outputId": "48d7c372-5b79-4c91-c5a1-68f967ec3e62"
      },
      "source": [
        "model_scores(model_0)"
      ],
      "execution_count": null,
      "outputs": [
        {
          "output_type": "stream",
          "name": "stdout",
          "text": [
            "Train Score:  0.9270833333333334\n",
            "Test Score:  0.910952380952381\n",
            "              precision    recall  f1-score   support\n",
            "\n",
            "           0       0.94      0.97      0.95       802\n",
            "           1       0.96      0.98      0.97       965\n",
            "           2       0.90      0.89      0.90       828\n",
            "           3       0.90      0.88      0.89       891\n",
            "           4       0.93      0.91      0.92       792\n",
            "           5       0.92      0.80      0.86       731\n",
            "           6       0.90      0.96      0.93       853\n",
            "           7       0.91      0.95      0.93       883\n",
            "           8       0.87      0.85      0.86       795\n",
            "           9       0.88      0.88      0.88       860\n",
            "\n",
            "    accuracy                           0.91      8400\n",
            "   macro avg       0.91      0.91      0.91      8400\n",
            "weighted avg       0.91      0.91      0.91      8400\n",
            "\n",
            "Spend time is: 0 Minuts\n"
          ]
        },
        {
          "output_type": "execute_result",
          "data": {
            "text/plain": [
              "{'Test': 0.910952380952381, 'train': 0.9270833333333334}"
            ]
          },
          "metadata": {},
          "execution_count": 16
        }
      ]
    },
    {
      "cell_type": "markdown",
      "metadata": {
        "id": "56-sQxLiWxjU"
      },
      "source": [
        "##Model 1: LogisticRegression"
      ]
    },
    {
      "cell_type": "code",
      "metadata": {
        "colab": {
          "base_uri": "https://localhost:8080/"
        },
        "id": "PjA9-fAwS9wa",
        "outputId": "8d1a7a4a-1d9e-40d6-8557-030057a0beee"
      },
      "source": [
        "model_1 = linear_model.LogisticRegressionCV()\n",
        "model_1.fit(x_train, y_train)"
      ],
      "execution_count": null,
      "outputs": [
        {
          "metadata": {
            "tags": null
          },
          "name": "stderr",
          "output_type": "stream",
          "text": [
            "/usr/local/lib/python3.7/dist-packages/sklearn/linear_model/_logistic.py:940: ConvergenceWarning: lbfgs failed to converge (status=1):\n",
            "STOP: TOTAL NO. of ITERATIONS REACHED LIMIT.\n",
            "\n",
            "Increase the number of iterations (max_iter) or scale the data as shown in:\n",
            "    https://scikit-learn.org/stable/modules/preprocessing.html\n",
            "Please also refer to the documentation for alternative solver options:\n",
            "    https://scikit-learn.org/stable/modules/linear_model.html#logistic-regression\n",
            "  extra_warning_msg=_LOGISTIC_SOLVER_CONVERGENCE_MSG)\n",
            "/usr/local/lib/python3.7/dist-packages/sklearn/linear_model/_logistic.py:940: ConvergenceWarning: lbfgs failed to converge (status=1):\n",
            "STOP: TOTAL NO. of ITERATIONS REACHED LIMIT.\n",
            "\n",
            "Increase the number of iterations (max_iter) or scale the data as shown in:\n",
            "    https://scikit-learn.org/stable/modules/preprocessing.html\n",
            "Please also refer to the documentation for alternative solver options:\n",
            "    https://scikit-learn.org/stable/modules/linear_model.html#logistic-regression\n",
            "  extra_warning_msg=_LOGISTIC_SOLVER_CONVERGENCE_MSG)\n"
          ]
        }
      ]
    },
    {
      "cell_type": "code",
      "metadata": {
        "id": "4_MpfVEDXJqT"
      },
      "source": [
        "model_scores(model_1)"
      ],
      "execution_count": null,
      "outputs": []
    },
    {
      "cell_type": "markdown",
      "metadata": {
        "id": "bMxMvz0Yct0o"
      },
      "source": [
        "##model 2: Linear SVC"
      ]
    },
    {
      "cell_type": "code",
      "metadata": {
        "id": "lVfjRN4lbj0-"
      },
      "source": [
        "model_2 = svm.LinearSVC()\n",
        "model_2.fit(x_train, y_train)"
      ],
      "execution_count": null,
      "outputs": []
    },
    {
      "cell_type": "code",
      "metadata": {
        "id": "p_ycKRLAeJFo"
      },
      "source": [
        "model_scores(model_2)"
      ],
      "execution_count": null,
      "outputs": []
    },
    {
      "cell_type": "markdown",
      "metadata": {
        "id": "u_OId5aIiJBg"
      },
      "source": [
        "##Model 3: SVC"
      ]
    },
    {
      "cell_type": "code",
      "metadata": {
        "id": "oJFzpZcVeSXh"
      },
      "source": [
        "model_3 = svm.SVC()\n",
        "model_3.fit(x_train, y_train)"
      ],
      "execution_count": null,
      "outputs": []
    },
    {
      "cell_type": "code",
      "metadata": {
        "id": "pidjFEEsecXS"
      },
      "source": [
        "model_scores(model_3)"
      ],
      "execution_count": null,
      "outputs": []
    },
    {
      "cell_type": "markdown",
      "metadata": {
        "id": "nvYQyef7iSwR"
      },
      "source": [
        "##Model 4: K neighbors\n"
      ]
    },
    {
      "cell_type": "code",
      "metadata": {
        "id": "o2HkbGxaiIbw"
      },
      "source": [
        "model_4 = neighbors.KNeighborsClassifier(n_neighbors=5)\n",
        "model_4.fit(x_train, y_train)"
      ],
      "execution_count": null,
      "outputs": []
    },
    {
      "cell_type": "code",
      "metadata": {
        "id": "76FaeGxMxIhp"
      },
      "source": [
        "# model_scores(model_4)\n",
        "pred_4 = model_4.predict(x_test)\n",
        "print(metrics.classification_report(y_test, pred_4))"
      ],
      "execution_count": null,
      "outputs": []
    },
    {
      "cell_type": "code",
      "metadata": {
        "id": "fp554KDukQ2n"
      },
      "source": [
        "# model_scores(model_4)\n",
        "pred_4 = model_4.predict(x_test)\n",
        "print(metrics.classification_report(y_test, pred_4))"
      ],
      "execution_count": null,
      "outputs": []
    },
    {
      "cell_type": "code",
      "metadata": {
        "id": "PawzMypSLU0B"
      },
      "source": [
        "sum(pred_4 == y_test) / len(y_test)"
      ],
      "execution_count": null,
      "outputs": []
    },
    {
      "cell_type": "code",
      "metadata": {
        "id": "wrjncWplwK7D"
      },
      "source": [
        "sum(pred_4.reshape(-1, 1) == y_test) / len(y_test)\n",
        "# len(y_test), len(pred_4)"
      ],
      "execution_count": null,
      "outputs": []
    },
    {
      "cell_type": "markdown",
      "metadata": {
        "id": "z2WvvY8FlNl6"
      },
      "source": [
        "##Model 5: DecisionTreeClassifier"
      ]
    },
    {
      "cell_type": "code",
      "metadata": {
        "id": "wRBdXRspk2ck"
      },
      "source": [
        "model_5 = tree.DecisionTreeClassifier()\n",
        "model_5.fit(x_train, y_train)"
      ],
      "execution_count": null,
      "outputs": []
    },
    {
      "cell_type": "code",
      "metadata": {
        "id": "CLOS4VQUljUJ"
      },
      "source": [
        "model_scores(model_5)"
      ],
      "execution_count": null,
      "outputs": []
    },
    {
      "cell_type": "markdown",
      "metadata": {
        "id": "TrcsBNR0RWJR"
      },
      "source": [
        "##Model 6: RandomForestClassifier"
      ]
    },
    {
      "cell_type": "code",
      "metadata": {
        "id": "EwEIl2EKLobN"
      },
      "source": [
        "model_6 = ensemble.RandomForestClassifier()\n",
        "model_6.fit(x_train, y_train)"
      ],
      "execution_count": null,
      "outputs": []
    },
    {
      "cell_type": "code",
      "metadata": {
        "id": "kHEpJe41Syou"
      },
      "source": [
        "model_scores(model_6)"
      ],
      "execution_count": null,
      "outputs": []
    },
    {
      "cell_type": "code",
      "metadata": {
        "id": "XfTzblnPS7AA"
      },
      "source": [
        "model_7 = ensemble.GradientBoostingClassifier()\n",
        "model_7.fit(x_train, y_train)"
      ],
      "execution_count": null,
      "outputs": []
    },
    {
      "cell_type": "code",
      "metadata": {
        "id": "ck8BXzeUT0XM"
      },
      "source": [
        "model_scores(model_7)"
      ],
      "execution_count": null,
      "outputs": []
    },
    {
      "cell_type": "markdown",
      "metadata": {
        "id": "xtMRrWV4T0HP"
      },
      "source": [
        "##The best ML Model\n",
        "\n",
        "(based on what we have experimented so far.)\n",
        "\n",
        "is MODEL 3"
      ]
    },
    {
      "cell_type": "code",
      "source": [
        "precision, recall, thereshold = metrics.precision_recall_curve(y_train_5, y_scores)\n",
        "def plot_precision_recall_vs_thereshold(precision, recall, thereshold):\n",
        "    fig, ax = plt.subplots()\n",
        "    plt.plot(thereshold, precision[:-1], 'b--', label='Precision')\n",
        "    plt.plot(thereshold, recall[:-1], 'g--', label='Recall')\n",
        "    ax.set_xlim([-40000, 40000])\n",
        "    plt.legend()\n",
        "\n",
        "plot_precision_recall_vs_thereshold(precision, recall, thereshold)\n",
        "plt.show()    "
      ],
      "metadata": {
        "id": "-J8dShLcMAvy"
      },
      "execution_count": null,
      "outputs": []
    },
    {
      "cell_type": "code",
      "source": [
        "thereshold_90_percent = thereshold[np.argmax(precision >= 0.92)]\n",
        "thereshold_90_percent\n",
        "y_train_predict90 = (y_scores >= thereshold_90_percent)\n",
        "metrics.precision_score(y_train_5, y_train_predict90)"
      ],
      "metadata": {
        "id": "p5dy5xvfMD7m"
      },
      "execution_count": null,
      "outputs": []
    },
    {
      "cell_type": "code",
      "source": [
        "fpr, tpr, threshold = metrics.roc_curve(y_train_5, y_scores)\n",
        "\n",
        "def plot_roc_curve(fpr, tpr, label=None):\n",
        "  # fig, ax = plt.subplots()\n",
        "  plt.plot(fpr, tpr, linewidth=2, label=label)\n",
        "  plt.plot([0, 1], [0, 1], 'k--')\n",
        "  # ax.xlabel('')\n",
        "  plt.legend()\n",
        "  "
      ],
      "metadata": {
        "id": "jQ_9zcJGMNif"
      },
      "execution_count": null,
      "outputs": []
    },
    {
      "cell_type": "code",
      "source": [
        "# randomForestClassifier\n",
        "forest_clf = RandomForestClassifier(random_state=42)\n",
        "y_probas_forest = model.cross_val_predict(forest_clf, x_train, y_train_5, method='predict_proba')\n",
        "y_probas_forest"
      ],
      "metadata": {
        "id": "NXuQ48q8MNfk"
      },
      "execution_count": null,
      "outputs": []
    },
    {
      "cell_type": "code",
      "source": [
        "y_scores_forest = y_probas_forest[:, 1]\n",
        "fpr_forest, tpr_forest, threshold_forest = metrics.roc_curve(y_train_5, y_scores_forest)\n",
        "plt.plot(fpr, tpr, 'b:', label='SGD')\n",
        "plot_roc_curve(fpr_forest, tpr_forest, 'Random Forest')\n",
        "plt.legend(loc='lower right')\n",
        "plt.show()"
      ],
      "metadata": {
        "id": "2oXcg_H0MbgG"
      },
      "execution_count": null,
      "outputs": []
    },
    {
      "cell_type": "code",
      "source": [
        "from sklearn.multiclass import OneVsOneClassifier\n",
        "ovo_clf = OneVsOneClassifier(sklinear.SGDClassifier(random_state=42))\n",
        "ovo_clf.fit(x_train, y_train)\n",
        "ovo_clf.predict([x[0]])"
      ],
      "metadata": {
        "id": "wm49_44JMwRw"
      },
      "execution_count": null,
      "outputs": []
    },
    {
      "cell_type": "code",
      "source": [
        "def pcaMaker(k, x_std):\n",
        "  x_meaned = x_std - np.mean(x_std, axis=0)\n",
        "  cov_mat = x_meaned.T.dot(x_meaned) / (x_std.shape[0] - 1)\n",
        "  # cov_mat = np.cov(x_meaned, rowvar = False)  \n",
        "  eigen_values, eigen_vectors = np.linalg.eig(cov_mat.T)\n",
        "  sorted_index = np.argsort(eigen_values)[::-1]\n",
        "  sorted_eigenvalue = eigen_values[sorted_index]\n",
        "  sorted_eigenvectors = eigen_vectors[:,sorted_index]\n",
        "  eigenvector_subset = sorted_eigenvectors[:,0:k]\n",
        "  X_reduced = eigenvector_subset.T.dot( x_meaned.T).T   \n",
        "  return X_reduced\n",
        "\n",
        "\n",
        "x_train_pca = pcaMaker(320, x_train_std)\n",
        "x_test_pca = np.float64(pcaMaker(320, x_test_std))\n",
        "\n",
        "\n",
        "## second way: with sklearn.decomposiotion.PCA()\n",
        "# {'auto', 'full', 'arpack', 'randomized'}\n",
        "pca = decomposition.PCA(n_components=320)\n",
        "pca.fit(x_train_std)\n",
        "# x_train_pca = pca.transform(x_train_std)\n",
        "# x_test_pca = pca.transform(x_test_std)\n",
        "num, n= 2000, 10\n",
        "x_std = preprocessing.StandardScaler().fit_transform(mnist.data)\n",
        "pca = decomposition.PCA(n_components=n)\n",
        "x = pca.fit_transform(x_std)\n",
        "sample2 = pca.inverse_transform(x[num])\n",
        "sample2.shape = (28, 28)\n",
        "b = plt.subplot(1, 2, 1)\n",
        "b.set_title(f'Reduced after PCA_{n}')\n",
        "plt.imshow(sample2, cmap=plt.cm.gray_r)\n",
        "matplotlib.image.imsave(f'PCA_{n}.jpeg', sample2, cmap=plt.cm.gray_r)\n",
        "\n",
        "\n"
      ],
      "metadata": {
        "id": "PxeyU1ILOeqy"
      },
      "execution_count": null,
      "outputs": []
    },
    {
      "cell_type": "code",
      "source": [],
      "metadata": {
        "id": "7cI5qqwTOenI"
      },
      "execution_count": null,
      "outputs": []
    },
    {
      "cell_type": "code",
      "source": [],
      "metadata": {
        "id": "32JsRK1xOekc"
      },
      "execution_count": null,
      "outputs": []
    },
    {
      "cell_type": "code",
      "source": [],
      "metadata": {
        "id": "zOtaWRCSMwL3"
      },
      "execution_count": null,
      "outputs": []
    },
    {
      "cell_type": "markdown",
      "metadata": {
        "id": "1fIbO8VYYCpG"
      },
      "source": [
        "#Deep Learning Models"
      ]
    },
    {
      "cell_type": "code",
      "metadata": {
        "id": "3gr7YAnTgcAd"
      },
      "source": [
        "def plot_loss_curves(history):\n",
        "  hist = history.history\n",
        "  loss, val_loss = hist[\"loss\"], hist[\"val_loss\"]\n",
        "  accuracy, val_accuracy = hist[\"accuracy\"], hist[\"val_accuracy\"]\n",
        "  epochs = range(1, len(hist[\"loss\"])+1)\n",
        "  plt.title(\"Accuracy\")\n",
        "  plt.plot(epochs, accuracy, label=\"Training\")\n",
        "  plt.plot(epochs, val_accuracy, label=\"Testing\")\n",
        "  plt.legend()\n",
        "  plt.figure()\n",
        "  plt.title(\"Loss\")\n",
        "  plt.plot(epochs, loss, label=\"Training\")\n",
        "  plt.plot(epochs, val_loss, label=\"Testing\")\n",
        "  plt.legend()\n",
        "  plt.show()  "
      ],
      "execution_count": null,
      "outputs": []
    },
    {
      "cell_type": "markdown",
      "metadata": {
        "id": "CRSJN59QY92Y"
      },
      "source": [
        "##Model 0: "
      ]
    },
    {
      "cell_type": "code",
      "metadata": {
        "id": "nZlIN7wEYUCc"
      },
      "source": [
        "model_0 = tf.keras.Sequential([\n",
        "  tf.keras.layers.Dense(28, input_shape=(784, )),\n",
        "  tf.keras.layers.Dense(64, activation=\"relu\"),\n",
        "  tf.keras.layers.Dense(128, activation=\"relu\"),\n",
        "  # tf.keras.layers.GlobalAveragePooling2D(),\n",
        "  tf.keras.layers.Dense(1, activation=\"softmax\")\n",
        "])\n",
        "\n",
        "model_0.compile(\n",
        "    loss = tf.keras.losses.sparse_categorical_crossentropy,\n",
        "    optimizer = tf.keras.optimizers.Adam(),\n",
        "    metrics = \"accuracy\"\n",
        ")"
      ],
      "execution_count": null,
      "outputs": []
    },
    {
      "cell_type": "code",
      "metadata": {
        "id": "rLBK89vBYiSF"
      },
      "source": [
        "model_0_history = model_0.fit(x_train, y_train, epochs=2, validation_data=(x_test, y_test))"
      ],
      "execution_count": null,
      "outputs": []
    },
    {
      "cell_type": "code",
      "metadata": {
        "id": "BmnXthhtGohO"
      },
      "source": [
        "pred=model_0.predict(x_test)"
      ],
      "execution_count": null,
      "outputs": []
    },
    {
      "cell_type": "code",
      "metadata": {
        "id": "COsvTI1pGnux"
      },
      "source": [
        "pred"
      ],
      "execution_count": null,
      "outputs": []
    },
    {
      "cell_type": "markdown",
      "metadata": {
        "id": "dHrtR9uzcNXK"
      },
      "source": [
        "##Model 1: CNN"
      ]
    },
    {
      "cell_type": "code",
      "metadata": {
        "id": "BDD05Jm3gog_"
      },
      "source": [
        "inputs = tf.keras.Input(shape=(28, 28, 1))\n",
        "x = tf.keras.layers.Conv2D(128, 3, 1, activation=\"relu\")(inputs)\n",
        "x = tf.keras.layers.MaxPooling2D()(x)\n",
        "x = tf.keras.layers.Conv2D(128, 3, 1, activation=\"relu\")(x)\n",
        "x = tf.keras.layers.MaxPooling2D()(x)\n",
        "x = tf.keras.layers.Flatten()(x)\n",
        "# x = tf.keras.layers.GlobalMaxPooling2D()(x)\n",
        "\n",
        "outputs = tf.keras.layers.Dense(10, activation=\"softmax\")(x)\n",
        "model_1 = tf.keras.Model(inputs, outputs)\n",
        "\n",
        "model_1.compile(loss=tf.keras.losses.sparse_categorical_crossentropy,\n",
        "                optimizer=tf.keras.optimizers.Adam(learning_rate=0.001),\n",
        "                metrics=\"accuracy\")"
      ],
      "execution_count": null,
      "outputs": []
    },
    {
      "cell_type": "code",
      "metadata": {
        "id": "WO2DPYt3jHC8"
      },
      "source": [
        "# tf.one_hot(y_test)\n",
        "model_1_history=model_1.fit(x_train.reshape((-1 ,28, 28)), y_train, epochs=10, validation_data=(x_test.reshape((-1 ,28, 28)), y_test))"
      ],
      "execution_count": null,
      "outputs": []
    },
    {
      "cell_type": "code",
      "metadata": {
        "id": "gnzElGn2TNxx"
      },
      "source": [
        "plot_loss_curves(model_1_history)"
      ],
      "execution_count": null,
      "outputs": []
    },
    {
      "cell_type": "code",
      "metadata": {
        "id": "WVVY8Cx-TTRn"
      },
      "source": [
        "preds = model_1.predict(x_test.reshape(-1, 28, 28, 1))"
      ],
      "execution_count": null,
      "outputs": []
    },
    {
      "cell_type": "code",
      "metadata": {
        "id": "lEHjgZWvTUbQ"
      },
      "source": [
        "model_1.evaluate(x_train.reshape(-1, 28, 28, 1), y_train), model_1.evaluate(x_test.reshape(-1, 28, 28, 1), y_test)"
      ],
      "execution_count": null,
      "outputs": []
    },
    {
      "cell_type": "markdown",
      "metadata": {
        "id": "ytSyrTjjZkbb"
      },
      "source": [
        "##Comparing trained models of CNN"
      ]
    },
    {
      "cell_type": "code",
      "metadata": {
        "id": "97c8e-BjZkCR"
      },
      "source": [
        "#path of 1ll 23 models i have trained so far\n",
        "# path = \"/content/drive/MyDrive/Colab Notebooks/ML Projects/New folder/\"\n",
        "path = \"/content/drive/MyDrive/Colab Notebooks/New folder/\"\n",
        "models_dic = {}\n",
        "for p in range(1, 24):\n",
        "  model_path = path + f\"m{p}.h5\"\n",
        "  model = tf.keras.models.load_model(model_path)\n",
        "  train_evaluate = model.evaluate(x_train.reshape((-1, 28, 28)), y_train)\n",
        "  test_evaluate = model.evaluate(x_test.reshape((-1, 28, 28)), y_test) \n",
        "  models_dic[p] = { \"train_accuracy\":train_evaluate[1], \"train_loss\": train_evaluate[0], \"test_accuracy\":test_evaluate[1], \"test_loss\": test_evaluate[0]}\n",
        "  models_df = pd.DataFrame(models_dic).T"
      ],
      "execution_count": null,
      "outputs": []
    },
    {
      "cell_type": "code",
      "metadata": {
        "id": "PPQx4epLh4ZX",
        "colab": {
          "base_uri": "https://localhost:8080/",
          "height": 762
        },
        "outputId": "4e74e003-041b-4ea1-f0c9-246548b06c13"
      },
      "source": [
        "models_df.sort_values(by=[\"test_accuracy\"], ascending=False)"
      ],
      "execution_count": null,
      "outputs": [
        {
          "output_type": "execute_result",
          "data": {
            "text/html": [
              "<div>\n",
              "<style scoped>\n",
              "    .dataframe tbody tr th:only-of-type {\n",
              "        vertical-align: middle;\n",
              "    }\n",
              "\n",
              "    .dataframe tbody tr th {\n",
              "        vertical-align: top;\n",
              "    }\n",
              "\n",
              "    .dataframe thead th {\n",
              "        text-align: right;\n",
              "    }\n",
              "</style>\n",
              "<table border=\"1\" class=\"dataframe\">\n",
              "  <thead>\n",
              "    <tr style=\"text-align: right;\">\n",
              "      <th></th>\n",
              "      <th>train_accuracy</th>\n",
              "      <th>train_loss</th>\n",
              "      <th>test_accuracy</th>\n",
              "      <th>test_loss</th>\n",
              "    </tr>\n",
              "  </thead>\n",
              "  <tbody>\n",
              "    <tr>\n",
              "      <th>18</th>\n",
              "      <td>1.000000</td>\n",
              "      <td>3.176907e-06</td>\n",
              "      <td>0.991786</td>\n",
              "      <td>0.067846</td>\n",
              "    </tr>\n",
              "    <tr>\n",
              "      <th>19</th>\n",
              "      <td>1.000000</td>\n",
              "      <td>1.044863e-06</td>\n",
              "      <td>0.991310</td>\n",
              "      <td>0.062082</td>\n",
              "    </tr>\n",
              "    <tr>\n",
              "      <th>22</th>\n",
              "      <td>1.000000</td>\n",
              "      <td>6.828502e-05</td>\n",
              "      <td>0.991071</td>\n",
              "      <td>0.055414</td>\n",
              "    </tr>\n",
              "    <tr>\n",
              "      <th>20</th>\n",
              "      <td>1.000000</td>\n",
              "      <td>2.188002e-07</td>\n",
              "      <td>0.991071</td>\n",
              "      <td>0.070997</td>\n",
              "    </tr>\n",
              "    <tr>\n",
              "      <th>23</th>\n",
              "      <td>1.000000</td>\n",
              "      <td>6.025529e-06</td>\n",
              "      <td>0.990952</td>\n",
              "      <td>0.060588</td>\n",
              "    </tr>\n",
              "    <tr>\n",
              "      <th>21</th>\n",
              "      <td>1.000000</td>\n",
              "      <td>1.408385e-05</td>\n",
              "      <td>0.990833</td>\n",
              "      <td>0.050922</td>\n",
              "    </tr>\n",
              "    <tr>\n",
              "      <th>15</th>\n",
              "      <td>1.000000</td>\n",
              "      <td>4.471530e-05</td>\n",
              "      <td>0.990476</td>\n",
              "      <td>0.064449</td>\n",
              "    </tr>\n",
              "    <tr>\n",
              "      <th>16</th>\n",
              "      <td>1.000000</td>\n",
              "      <td>6.130013e-06</td>\n",
              "      <td>0.990357</td>\n",
              "      <td>0.054814</td>\n",
              "    </tr>\n",
              "    <tr>\n",
              "      <th>9</th>\n",
              "      <td>0.999375</td>\n",
              "      <td>2.167474e-03</td>\n",
              "      <td>0.988095</td>\n",
              "      <td>0.065245</td>\n",
              "    </tr>\n",
              "    <tr>\n",
              "      <th>17</th>\n",
              "      <td>0.998304</td>\n",
              "      <td>7.563761e-03</td>\n",
              "      <td>0.987976</td>\n",
              "      <td>0.136149</td>\n",
              "    </tr>\n",
              "    <tr>\n",
              "      <th>11</th>\n",
              "      <td>0.999286</td>\n",
              "      <td>3.533017e-03</td>\n",
              "      <td>0.987857</td>\n",
              "      <td>0.048961</td>\n",
              "    </tr>\n",
              "    <tr>\n",
              "      <th>10</th>\n",
              "      <td>0.998929</td>\n",
              "      <td>2.709898e-03</td>\n",
              "      <td>0.987738</td>\n",
              "      <td>0.077579</td>\n",
              "    </tr>\n",
              "    <tr>\n",
              "      <th>4</th>\n",
              "      <td>0.999077</td>\n",
              "      <td>4.757093e-03</td>\n",
              "      <td>0.987619</td>\n",
              "      <td>0.045633</td>\n",
              "    </tr>\n",
              "    <tr>\n",
              "      <th>14</th>\n",
              "      <td>0.999048</td>\n",
              "      <td>3.041919e-03</td>\n",
              "      <td>0.987619</td>\n",
              "      <td>0.063026</td>\n",
              "    </tr>\n",
              "    <tr>\n",
              "      <th>13</th>\n",
              "      <td>0.999018</td>\n",
              "      <td>2.983594e-03</td>\n",
              "      <td>0.987381</td>\n",
              "      <td>0.055670</td>\n",
              "    </tr>\n",
              "    <tr>\n",
              "      <th>12</th>\n",
              "      <td>0.998482</td>\n",
              "      <td>5.923007e-03</td>\n",
              "      <td>0.987143</td>\n",
              "      <td>0.049397</td>\n",
              "    </tr>\n",
              "    <tr>\n",
              "      <th>1</th>\n",
              "      <td>0.996935</td>\n",
              "      <td>1.149080e-02</td>\n",
              "      <td>0.985952</td>\n",
              "      <td>0.051452</td>\n",
              "    </tr>\n",
              "    <tr>\n",
              "      <th>5</th>\n",
              "      <td>0.996101</td>\n",
              "      <td>1.503616e-02</td>\n",
              "      <td>0.984881</td>\n",
              "      <td>0.107619</td>\n",
              "    </tr>\n",
              "    <tr>\n",
              "      <th>2</th>\n",
              "      <td>0.994911</td>\n",
              "      <td>1.712773e-02</td>\n",
              "      <td>0.984762</td>\n",
              "      <td>0.048800</td>\n",
              "    </tr>\n",
              "    <tr>\n",
              "      <th>3</th>\n",
              "      <td>0.996964</td>\n",
              "      <td>1.204487e-02</td>\n",
              "      <td>0.984405</td>\n",
              "      <td>0.049163</td>\n",
              "    </tr>\n",
              "    <tr>\n",
              "      <th>8</th>\n",
              "      <td>0.986905</td>\n",
              "      <td>4.346908e-02</td>\n",
              "      <td>0.981548</td>\n",
              "      <td>0.058100</td>\n",
              "    </tr>\n",
              "    <tr>\n",
              "      <th>6</th>\n",
              "      <td>0.986042</td>\n",
              "      <td>4.518902e-02</td>\n",
              "      <td>0.981310</td>\n",
              "      <td>0.063656</td>\n",
              "    </tr>\n",
              "    <tr>\n",
              "      <th>7</th>\n",
              "      <td>0.936339</td>\n",
              "      <td>2.293378e-01</td>\n",
              "      <td>0.931548</td>\n",
              "      <td>0.250475</td>\n",
              "    </tr>\n",
              "  </tbody>\n",
              "</table>\n",
              "</div>"
            ],
            "text/plain": [
              "    train_accuracy    train_loss  test_accuracy  test_loss\n",
              "18        1.000000  3.176907e-06       0.991786   0.067846\n",
              "19        1.000000  1.044863e-06       0.991310   0.062082\n",
              "22        1.000000  6.828502e-05       0.991071   0.055414\n",
              "20        1.000000  2.188002e-07       0.991071   0.070997\n",
              "23        1.000000  6.025529e-06       0.990952   0.060588\n",
              "21        1.000000  1.408385e-05       0.990833   0.050922\n",
              "15        1.000000  4.471530e-05       0.990476   0.064449\n",
              "16        1.000000  6.130013e-06       0.990357   0.054814\n",
              "9         0.999375  2.167474e-03       0.988095   0.065245\n",
              "17        0.998304  7.563761e-03       0.987976   0.136149\n",
              "11        0.999286  3.533017e-03       0.987857   0.048961\n",
              "10        0.998929  2.709898e-03       0.987738   0.077579\n",
              "4         0.999077  4.757093e-03       0.987619   0.045633\n",
              "14        0.999048  3.041919e-03       0.987619   0.063026\n",
              "13        0.999018  2.983594e-03       0.987381   0.055670\n",
              "12        0.998482  5.923007e-03       0.987143   0.049397\n",
              "1         0.996935  1.149080e-02       0.985952   0.051452\n",
              "5         0.996101  1.503616e-02       0.984881   0.107619\n",
              "2         0.994911  1.712773e-02       0.984762   0.048800\n",
              "3         0.996964  1.204487e-02       0.984405   0.049163\n",
              "8         0.986905  4.346908e-02       0.981548   0.058100\n",
              "6         0.986042  4.518902e-02       0.981310   0.063656\n",
              "7         0.936339  2.293378e-01       0.931548   0.250475"
            ]
          },
          "metadata": {},
          "execution_count": 8
        }
      ]
    },
    {
      "cell_type": "code",
      "metadata": {
        "id": "_EqRfBTfiJvn",
        "colab": {
          "base_uri": "https://localhost:8080/",
          "height": 762
        },
        "outputId": "42467f78-0896-4d3d-bfea-0e45e8d5483e"
      },
      "source": [
        "models_df.sort_values(by=[\"test_loss\"], ascending=True)"
      ],
      "execution_count": null,
      "outputs": [
        {
          "output_type": "execute_result",
          "data": {
            "text/html": [
              "<div>\n",
              "<style scoped>\n",
              "    .dataframe tbody tr th:only-of-type {\n",
              "        vertical-align: middle;\n",
              "    }\n",
              "\n",
              "    .dataframe tbody tr th {\n",
              "        vertical-align: top;\n",
              "    }\n",
              "\n",
              "    .dataframe thead th {\n",
              "        text-align: right;\n",
              "    }\n",
              "</style>\n",
              "<table border=\"1\" class=\"dataframe\">\n",
              "  <thead>\n",
              "    <tr style=\"text-align: right;\">\n",
              "      <th></th>\n",
              "      <th>train_accuracy</th>\n",
              "      <th>train_loss</th>\n",
              "      <th>test_accuracy</th>\n",
              "      <th>test_loss</th>\n",
              "    </tr>\n",
              "  </thead>\n",
              "  <tbody>\n",
              "    <tr>\n",
              "      <th>4</th>\n",
              "      <td>0.999077</td>\n",
              "      <td>4.757093e-03</td>\n",
              "      <td>0.987619</td>\n",
              "      <td>0.045633</td>\n",
              "    </tr>\n",
              "    <tr>\n",
              "      <th>2</th>\n",
              "      <td>0.994911</td>\n",
              "      <td>1.712773e-02</td>\n",
              "      <td>0.984762</td>\n",
              "      <td>0.048800</td>\n",
              "    </tr>\n",
              "    <tr>\n",
              "      <th>11</th>\n",
              "      <td>0.999286</td>\n",
              "      <td>3.533017e-03</td>\n",
              "      <td>0.987857</td>\n",
              "      <td>0.048961</td>\n",
              "    </tr>\n",
              "    <tr>\n",
              "      <th>3</th>\n",
              "      <td>0.996964</td>\n",
              "      <td>1.204487e-02</td>\n",
              "      <td>0.984405</td>\n",
              "      <td>0.049163</td>\n",
              "    </tr>\n",
              "    <tr>\n",
              "      <th>12</th>\n",
              "      <td>0.998482</td>\n",
              "      <td>5.923007e-03</td>\n",
              "      <td>0.987143</td>\n",
              "      <td>0.049397</td>\n",
              "    </tr>\n",
              "    <tr>\n",
              "      <th>21</th>\n",
              "      <td>1.000000</td>\n",
              "      <td>1.408385e-05</td>\n",
              "      <td>0.990833</td>\n",
              "      <td>0.050922</td>\n",
              "    </tr>\n",
              "    <tr>\n",
              "      <th>1</th>\n",
              "      <td>0.996935</td>\n",
              "      <td>1.149080e-02</td>\n",
              "      <td>0.985952</td>\n",
              "      <td>0.051452</td>\n",
              "    </tr>\n",
              "    <tr>\n",
              "      <th>16</th>\n",
              "      <td>1.000000</td>\n",
              "      <td>6.130013e-06</td>\n",
              "      <td>0.990357</td>\n",
              "      <td>0.054814</td>\n",
              "    </tr>\n",
              "    <tr>\n",
              "      <th>22</th>\n",
              "      <td>1.000000</td>\n",
              "      <td>6.828502e-05</td>\n",
              "      <td>0.991071</td>\n",
              "      <td>0.055414</td>\n",
              "    </tr>\n",
              "    <tr>\n",
              "      <th>13</th>\n",
              "      <td>0.999018</td>\n",
              "      <td>2.983594e-03</td>\n",
              "      <td>0.987381</td>\n",
              "      <td>0.055670</td>\n",
              "    </tr>\n",
              "    <tr>\n",
              "      <th>8</th>\n",
              "      <td>0.986905</td>\n",
              "      <td>4.346908e-02</td>\n",
              "      <td>0.981548</td>\n",
              "      <td>0.058100</td>\n",
              "    </tr>\n",
              "    <tr>\n",
              "      <th>23</th>\n",
              "      <td>1.000000</td>\n",
              "      <td>6.025529e-06</td>\n",
              "      <td>0.990952</td>\n",
              "      <td>0.060588</td>\n",
              "    </tr>\n",
              "    <tr>\n",
              "      <th>19</th>\n",
              "      <td>1.000000</td>\n",
              "      <td>1.044863e-06</td>\n",
              "      <td>0.991310</td>\n",
              "      <td>0.062082</td>\n",
              "    </tr>\n",
              "    <tr>\n",
              "      <th>14</th>\n",
              "      <td>0.999048</td>\n",
              "      <td>3.041919e-03</td>\n",
              "      <td>0.987619</td>\n",
              "      <td>0.063026</td>\n",
              "    </tr>\n",
              "    <tr>\n",
              "      <th>6</th>\n",
              "      <td>0.986042</td>\n",
              "      <td>4.518902e-02</td>\n",
              "      <td>0.981310</td>\n",
              "      <td>0.063656</td>\n",
              "    </tr>\n",
              "    <tr>\n",
              "      <th>15</th>\n",
              "      <td>1.000000</td>\n",
              "      <td>4.471530e-05</td>\n",
              "      <td>0.990476</td>\n",
              "      <td>0.064449</td>\n",
              "    </tr>\n",
              "    <tr>\n",
              "      <th>9</th>\n",
              "      <td>0.999375</td>\n",
              "      <td>2.167474e-03</td>\n",
              "      <td>0.988095</td>\n",
              "      <td>0.065245</td>\n",
              "    </tr>\n",
              "    <tr>\n",
              "      <th>18</th>\n",
              "      <td>1.000000</td>\n",
              "      <td>3.176907e-06</td>\n",
              "      <td>0.991786</td>\n",
              "      <td>0.067846</td>\n",
              "    </tr>\n",
              "    <tr>\n",
              "      <th>20</th>\n",
              "      <td>1.000000</td>\n",
              "      <td>2.188002e-07</td>\n",
              "      <td>0.991071</td>\n",
              "      <td>0.070997</td>\n",
              "    </tr>\n",
              "    <tr>\n",
              "      <th>10</th>\n",
              "      <td>0.998929</td>\n",
              "      <td>2.709898e-03</td>\n",
              "      <td>0.987738</td>\n",
              "      <td>0.077579</td>\n",
              "    </tr>\n",
              "    <tr>\n",
              "      <th>5</th>\n",
              "      <td>0.996101</td>\n",
              "      <td>1.503616e-02</td>\n",
              "      <td>0.984881</td>\n",
              "      <td>0.107619</td>\n",
              "    </tr>\n",
              "    <tr>\n",
              "      <th>17</th>\n",
              "      <td>0.998304</td>\n",
              "      <td>7.563761e-03</td>\n",
              "      <td>0.987976</td>\n",
              "      <td>0.136149</td>\n",
              "    </tr>\n",
              "    <tr>\n",
              "      <th>7</th>\n",
              "      <td>0.936339</td>\n",
              "      <td>2.293378e-01</td>\n",
              "      <td>0.931548</td>\n",
              "      <td>0.250475</td>\n",
              "    </tr>\n",
              "  </tbody>\n",
              "</table>\n",
              "</div>"
            ],
            "text/plain": [
              "    train_accuracy    train_loss  test_accuracy  test_loss\n",
              "4         0.999077  4.757093e-03       0.987619   0.045633\n",
              "2         0.994911  1.712773e-02       0.984762   0.048800\n",
              "11        0.999286  3.533017e-03       0.987857   0.048961\n",
              "3         0.996964  1.204487e-02       0.984405   0.049163\n",
              "12        0.998482  5.923007e-03       0.987143   0.049397\n",
              "21        1.000000  1.408385e-05       0.990833   0.050922\n",
              "1         0.996935  1.149080e-02       0.985952   0.051452\n",
              "16        1.000000  6.130013e-06       0.990357   0.054814\n",
              "22        1.000000  6.828502e-05       0.991071   0.055414\n",
              "13        0.999018  2.983594e-03       0.987381   0.055670\n",
              "8         0.986905  4.346908e-02       0.981548   0.058100\n",
              "23        1.000000  6.025529e-06       0.990952   0.060588\n",
              "19        1.000000  1.044863e-06       0.991310   0.062082\n",
              "14        0.999048  3.041919e-03       0.987619   0.063026\n",
              "6         0.986042  4.518902e-02       0.981310   0.063656\n",
              "15        1.000000  4.471530e-05       0.990476   0.064449\n",
              "9         0.999375  2.167474e-03       0.988095   0.065245\n",
              "18        1.000000  3.176907e-06       0.991786   0.067846\n",
              "20        1.000000  2.188002e-07       0.991071   0.070997\n",
              "10        0.998929  2.709898e-03       0.987738   0.077579\n",
              "5         0.996101  1.503616e-02       0.984881   0.107619\n",
              "17        0.998304  7.563761e-03       0.987976   0.136149\n",
              "7         0.936339  2.293378e-01       0.931548   0.250475"
            ]
          },
          "metadata": {},
          "execution_count": 9
        }
      ]
    },
    {
      "cell_type": "markdown",
      "metadata": {
        "id": "JPGNAMn5Rtah"
      },
      "source": [
        "###The best Deep Learning models are 4 and 18 and they don't different a lot"
      ]
    },
    {
      "cell_type": "code",
      "metadata": {
        "id": "FhxK974kjSJu"
      },
      "source": [
        "# path = \"/content/drive/MyDrive/Colab Notebooks/ML Projects/New folder/\"\n",
        "path = \"/content/drive/MyDrive/Colab Notebooks/New folder/\"\n",
        "\n",
        "model_4 = tf.keras.models.load_model(path + f\"m4.h5\")\n",
        "model_18 = tf.keras.models.load_model(path + f\"m18.h5\")"
      ],
      "execution_count": null,
      "outputs": []
    },
    {
      "cell_type": "markdown",
      "metadata": {
        "id": "Q-WrbIttTyBY"
      },
      "source": [
        "###Creating the Submission file"
      ]
    },
    {
      "cell_type": "code",
      "metadata": {
        "id": "Z0qErtMmOCuG",
        "colab": {
          "base_uri": "https://localhost:8080/"
        },
        "outputId": "5b82b58e-11b2-43d5-bac9-484b14e89c1d"
      },
      "source": [
        "pred_18 = model_18.predict(test.values.reshape((-1, 28, 28)))\n",
        "pred_4 = model_4.predict(test.values.reshape((-1, 28, 28)))\n",
        "pred_4 = np.argmax(pred_4, axis=1)\n",
        "pred_18 = np.argmax(pred_18, axis=1)\n",
        "len(pred_4 == pred_18) / len(pred_4)\n",
        "submission = pred_4\n",
        "submission"
      ],
      "execution_count": null,
      "outputs": [
        {
          "output_type": "execute_result",
          "data": {
            "text/plain": [
              "array([2, 0, 9, ..., 3, 9, 2])"
            ]
          },
          "metadata": {},
          "execution_count": 11
        }
      ]
    },
    {
      "cell_type": "code",
      "metadata": {
        "colab": {
          "base_uri": "https://localhost:8080/"
        },
        "id": "2YVNNvLTAB0b",
        "outputId": "58ee9497-d89e-44f7-8dbd-0f49ada26dd7"
      },
      "source": [
        "# tf.Tensor(op=[232,32,32,3,3,3], dtype=tf.float32, value_index=[1,1,1,1,1,1])\n",
        "tf.constant([2,3,4,5,5]).numpy()"
      ],
      "execution_count": null,
      "outputs": [
        {
          "output_type": "execute_result",
          "data": {
            "text/plain": [
              "array([2, 3, 4, 5, 5], dtype=int32)"
            ]
          },
          "metadata": {},
          "execution_count": 25
        }
      ]
    },
    {
      "cell_type": "code",
      "metadata": {
        "id": "SgmZAJslSULX"
      },
      "source": [
        "n=26374\n",
        "pred= model_4.predict(test.values[n].reshape((-1, 28, 28)))\n",
        "plt.imshow(test.values[n].reshape((28, 28)))\n",
        "plt.title(f\"The Number I Predicted is: {np.argmax(pred)} \")"
      ],
      "execution_count": null,
      "outputs": []
    },
    {
      "cell_type": "code",
      "metadata": {
        "id": "UtdNF_QASZ0e"
      },
      "source": [
        "# path = \"/content/drive/MyDrive/Colab Notebooks/ML Projects/New folder/\"\n",
        "path = \"/content/drive/MyDrive/Colab Notebooks/New folder/\"\n",
        "models_preds = []\n",
        "for p in range(1, 24):\n",
        "  model_path = path + f\"m{p}.h5\"\n",
        "  model = tf.keras.models.load_model(model_path)\n",
        "  sub = model.predict(test.values.reshape((-1, 28, 28)))\n",
        "  sub = np.argmax(sub, axis=1)\n",
        "  models_preds.append(sub)\n",
        "diff = pd.DataFrame(models_preds)"
      ],
      "execution_count": null,
      "outputs": []
    },
    {
      "cell_type": "code",
      "metadata": {
        "id": "56h85iGAd8IC"
      },
      "source": [
        "diff"
      ],
      "execution_count": null,
      "outputs": []
    },
    {
      "cell_type": "code",
      "metadata": {
        "id": "OJVKPMk1WpO7"
      },
      "source": [
        "arr=[]\n",
        "transpose_diff=diff.T\n",
        "for i in range(len(transpose_diff)):\n",
        "  item = transpose_diff.iloc[i]\n",
        "  n=item.unique()\n",
        "  if len(n) != 1:\n",
        "    arr.append([i, len(n), n, item.value_counts().to_list()])\n",
        "misspredictions = pd.DataFrame(arr, columns=[\"Id\", \"Count\", \"Unique_Items\", \"Unique_Items_Count\"])"
      ],
      "execution_count": null,
      "outputs": []
    },
    {
      "cell_type": "code",
      "metadata": {
        "colab": {
          "base_uri": "https://localhost:8080/",
          "height": 419
        },
        "id": "7uQzEBDvdnNm",
        "outputId": "0b9b1c11-7197-4af5-b879-c8891f83625c"
      },
      "source": [
        "the_most_missunderstod_ones = misspredictions.sort_values([\"Unique_Items_Count\"])\n",
        "the_most_missunderstod_ones"
      ],
      "execution_count": null,
      "outputs": [
        {
          "output_type": "execute_result",
          "data": {
            "text/html": [
              "<div>\n",
              "<style scoped>\n",
              "    .dataframe tbody tr th:only-of-type {\n",
              "        vertical-align: middle;\n",
              "    }\n",
              "\n",
              "    .dataframe tbody tr th {\n",
              "        vertical-align: top;\n",
              "    }\n",
              "\n",
              "    .dataframe thead th {\n",
              "        text-align: right;\n",
              "    }\n",
              "</style>\n",
              "<table border=\"1\" class=\"dataframe\">\n",
              "  <thead>\n",
              "    <tr style=\"text-align: right;\">\n",
              "      <th></th>\n",
              "      <th>Id</th>\n",
              "      <th>Count</th>\n",
              "      <th>Unique_Items</th>\n",
              "      <th>Unique_Items_Count</th>\n",
              "    </tr>\n",
              "  </thead>\n",
              "  <tbody>\n",
              "    <tr>\n",
              "      <th>426</th>\n",
              "      <td>4341</td>\n",
              "      <td>5</td>\n",
              "      <td>[0, 6, 3, 2, 8]</td>\n",
              "      <td>[7, 7, 4, 3, 2]</td>\n",
              "    </tr>\n",
              "    <tr>\n",
              "      <th>798</th>\n",
              "      <td>8337</td>\n",
              "      <td>5</td>\n",
              "      <td>[0, 4, 2, 9, 8]</td>\n",
              "      <td>[8, 6, 4, 3, 2]</td>\n",
              "    </tr>\n",
              "    <tr>\n",
              "      <th>1697</th>\n",
              "      <td>17583</td>\n",
              "      <td>6</td>\n",
              "      <td>[2, 4, 6, 3, 1, 5]</td>\n",
              "      <td>[8, 7, 3, 2, 2, 1]</td>\n",
              "    </tr>\n",
              "    <tr>\n",
              "      <th>767</th>\n",
              "      <td>8031</td>\n",
              "      <td>4</td>\n",
              "      <td>[8, 7, 3, 9]</td>\n",
              "      <td>[8, 7, 5, 3]</td>\n",
              "    </tr>\n",
              "    <tr>\n",
              "      <th>2563</th>\n",
              "      <td>26392</td>\n",
              "      <td>5</td>\n",
              "      <td>[2, 7, 8, 3, 9]</td>\n",
              "      <td>[8, 7, 6, 1, 1]</td>\n",
              "    </tr>\n",
              "    <tr>\n",
              "      <th>...</th>\n",
              "      <td>...</td>\n",
              "      <td>...</td>\n",
              "      <td>...</td>\n",
              "      <td>...</td>\n",
              "    </tr>\n",
              "    <tr>\n",
              "      <th>552</th>\n",
              "      <td>5669</td>\n",
              "      <td>2</td>\n",
              "      <td>[2, 8]</td>\n",
              "      <td>[22, 1]</td>\n",
              "    </tr>\n",
              "    <tr>\n",
              "      <th>1484</th>\n",
              "      <td>15617</td>\n",
              "      <td>2</td>\n",
              "      <td>[9, 5]</td>\n",
              "      <td>[22, 1]</td>\n",
              "    </tr>\n",
              "    <tr>\n",
              "      <th>553</th>\n",
              "      <td>5684</td>\n",
              "      <td>2</td>\n",
              "      <td>[3, 2]</td>\n",
              "      <td>[22, 1]</td>\n",
              "    </tr>\n",
              "    <tr>\n",
              "      <th>548</th>\n",
              "      <td>5620</td>\n",
              "      <td>2</td>\n",
              "      <td>[2, 5]</td>\n",
              "      <td>[22, 1]</td>\n",
              "    </tr>\n",
              "    <tr>\n",
              "      <th>1355</th>\n",
              "      <td>13986</td>\n",
              "      <td>2</td>\n",
              "      <td>[5, 4]</td>\n",
              "      <td>[22, 1]</td>\n",
              "    </tr>\n",
              "  </tbody>\n",
              "</table>\n",
              "<p>2711 rows × 4 columns</p>\n",
              "</div>"
            ],
            "text/plain": [
              "         Id  Count        Unique_Items  Unique_Items_Count\n",
              "426    4341      5     [0, 6, 3, 2, 8]     [7, 7, 4, 3, 2]\n",
              "798    8337      5     [0, 4, 2, 9, 8]     [8, 6, 4, 3, 2]\n",
              "1697  17583      6  [2, 4, 6, 3, 1, 5]  [8, 7, 3, 2, 2, 1]\n",
              "767    8031      4        [8, 7, 3, 9]        [8, 7, 5, 3]\n",
              "2563  26392      5     [2, 7, 8, 3, 9]     [8, 7, 6, 1, 1]\n",
              "...     ...    ...                 ...                 ...\n",
              "552    5669      2              [2, 8]             [22, 1]\n",
              "1484  15617      2              [9, 5]             [22, 1]\n",
              "553    5684      2              [3, 2]             [22, 1]\n",
              "548    5620      2              [2, 5]             [22, 1]\n",
              "1355  13986      2              [5, 4]             [22, 1]\n",
              "\n",
              "[2711 rows x 4 columns]"
            ]
          },
          "metadata": {},
          "execution_count": 28
        }
      ]
    },
    {
      "cell_type": "code",
      "metadata": {
        "id": "37NTCjh3rTbF"
      },
      "source": [
        "for i in range(len(test)):\n",
        "  id = the_most_missunderstod_ones.Id.values[i]\n",
        "  print(i, the_most_missunderstod_ones.iloc[i])\n",
        "  plt.figure()\n",
        "  plt.imshow(test.iloc[id].values.reshape((28, 28)))\n",
        "  plt.title(f\"The Number I Predicted is: {submission[id]}\")\n",
        "  plt.show()\n",
        "  answer = input()\n",
        "  if answer ==\"Quit\": break\n",
        "  if answer.isdigit():\n",
        "    submission[id] = int(answer)"
      ],
      "execution_count": null,
      "outputs": []
    },
    {
      "cell_type": "code",
      "metadata": {
        "colab": {
          "base_uri": "https://localhost:8080/"
        },
        "id": "eYQi-y3yLodW",
        "outputId": "d2fa9f66-895e-4cfa-d3a0-543837c2f4cc"
      },
      "source": [
        "diff[0].unique()"
      ],
      "execution_count": null,
      "outputs": [
        {
          "output_type": "execute_result",
          "data": {
            "text/plain": [
              "array([2])"
            ]
          },
          "metadata": {},
          "execution_count": 167
        }
      ]
    },
    {
      "cell_type": "code",
      "metadata": {
        "id": "z-nsCpLsQ2Ka"
      },
      "source": [
        "arr=[]\n",
        "transpose_diff=diff.T\n",
        "for i in range(len(transpose_diff)):\n",
        "  item = transpose_diff.iloc[i]\n",
        "  temp=item.unique()\n",
        "  arr.append(temp[0])\n",
        "save_file = pd.DataFrame(arr, columns=[\"Label\"])\n",
        "save_file.to_csv(\"/content/sample_submission.csv\")"
      ],
      "execution_count": null,
      "outputs": []
    },
    {
      "cell_type": "markdown",
      "metadata": {
        "id": "yP3jwhcXZbOq"
      },
      "source": [
        "#The Final Selection"
      ]
    },
    {
      "cell_type": "code",
      "metadata": {
        "id": "H39NyIhsaBsR"
      },
      "source": [
        "sub = pd.read_csv(\"/content/sample_submission.csv\")"
      ],
      "execution_count": null,
      "outputs": []
    },
    {
      "cell_type": "code",
      "metadata": {
        "id": "lkPdFddDZRNo"
      },
      "source": [
        "#path of 1ll 23 models i have trained so far\n",
        "# path = \"/content/drive/MyDrive/Colab Notebooks/ML Projects/New folder/\"\n",
        "path = \"/content/drive/MyDrive/Colab Notebooks/New folder/\"\n",
        "m_d = {}\n",
        "for p in range(1, 24):\n",
        "  model_path = path + f\"m{p}.h5\"\n",
        "  model = tf.keras.models.load_model(model_path)\n",
        "  model.fit(X.reshape((-1, 28, 28))//10, Y//10, epochs = 5, validation_data=(test.values.reshape((-1, 28, 28))//10, sub.Label.values//10))\n",
        "  train_evaluate = model.evaluate(X.reshape((-1, 28, 28)), Y)\n",
        "  test_evaluate = model.evaluate(test.values.reshape((-1, 28, 28)), sub.Label.values) \n",
        "  m_d[p] = { \"train_accuracy\":train_evaluate[1], \"train_loss\": train_evaluate[0], \"test_accuracy\":test_evaluate[1], \"test_loss\": test_evaluate[0]}\n",
        "  models_d = pd.DataFrame(m_d).T"
      ],
      "execution_count": null,
      "outputs": []
    },
    {
      "cell_type": "code",
      "metadata": {
        "id": "BUJRwOQCcZ_6"
      },
      "source": [
        "# models_d.to_csv(\"/content/drive/MyDrive/Colab Notebooks/FinalComapring.csv\")"
      ],
      "execution_count": null,
      "outputs": []
    },
    {
      "cell_type": "code",
      "metadata": {
        "colab": {
          "base_uri": "https://localhost:8080/",
          "height": 762
        },
        "id": "jLlbs7aDjhcG",
        "outputId": "8442022b-277c-4ad7-e6f4-e3d68142ba37"
      },
      "source": [
        "models_d.sort_values(by=\"test_accuracy\", ascending=False)"
      ],
      "execution_count": null,
      "outputs": [
        {
          "output_type": "execute_result",
          "data": {
            "text/html": [
              "<div>\n",
              "<style scoped>\n",
              "    .dataframe tbody tr th:only-of-type {\n",
              "        vertical-align: middle;\n",
              "    }\n",
              "\n",
              "    .dataframe tbody tr th {\n",
              "        vertical-align: top;\n",
              "    }\n",
              "\n",
              "    .dataframe thead th {\n",
              "        text-align: right;\n",
              "    }\n",
              "</style>\n",
              "<table border=\"1\" class=\"dataframe\">\n",
              "  <thead>\n",
              "    <tr style=\"text-align: right;\">\n",
              "      <th></th>\n",
              "      <th>train_accuracy</th>\n",
              "      <th>train_loss</th>\n",
              "      <th>test_accuracy</th>\n",
              "      <th>test_loss</th>\n",
              "    </tr>\n",
              "  </thead>\n",
              "  <tbody>\n",
              "    <tr>\n",
              "      <th>10</th>\n",
              "      <td>0.933500</td>\n",
              "      <td>0.294131</td>\n",
              "      <td>0.923536</td>\n",
              "      <td>0.396406</td>\n",
              "    </tr>\n",
              "    <tr>\n",
              "      <th>17</th>\n",
              "      <td>0.926357</td>\n",
              "      <td>0.699339</td>\n",
              "      <td>0.914821</td>\n",
              "      <td>0.949701</td>\n",
              "    </tr>\n",
              "    <tr>\n",
              "      <th>5</th>\n",
              "      <td>0.888024</td>\n",
              "      <td>0.942263</td>\n",
              "      <td>0.881821</td>\n",
              "      <td>1.112346</td>\n",
              "    </tr>\n",
              "    <tr>\n",
              "      <th>22</th>\n",
              "      <td>0.743167</td>\n",
              "      <td>2.127851</td>\n",
              "      <td>0.737821</td>\n",
              "      <td>2.228649</td>\n",
              "    </tr>\n",
              "    <tr>\n",
              "      <th>15</th>\n",
              "      <td>0.615714</td>\n",
              "      <td>5.434259</td>\n",
              "      <td>0.617214</td>\n",
              "      <td>5.467914</td>\n",
              "    </tr>\n",
              "    <tr>\n",
              "      <th>21</th>\n",
              "      <td>0.377571</td>\n",
              "      <td>12.077907</td>\n",
              "      <td>0.376250</td>\n",
              "      <td>12.150851</td>\n",
              "    </tr>\n",
              "    <tr>\n",
              "      <th>23</th>\n",
              "      <td>0.359214</td>\n",
              "      <td>12.857657</td>\n",
              "      <td>0.364607</td>\n",
              "      <td>12.993781</td>\n",
              "    </tr>\n",
              "    <tr>\n",
              "      <th>14</th>\n",
              "      <td>0.343810</td>\n",
              "      <td>9.292270</td>\n",
              "      <td>0.344786</td>\n",
              "      <td>9.358514</td>\n",
              "    </tr>\n",
              "    <tr>\n",
              "      <th>9</th>\n",
              "      <td>0.272905</td>\n",
              "      <td>17.205099</td>\n",
              "      <td>0.273536</td>\n",
              "      <td>17.370552</td>\n",
              "    </tr>\n",
              "    <tr>\n",
              "      <th>18</th>\n",
              "      <td>0.186095</td>\n",
              "      <td>24.097271</td>\n",
              "      <td>0.186536</td>\n",
              "      <td>24.048954</td>\n",
              "    </tr>\n",
              "    <tr>\n",
              "      <th>16</th>\n",
              "      <td>0.179167</td>\n",
              "      <td>36.230160</td>\n",
              "      <td>0.179071</td>\n",
              "      <td>36.466030</td>\n",
              "    </tr>\n",
              "    <tr>\n",
              "      <th>19</th>\n",
              "      <td>0.172262</td>\n",
              "      <td>33.234276</td>\n",
              "      <td>0.173607</td>\n",
              "      <td>33.348316</td>\n",
              "    </tr>\n",
              "    <tr>\n",
              "      <th>13</th>\n",
              "      <td>0.146524</td>\n",
              "      <td>29.331253</td>\n",
              "      <td>0.146357</td>\n",
              "      <td>29.344837</td>\n",
              "    </tr>\n",
              "    <tr>\n",
              "      <th>11</th>\n",
              "      <td>0.139762</td>\n",
              "      <td>20.743559</td>\n",
              "      <td>0.140571</td>\n",
              "      <td>20.791550</td>\n",
              "    </tr>\n",
              "    <tr>\n",
              "      <th>4</th>\n",
              "      <td>0.131024</td>\n",
              "      <td>24.436394</td>\n",
              "      <td>0.131536</td>\n",
              "      <td>24.516878</td>\n",
              "    </tr>\n",
              "    <tr>\n",
              "      <th>3</th>\n",
              "      <td>0.125833</td>\n",
              "      <td>13.322968</td>\n",
              "      <td>0.127143</td>\n",
              "      <td>13.375772</td>\n",
              "    </tr>\n",
              "    <tr>\n",
              "      <th>12</th>\n",
              "      <td>0.123524</td>\n",
              "      <td>16.539450</td>\n",
              "      <td>0.122000</td>\n",
              "      <td>16.584894</td>\n",
              "    </tr>\n",
              "    <tr>\n",
              "      <th>20</th>\n",
              "      <td>0.098619</td>\n",
              "      <td>59.260250</td>\n",
              "      <td>0.100000</td>\n",
              "      <td>59.188786</td>\n",
              "    </tr>\n",
              "    <tr>\n",
              "      <th>2</th>\n",
              "      <td>0.098571</td>\n",
              "      <td>21.769047</td>\n",
              "      <td>0.099964</td>\n",
              "      <td>21.794172</td>\n",
              "    </tr>\n",
              "    <tr>\n",
              "      <th>8</th>\n",
              "      <td>0.098381</td>\n",
              "      <td>46.276096</td>\n",
              "      <td>0.099821</td>\n",
              "      <td>46.136242</td>\n",
              "    </tr>\n",
              "    <tr>\n",
              "      <th>7</th>\n",
              "      <td>0.098381</td>\n",
              "      <td>56.544025</td>\n",
              "      <td>0.099821</td>\n",
              "      <td>56.499741</td>\n",
              "    </tr>\n",
              "    <tr>\n",
              "      <th>6</th>\n",
              "      <td>0.098381</td>\n",
              "      <td>62.202442</td>\n",
              "      <td>0.099821</td>\n",
              "      <td>62.061497</td>\n",
              "    </tr>\n",
              "    <tr>\n",
              "      <th>1</th>\n",
              "      <td>0.098381</td>\n",
              "      <td>23.661039</td>\n",
              "      <td>0.099821</td>\n",
              "      <td>23.673214</td>\n",
              "    </tr>\n",
              "  </tbody>\n",
              "</table>\n",
              "</div>"
            ],
            "text/plain": [
              "    train_accuracy  train_loss  test_accuracy  test_loss\n",
              "10        0.933500    0.294131       0.923536   0.396406\n",
              "17        0.926357    0.699339       0.914821   0.949701\n",
              "5         0.888024    0.942263       0.881821   1.112346\n",
              "22        0.743167    2.127851       0.737821   2.228649\n",
              "15        0.615714    5.434259       0.617214   5.467914\n",
              "21        0.377571   12.077907       0.376250  12.150851\n",
              "23        0.359214   12.857657       0.364607  12.993781\n",
              "14        0.343810    9.292270       0.344786   9.358514\n",
              "9         0.272905   17.205099       0.273536  17.370552\n",
              "18        0.186095   24.097271       0.186536  24.048954\n",
              "16        0.179167   36.230160       0.179071  36.466030\n",
              "19        0.172262   33.234276       0.173607  33.348316\n",
              "13        0.146524   29.331253       0.146357  29.344837\n",
              "11        0.139762   20.743559       0.140571  20.791550\n",
              "4         0.131024   24.436394       0.131536  24.516878\n",
              "3         0.125833   13.322968       0.127143  13.375772\n",
              "12        0.123524   16.539450       0.122000  16.584894\n",
              "20        0.098619   59.260250       0.100000  59.188786\n",
              "2         0.098571   21.769047       0.099964  21.794172\n",
              "8         0.098381   46.276096       0.099821  46.136242\n",
              "7         0.098381   56.544025       0.099821  56.499741\n",
              "6         0.098381   62.202442       0.099821  62.061497\n",
              "1         0.098381   23.661039       0.099821  23.673214"
            ]
          },
          "metadata": {},
          "execution_count": 215
        }
      ]
    },
    {
      "cell_type": "code",
      "metadata": {
        "id": "dR2zA_5PpiGh"
      },
      "source": [
        "# path = \"/content/drive/MyDrive/Colab Notebooks/New folder/\"\n",
        "path = \"/content/drive/MyDrive/New folder/\"\n",
        "m_d = {}\n",
        "history_list=[]\n",
        "for p in range(1, 24):\n",
        "  model_path = path + f\"m{p}.h5\"\n",
        "  model = tf.keras.models.load_model(model_path)\n",
        "  history=model.fit(X.reshape((-1, 28, 28)), Y, epochs = 20, validation_data=(test.values.reshape((-1, 28, 28))//5, sub.Label.values//5))\n",
        "  train_evaluate = model.evaluate(X.reshape((-1, 28, 28)), Y)\n",
        "  test_evaluate = model.evaluate(test.values.reshape((-1, 28, 28)), sub.Label.values) \n",
        "  model.save(f\"temp_m{p}.h5\")\n",
        "  history_list.append(history)\n",
        "  # m_d[p] = { \"train_accuracy\":train_evaluate[1], \"train_loss\": train_evaluate[0], \"test_accuracy\":test_evaluate[1], \"test_loss\": test_evaluate[0]}\n",
        "  m_d[p] = { \"train_accuracy\":train_evaluate[1], \"train_loss\": train_evaluate[0], \"test_accuracy\":test_evaluate[1], \"test_loss\": test_evaluate[0], \"history\":history}\n",
        "  models_d = pd.DataFrame(m_d).T"
      ],
      "execution_count": null,
      "outputs": []
    }
  ]
}