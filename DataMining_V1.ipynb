{
  "nbformat": 4,
  "nbformat_minor": 0,
  "metadata": {
    "colab": {
      "provenance": [],
      "collapsed_sections": [
        "dW6liHe3v2T1",
        "8EN0DeiSwIqp",
        "qzOns86KUtN_",
        "VBTtvBdzoh__"
      ],
      "authorship_tag": "ABX9TyMxbkb6ws3MovqPKii65bM9",
      "include_colab_link": true
    },
    "kernelspec": {
      "name": "python3",
      "display_name": "Python 3"
    },
    "language_info": {
      "name": "python"
    }
  },
  "cells": [
    {
      "cell_type": "markdown",
      "metadata": {
        "id": "view-in-github",
        "colab_type": "text"
      },
      "source": [
        "<a href=\"https://colab.research.google.com/github/mralamdari/Machine_Learning_Projects/blob/main/DataMining_V1.ipynb\" target=\"_parent\"><img src=\"https://colab.research.google.com/assets/colab-badge.svg\" alt=\"Open In Colab\"/></a>"
      ]
    },
    {
      "cell_type": "markdown",
      "metadata": {
        "id": "dW6liHe3v2T1"
      },
      "source": [
        "# **1   Evaluation**"
      ]
    },
    {
      "cell_type": "code",
      "metadata": {
        "colab": {
          "base_uri": "https://localhost:8080/"
        },
        "id": "ZXUmSPW-ii_x",
        "outputId": "5157d60f-2c63-4dbf-a8ab-ef0019b6d9b7"
      },
      "source": [
        "e = [1, 2, 3, 6, 6, 7, 10, 11]\n",
        "t = 0\n",
        "for i in e:\n",
        "    for j in e:\n",
        "        t += (i - j)**2\n",
        "t        "
      ],
      "execution_count": null,
      "outputs": [
        {
          "output_type": "execute_result",
          "data": {
            "text/plain": [
              "1464"
            ]
          },
          "metadata": {
            "tags": []
          },
          "execution_count": 6
        }
      ]
    },
    {
      "cell_type": "code",
      "metadata": {
        "id": "kVKIk1a7q-ua"
      },
      "source": [
        "def evaluation(c, s, n):\n",
        "    p = s/n\n",
        "    q = 1 - p\n",
        "    pr = round((1 - (c/100)) / 2, 2) * 100\n",
        "    print(pr, ((1 - (c/100)) / 2) * 100)\n",
        "    roc_table = {0.1: 3.09, 0.5: 2.58, 1: 2.33, 5: 1.65, 10: 1.28, 20: 0.84, 40: 0.25}\n",
        "    z = roc_table.get(pr)\n",
        "    print(f'Pr[X>=Z] = {pr},  Z == {z}, x is [-{z} <= x <= {z}]')\n",
        "    temp = (p * q / n) ** 0.5 \n",
        "    res_1 = p - (temp * z)\n",
        "    res_2 = p + (temp * z)\n",
        "    print(f'We are % {c} sure that X is in [{res_1} <= X <= {res_2}], and temp is: {temp}')"
      ],
      "execution_count": null,
      "outputs": []
    },
    {
      "cell_type": "code",
      "metadata": {
        "id": "U8aRIbUAxS9K",
        "colab": {
          "base_uri": "https://localhost:8080/"
        },
        "outputId": "12ccc872-eccf-4900-8b2b-39fe8dd4f4ff"
      },
      "source": [
        "# Write DECIMAL numbers in INT(*100),  The CODE will FIX It\n",
        "\"\"\"evaluation(90, 70, 100)\"\"\"\n",
        "evaluation(98, 590, 1000)"
      ],
      "execution_count": null,
      "outputs": [
        {
          "output_type": "stream",
          "text": [
            "1.0 1.0000000000000009\n",
            "Pr[X>=Z] = 1.0,  Z == 2.33, x is [-2.33 <= x <= 2.33]\n",
            "We are % 98 sure that X is in [0.5537611960738216 <= X <= 0.6262388039261784], and temp is: 0.01555313473226539\n"
          ],
          "name": "stdout"
        }
      ]
    },
    {
      "cell_type": "markdown",
      "metadata": {
        "id": "8EN0DeiSwIqp"
      },
      "source": [
        "# **2 ROC**"
      ]
    },
    {
      "cell_type": "code",
      "metadata": {
        "id": "inFjedVcogxt"
      },
      "source": [
        "def ROC(tp, fn, tn, fp):\n",
        "    accuracy = (tp + tn) / (tp + fn + fp + tn)\n",
        "    precision = tp / (tp + fp)\n",
        "    recall = tp / (tp + fn)\n",
        "    f_measure = 2 * precision * recall / (precision + recall)\n",
        "    fallout = fp / (tp + fp)\n",
        "    fpr = fp / (fp + tn)\n",
        "    print(f'accuracy: {accuracy}\\nprecision: {precision}\\nrecall(TPR): {recall}\\nf_measure: {f_measure}\\nfallout: {fallout}\\nFPR: {fpr}')"
      ],
      "execution_count": null,
      "outputs": []
    },
    {
      "cell_type": "code",
      "metadata": {
        "id": "2uCcnTjDp5k-",
        "colab": {
          "base_uri": "https://localhost:8080/"
        },
        "outputId": "3a7988f8-1024-45eb-8ad2-015b81677c5f"
      },
      "source": [
        "ROC(5,0,4,1)"
      ],
      "execution_count": null,
      "outputs": [
        {
          "output_type": "stream",
          "text": [
            "accuracy: 0.9\n",
            "precision: 0.8333333333333334\n",
            "recall(TPR): 1.0\n",
            "f_measure: 0.9090909090909091\n",
            "fallout: 0.16666666666666666\n",
            "FPR: 0.2\n"
          ],
          "name": "stdout"
        }
      ]
    },
    {
      "cell_type": "code",
      "metadata": {
        "id": "ql4X-tShCuhl"
      },
      "source": [
        "#actual_class: identifies if X's class is positive(1) or negative(0)\n",
        "# clf: all posibilities of X(write DESIMAL values in INT, The Code Will FIX It)\n",
        "def ROC_classifier(actual_class, clf, Threshold=0.5):\n",
        "    data = [(i, j/100) for i, j in zip(actual_class, clf)]\n",
        "    positive = [i for i in data if i[1] >= Threshold]\n",
        "    negative = [i for i in data if i[1] < Threshold]\n",
        "    true_positive = [k[1] for k in positive if k[0] == 1]\n",
        "    false_positive = [k[1] for k in positive if k[0] == 0]\n",
        "    false_negative = [k[1] for k in negative if k[0] == 1]\n",
        "    true_negative = [k[1] for k in negative if k[0] == 0]\n",
        "    print(f'true_positive: {true_positive}\\nfalse_positive: {false_positive}\\nfalse_negative: {false_negative}\\ntrue_negative: {true_negative}\\n')\n",
        "    print(f'TP: {len(true_positive)}\\nFP: {len(false_positive)}\\nFN: {len(false_negative)}\\nTN: {len(true_negative)}\\n')\n",
        "    print(f\"\"\"ROC Table:\n",
        "    {len(true_positive)}    {len(false_negative)}\n",
        "    {len(false_positive)}    {len(true_negative)}\"\"\")"
      ],
      "execution_count": null,
      "outputs": []
    },
    {
      "cell_type": "code",
      "metadata": {
        "id": "ysqIlR_CDwy9",
        "colab": {
          "base_uri": "https://localhost:8080/"
        },
        "outputId": "d176e864-f746-4f55-c12d-f783654d9242"
      },
      "source": [
        "# Write DECIMAL clf in INT(*100),  The CODE will FIX It\n",
        "# ROC_classifier([1,1, 0,0,1,1,0,0,1,0], [73, 69,44,55,67,47,8,15,45,35], 0.5)\n",
        "# ROC(3, 2, 4, 1)\n",
        "# ROC_classifier([1,1, 0,0,1,1,0,0,1,0], [61, 3, 68, 31, 45, 9, 38, 5, 1, 4], 0.5)\n",
        "# ROC(1, 4, 4, 1)\n",
        "ROC_classifier([1,1, 0,0,1,1,0,0,1,0], [73, 69,44,55,67,47,8,15,45,35], 0.1)\n",
        "ROC(5, 0, 1, 4)"
      ],
      "execution_count": null,
      "outputs": [
        {
          "output_type": "stream",
          "text": [
            "true_positive: [0.73, 0.69, 0.67, 0.47, 0.45]\n",
            "false_positive: [0.44, 0.55, 0.15, 0.35]\n",
            "false_negative: []\n",
            "true_negative: [0.08]\n",
            "\n",
            "TP: 5\n",
            "FP: 4\n",
            "FN: 0\n",
            "TN: 1\n",
            "\n",
            "ROC Table:\n",
            "    5    0\n",
            "    4    1\n",
            "accuracy: 0.6\n",
            "precision: 0.5555555555555556\n",
            "recall(TPR): 1.0\n",
            "f_measure: 0.7142857142857143\n",
            "fallout: 0.4444444444444444, FPR: 0.8\n"
          ],
          "name": "stdout"
        }
      ]
    },
    {
      "cell_type": "code",
      "metadata": {
        "id": "U_OlryV8jPOI"
      },
      "source": [
        "# Enter The Respond rate, A, B, step in int, The Code will devide it in 100\n",
        "# Enter target, data_count numbers as it is in the question\n",
        "def ROC_Combining_Classifiers(data_count, respond_rate, A, B, target):\n",
        "    sucess = data_count * respond_rate/100\n",
        "    failed = data_count * (1 - (respond_rate/100))\n",
        "    best_score = [0, 0, 0, 0]\n",
        "    # I is FPR\n",
        "    # J is TPR\n",
        "    for i in range(A[0], B[0]):\n",
        "        for j in range(A[1], B[1]):\n",
        "            fpr, tpr= i/100, j/100\n",
        "            res = (failed * fpr) + (sucess * tpr)\n",
        "            if (target - 50 >= res) or (res <= target):\n",
        "                if best_score[0] < res:\n",
        "                    k = (fpr-A[0]/100)/((B[0]-A[0])/100)\n",
        "                    best_score = res, fpr, tpr, k\n",
        "                    print(best_score)\n",
        "    return best_score"
      ],
      "execution_count": null,
      "outputs": []
    },
    {
      "cell_type": "code",
      "metadata": {
        "colab": {
          "base_uri": "https://localhost:8080/"
        },
        "id": "PwvvZlOotPsn",
        "outputId": "46038fa2-da5e-4f37-8c03-232c8377995c"
      },
      "source": [
        "\"\"\"It Returns \n",
        "The Best Score ==> More Closer to Target, Better\n",
        "FBR ==> X1\n",
        "TBR ==> X2\n",
        "K ==> B's decision Rate\n",
        "if x_example_rate > K ==> A \n",
        "else ==> B\n",
        "\"\"\"\n",
        "ROC_Combining_Classifiers(4000, 6, (10, 20), (25, 60), 800)\n",
        "# fp, tp = .2, .2\n",
        "# fp, tp = .18, .42\n",
        "# (3760 * fp) + (240 * tp)"
      ],
      "execution_count": null,
      "outputs": [
        {
          "output_type": "stream",
          "text": [
            "(424.0, 0.1, 0.2, 0.0)\n",
            "(426.4, 0.1, 0.21, 0.0)\n",
            "(428.8, 0.1, 0.22, 0.0)\n",
            "(431.2, 0.1, 0.23, 0.0)\n",
            "(433.6, 0.1, 0.24, 0.0)\n",
            "(436.0, 0.1, 0.25, 0.0)\n",
            "(438.4, 0.1, 0.26, 0.0)\n",
            "(440.8, 0.1, 0.27, 0.0)\n",
            "(443.2, 0.1, 0.28, 0.0)\n",
            "(445.6, 0.1, 0.29, 0.0)\n",
            "(448.0, 0.1, 0.3, 0.0)\n",
            "(450.4, 0.1, 0.31, 0.0)\n",
            "(452.8, 0.1, 0.32, 0.0)\n",
            "(455.2, 0.1, 0.33, 0.0)\n",
            "(457.6, 0.1, 0.34, 0.0)\n",
            "(460.0, 0.1, 0.35, 0.0)\n",
            "(462.4, 0.1, 0.36, 0.0)\n",
            "(464.8, 0.1, 0.37, 0.0)\n",
            "(467.2, 0.1, 0.38, 0.0)\n",
            "(469.6, 0.1, 0.39, 0.0)\n",
            "(472.0, 0.1, 0.4, 0.0)\n",
            "(474.4, 0.1, 0.41, 0.0)\n",
            "(476.8, 0.1, 0.42, 0.0)\n",
            "(479.2, 0.1, 0.43, 0.0)\n",
            "(481.6, 0.1, 0.44, 0.0)\n",
            "(484.0, 0.1, 0.45, 0.0)\n",
            "(486.4, 0.1, 0.46, 0.0)\n",
            "(488.8, 0.1, 0.47, 0.0)\n",
            "(491.2, 0.1, 0.48, 0.0)\n",
            "(493.6, 0.1, 0.49, 0.0)\n",
            "(496.0, 0.1, 0.5, 0.0)\n",
            "(498.4, 0.1, 0.51, 0.0)\n",
            "(500.8, 0.1, 0.52, 0.0)\n",
            "(503.2, 0.1, 0.53, 0.0)\n",
            "(505.6, 0.1, 0.54, 0.0)\n",
            "(508.0, 0.1, 0.55, 0.0)\n",
            "(510.4, 0.1, 0.56, 0.0)\n",
            "(512.8, 0.1, 0.57, 0.0)\n",
            "(515.2, 0.1, 0.58, 0.0)\n",
            "(517.6, 0.1, 0.59, 0.0)\n",
            "(519.2, 0.11, 0.44, 0.06666666666666664)\n",
            "(521.6, 0.11, 0.45, 0.06666666666666664)\n",
            "(524.0, 0.11, 0.46, 0.06666666666666664)\n",
            "(526.4, 0.11, 0.47, 0.06666666666666664)\n",
            "(528.8, 0.11, 0.48, 0.06666666666666664)\n",
            "(531.2, 0.11, 0.49, 0.06666666666666664)\n",
            "(533.6, 0.11, 0.5, 0.06666666666666664)\n",
            "(536.0, 0.11, 0.51, 0.06666666666666664)\n",
            "(538.4000000000001, 0.11, 0.52, 0.06666666666666664)\n",
            "(540.8000000000001, 0.11, 0.53, 0.06666666666666664)\n",
            "(543.2, 0.11, 0.54, 0.06666666666666664)\n",
            "(545.6, 0.11, 0.55, 0.06666666666666664)\n",
            "(548.0, 0.11, 0.56, 0.06666666666666664)\n",
            "(550.4, 0.11, 0.57, 0.06666666666666664)\n",
            "(552.8, 0.11, 0.58, 0.06666666666666664)\n",
            "(555.2, 0.11, 0.59, 0.06666666666666664)\n",
            "(556.8, 0.12, 0.44, 0.13333333333333328)\n",
            "(559.2, 0.12, 0.45, 0.13333333333333328)\n",
            "(561.6, 0.12, 0.46, 0.13333333333333328)\n",
            "(564.0, 0.12, 0.47, 0.13333333333333328)\n",
            "(566.4, 0.12, 0.48, 0.13333333333333328)\n",
            "(568.8, 0.12, 0.49, 0.13333333333333328)\n",
            "(571.2, 0.12, 0.5, 0.13333333333333328)\n",
            "(573.6, 0.12, 0.51, 0.13333333333333328)\n",
            "(576.0, 0.12, 0.52, 0.13333333333333328)\n",
            "(578.4, 0.12, 0.53, 0.13333333333333328)\n",
            "(580.8, 0.12, 0.54, 0.13333333333333328)\n",
            "(583.2, 0.12, 0.55, 0.13333333333333328)\n",
            "(585.6, 0.12, 0.56, 0.13333333333333328)\n",
            "(588.0, 0.12, 0.57, 0.13333333333333328)\n",
            "(590.4, 0.12, 0.58, 0.13333333333333328)\n",
            "(592.8, 0.12, 0.59, 0.13333333333333328)\n",
            "(594.4, 0.13, 0.44, 0.2)\n",
            "(596.8, 0.13, 0.45, 0.2)\n",
            "(599.2, 0.13, 0.46, 0.2)\n",
            "(601.6, 0.13, 0.47, 0.2)\n",
            "(604.0, 0.13, 0.48, 0.2)\n",
            "(606.4, 0.13, 0.49, 0.2)\n",
            "(608.8, 0.13, 0.5, 0.2)\n",
            "(611.2, 0.13, 0.51, 0.2)\n",
            "(613.6, 0.13, 0.52, 0.2)\n",
            "(616.0, 0.13, 0.53, 0.2)\n",
            "(618.4000000000001, 0.13, 0.54, 0.2)\n",
            "(620.8, 0.13, 0.55, 0.2)\n",
            "(623.2, 0.13, 0.56, 0.2)\n",
            "(625.6, 0.13, 0.57, 0.2)\n",
            "(628.0, 0.13, 0.58, 0.2)\n",
            "(630.4, 0.13, 0.59, 0.2)\n",
            "(632.0000000000001, 0.14, 0.44, 0.2666666666666667)\n",
            "(634.4000000000001, 0.14, 0.45, 0.2666666666666667)\n",
            "(636.8000000000001, 0.14, 0.46, 0.2666666666666667)\n",
            "(639.2, 0.14, 0.47, 0.2666666666666667)\n",
            "(641.6000000000001, 0.14, 0.48, 0.2666666666666667)\n",
            "(644.0000000000001, 0.14, 0.49, 0.2666666666666667)\n",
            "(646.4000000000001, 0.14, 0.5, 0.2666666666666667)\n",
            "(648.8000000000001, 0.14, 0.51, 0.2666666666666667)\n",
            "(651.2, 0.14, 0.52, 0.2666666666666667)\n",
            "(653.6000000000001, 0.14, 0.53, 0.2666666666666667)\n",
            "(656.0000000000001, 0.14, 0.54, 0.2666666666666667)\n",
            "(658.4000000000001, 0.14, 0.55, 0.2666666666666667)\n",
            "(660.8000000000001, 0.14, 0.56, 0.2666666666666667)\n",
            "(663.2, 0.14, 0.57, 0.2666666666666667)\n",
            "(665.6000000000001, 0.14, 0.58, 0.2666666666666667)\n",
            "(668.0000000000001, 0.14, 0.59, 0.2666666666666667)\n",
            "(669.6, 0.15, 0.44, 0.33333333333333326)\n",
            "(672.0, 0.15, 0.45, 0.33333333333333326)\n",
            "(674.4, 0.15, 0.46, 0.33333333333333326)\n",
            "(676.8, 0.15, 0.47, 0.33333333333333326)\n",
            "(679.2, 0.15, 0.48, 0.33333333333333326)\n",
            "(681.6, 0.15, 0.49, 0.33333333333333326)\n",
            "(684.0, 0.15, 0.5, 0.33333333333333326)\n",
            "(686.4, 0.15, 0.51, 0.33333333333333326)\n",
            "(688.8, 0.15, 0.52, 0.33333333333333326)\n",
            "(691.2, 0.15, 0.53, 0.33333333333333326)\n",
            "(693.6, 0.15, 0.54, 0.33333333333333326)\n",
            "(696.0, 0.15, 0.55, 0.33333333333333326)\n",
            "(698.4, 0.15, 0.56, 0.33333333333333326)\n",
            "(700.8, 0.15, 0.57, 0.33333333333333326)\n",
            "(703.2, 0.15, 0.58, 0.33333333333333326)\n",
            "(705.6, 0.15, 0.59, 0.33333333333333326)\n",
            "(707.2, 0.16, 0.44, 0.4)\n",
            "(709.6, 0.16, 0.45, 0.4)\n",
            "(712.0, 0.16, 0.46, 0.4)\n",
            "(714.4, 0.16, 0.47, 0.4)\n",
            "(716.8, 0.16, 0.48, 0.4)\n",
            "(719.2, 0.16, 0.49, 0.4)\n",
            "(721.6, 0.16, 0.5, 0.4)\n",
            "(724.0, 0.16, 0.51, 0.4)\n",
            "(726.4000000000001, 0.16, 0.52, 0.4)\n",
            "(728.8000000000001, 0.16, 0.53, 0.4)\n",
            "(731.2, 0.16, 0.54, 0.4)\n",
            "(733.6, 0.16, 0.55, 0.4)\n",
            "(736.0, 0.16, 0.56, 0.4)\n",
            "(738.4, 0.16, 0.57, 0.4)\n",
            "(740.8, 0.16, 0.58, 0.4)\n",
            "(743.2, 0.16, 0.59, 0.4)\n",
            "(744.8000000000001, 0.17, 0.44, 0.46666666666666673)\n",
            "(747.2, 0.17, 0.45, 0.46666666666666673)\n",
            "(749.6, 0.17, 0.46, 0.46666666666666673)\n",
            "(752.0, 0.17, 0.47, 0.46666666666666673)\n",
            "(754.4000000000001, 0.17, 0.48, 0.46666666666666673)\n",
            "(756.8000000000001, 0.17, 0.49, 0.46666666666666673)\n",
            "(759.2, 0.17, 0.5, 0.46666666666666673)\n",
            "(761.6, 0.17, 0.51, 0.46666666666666673)\n",
            "(764.0, 0.17, 0.52, 0.46666666666666673)\n",
            "(766.4000000000001, 0.17, 0.53, 0.46666666666666673)\n",
            "(768.8000000000001, 0.17, 0.54, 0.46666666666666673)\n",
            "(771.2, 0.17, 0.55, 0.46666666666666673)\n",
            "(773.6, 0.17, 0.56, 0.46666666666666673)\n",
            "(776.0, 0.17, 0.57, 0.46666666666666673)\n",
            "(778.4000000000001, 0.17, 0.58, 0.46666666666666673)\n",
            "(780.8000000000001, 0.17, 0.59, 0.46666666666666673)\n",
            "(782.4, 0.18, 0.44, 0.5333333333333333)\n",
            "(784.8, 0.18, 0.45, 0.5333333333333333)\n",
            "(787.1999999999999, 0.18, 0.46, 0.5333333333333333)\n",
            "(789.5999999999999, 0.18, 0.47, 0.5333333333333333)\n",
            "(792.0, 0.18, 0.48, 0.5333333333333333)\n",
            "(794.4, 0.18, 0.49, 0.5333333333333333)\n",
            "(796.8, 0.18, 0.5, 0.5333333333333333)\n",
            "(799.1999999999999, 0.18, 0.51, 0.5333333333333333)\n",
            "(800.0, 0.2, 0.2, 0.6666666666666667)\n"
          ],
          "name": "stdout"
        },
        {
          "output_type": "execute_result",
          "data": {
            "text/plain": [
              "(800.0, 0.2, 0.2, 0.6666666666666667)"
            ]
          },
          "metadata": {
            "tags": []
          },
          "execution_count": 15
        }
      ]
    },
    {
      "cell_type": "code",
      "metadata": {
        "id": "AhXseD2oz04d"
      },
      "source": [
        "# Try to  run this code in pycharm, It doesn't work here\n",
        "import turtle\n",
        "def ROC_graph(actual_class_1, score_1, actual_class_2, score_2):\n",
        "    t = turtle.Turtle()\n",
        "    turtle.title(\"My ROC Graph Turtle\")\n",
        "    # t.shape(\"turtle\")\n",
        "    # t.shape('arrow')\n",
        "    t.shape('circle')\n",
        "    # t.shape(\"Square\")\n",
        "    # t.shape(\"Triangle\")\n",
        "    # t.shape(\"Classic\")\n",
        "    t.speed(10)\n",
        "    data_1 = [(i, j/100) for i, j in zip(actual_class_1, score_1)]\n",
        "    data_2 = [(i, j/100) for i, j in zip(actual_class_2, score_2)]\n",
        "    M1 = [i[0] for i in sorted(data_1, key=lambda x: x[1], reverse=True)]\n",
        "    M2 = [i[0] for i in sorted(data_2, key=lambda x: x[1], reverse=True)]\n",
        "    print(f'M1 { [i for i in sorted(data_1, key=lambda x: x[1], reverse=True)]}')\n",
        "    print(f'M2 { [i for i in sorted(data_2, key=lambda x: x[1], reverse=True)]}')\n",
        "    color = ['dark blue', 'red']\n",
        "    for j, m in enumerate([M1, M2]):\n",
        "        t.fillcolor(\"yellow\")\n",
        "        t.pencolor(color[j])\n",
        "        t.goto(-200, -200)\n",
        "        head = 2\n",
        "        for r in m:\n",
        "            if r == 1:\n",
        "                if head != 1:\n",
        "                    t.left(90)\n",
        "                    head=1\n",
        "            else:\n",
        "                if head == 1:\n",
        "                    t.right(90)\n",
        "                    head = 0\n",
        "            t.stamp()\n",
        "            t.forward(50)\n",
        "    turtle.done()\n",
        " \n",
        "ROC_graph([1,1, 0,0,1,1,0,0,1,0], [73, 69,44,55,67,47,8,15,45,35], [1,1, 0,0,1,1,0,0,1,0], [61, 3, 68, 31, 45, 9, 38, 5, 1, 4])"
      ],
      "execution_count": null,
      "outputs": []
    },
    {
      "cell_type": "markdown",
      "metadata": {
        "id": "wN3lRx-RQsHp"
      },
      "source": [
        "# **3 K Nearest Neighbors**"
      ]
    },
    {
      "cell_type": "code",
      "metadata": {
        "id": "4lnxc7fasmVj"
      },
      "source": [
        "import numpy as np\n",
        "import seaborn as sns\n",
        "import pandas as pd\n",
        " \n",
        " \n",
        "def normalization(x, choise=0):\n",
        "    if choise == 0:   # min_max  \n",
        "        return (x - np.min(x)) / (np.max(x) - np.min(x))\n",
        "    elif choise == 1:\n",
        "        return (x - np.mean(x)) / np.std(x)"
      ],
      "execution_count": null,
      "outputs": []
    },
    {
      "cell_type": "code",
      "metadata": {
        "id": "agrVtqxOsokc"
      },
      "source": [
        "def IB1(x1, x2, points_class,target_tuple, k=3, norm_choise=-1, dist_choise=0):\n",
        "    target = pd.DataFrame(list(zip([target_tuple[0]]*len(x1), [target_tuple[1]]*len(x1))), columns=['X1', 'X2'])\n",
        "    if len(x1) != len(x2) or len(x1) != len(points_class) or len(x2) != len(points_class):\n",
        "        return 'You had some error in counting the points'\n",
        "    data = pd.DataFrame(list(zip(x1, x2, points_class)), columns=['X1', 'X2', 'Y'])\n",
        "    if norm_choise >= 0:\n",
        "        data.X1, data.X2 = normalization(data.X1, norm_choise), normalization(data.X2, norm_choise)\n",
        "    sns.scatterplot(x='X2', y='X1', data=data, hue='Y')\n",
        "    distance_arr = ((data.X1 - target.X1)**2 + (data.X2 - target.X2)**2)**0.5\n",
        "    return distance_arr.sort_values()[:k]"
      ],
      "execution_count": null,
      "outputs": []
    },
    {
      "cell_type": "code",
      "metadata": {
        "id": "NDjeS-tasxzF",
        "colab": {
          "base_uri": "https://localhost:8080/",
          "height": 499
        },
        "outputId": "54c7d6eb-ff60-4047-e4af-97e8c36bf878"
      },
      "source": [
        "t1 = [3, 1, 4, 2, 0, 1, 1, 6, 7, 6, 3, 2, 4, 2]\n",
        "t2 = [0.2 , 0.3, 0.5, 0.7, 1.0, 1.2, 1.7, 0.2, 0.3, 0.7, 1.1, 1.5, 1.7, 1.9]\n",
        "p_class = [0, 0, 0, 0, 0, 0, 0, 1, 1, 1, 1, 1, 1, 1]\n",
        "IB1(t1, t2, p_class, (2, 0.3), len(t1), -1)"
      ],
      "execution_count": null,
      "outputs": [
        {
          "output_type": "execute_result",
          "data": {
            "text/plain": [
              "3     0.400000\n",
              "1     1.000000\n",
              "0     1.004988\n",
              "11    1.200000\n",
              "10    1.280625\n",
              "5     1.345362\n",
              "13    1.600000\n",
              "6     1.720465\n",
              "2     2.009975\n",
              "4     2.118962\n",
              "12    2.441311\n",
              "7     4.001250\n",
              "9     4.019950\n",
              "8     5.000000\n",
              "dtype: float64"
            ]
          },
          "metadata": {
            "tags": []
          },
          "execution_count": 18
        },
        {
          "output_type": "display_data",
          "data": {
            "image/png": "[encoded data removed]",
            "text/plain": [
              "<Figure size 432x288 with 1 Axes>"
            ]
          },
          "metadata": {
            "tags": [],
            "needs_background": "light"
          }
        }
      ]
    },
    {
      "cell_type": "code",
      "metadata": {
        "id": "lAaLX0anQq8b"
      },
      "source": [
        "import pandas as pd\n",
        "import numpy as np\n",
        "import seaborn as sns\n",
        "def IB2(x1, x2, points_class,target_tuple, norm_choise=-1, dist_choise=0):\n",
        "    M = len(x1)\n",
        "    if M != len(x2) or M != len(points_class) or len(x2) != len(points_class):\n",
        "        return 'You had some error in counting the points'\n",
        "    data = pd.DataFrame(list(zip(x1, x2, points_class)), columns=['X1', 'X2', 'Y'])\n",
        "    if norm_choise >= 0:\n",
        "        data.X1, data.X2 = normalization(data.X1, norm_choise), normalization(data.X2, norm_choise)\n",
        "    # sns.scatterplot(x='X2', y='X1', data=data, hue='Y')    \n",
        "    # data = data.sample(frac = 1)    #Shuffle DataFrame\n",
        "    avg_dis = [data.T[0].to_list()]\n",
        "    for i in range(1, M):  \n",
        "        dis_arr = []\n",
        "        target = data.iloc[i]\n",
        "        for item in avg_dis:\n",
        "           dist = ((item[0] - target.X1)**2 + (item[1] - target.X2)**2)**0.5\n",
        "           dis_arr.append((item[-1], dist)) \n",
        "        dis_arr.sort(key=lambda x: x[-1])   \n",
        "        if dis_arr[0][0] != target.Y:\n",
        "            avg_dis.append(data.T[i].to_list())\n",
        "    data_df = pd.DataFrame(avg_dis, columns=['X1', 'X2', 'Y'])\n",
        "    sns.scatterplot(x='X1', y='X2', data=data_df, hue='Y')\n",
        " \n",
        "    main_target = pd.DataFrame(list(zip([target_tuple[0]]*len(avg_dis), [target_tuple[1]]*len(avg_dis))), columns=['X1', 'X2'])\n",
        "    dist_list = ((data_df.X1 - main_target.X1)**2 + (data_df.X2- main_target.X2)**2)**0.5\n",
        "    dist_list = dist_list.sort_values()\n",
        "    chosenOnes_index = dist_list.index.to_list()[0]\n",
        "    chosenOne = data_df.iloc[chosenOnes_index].Y\n",
        "    print(f'Central Points:\\n{data_df}\\nSelected Point Distance is:\\n{dist_list}\\nSelected Point Class is:\\t{chosenOne}\\n')\n",
        "    return data_df"
      ],
      "execution_count": null,
      "outputs": []
    },
    {
      "cell_type": "code",
      "metadata": {
        "id": "aOzGOAuwW2oE",
        "colab": {
          "base_uri": "https://localhost:8080/",
          "height": 803
        },
        "outputId": "3fe716a0-627c-4495-838b-862c7909fff7"
      },
      "source": [
        "# t1 = [25, 85, 45, 30, 50, 50, 70, 25, 50, 45, 50, 60]\n",
        "# t2 = [60, 140, 60, 260, 75, 120, 110, 400, 100, 350, 275, 260]\n",
        "# p_class = [0, 1, 0, 1, 0, 0, 1, 1, 0, 1, 1, 1]\n",
        "t1 = [32, 64, 64, 32, 96, 128, 128, 32, 64, 64, 128]\n",
        "t2 = [6, 4, 13, 11, 14 , 13, 18, 4, 6, 12, 6]\n",
        "p_class = [1, 1, 2, 1, 2, 2, 2, 0, 0, 1, 2]\n",
        "s = IB2(t1, t2, p_class, (2, 0.3), -1)\n",
        "s"
      ],
      "execution_count": null,
      "outputs": [
        {
          "output_type": "stream",
          "text": [
            "Central Points:\n",
            "    X1  X2  Y\n",
            "0   32   6  1\n",
            "1   64  13  2\n",
            "2   32   4  0\n",
            "3   64   6  0\n",
            "4   64  12  1\n",
            "5  128   6  2\n",
            "Selected Point Distance is:\n",
            "2     30.227306\n",
            "0     30.536699\n",
            "3     62.261465\n",
            "4     63.094295\n",
            "1     63.287361\n",
            "5    126.128863\n",
            "dtype: float64\n",
            "Selected Point Class is:\t0\n",
            "\n"
          ],
          "name": "stdout"
        },
        {
          "output_type": "execute_result",
          "data": {
            "text/html": [
              "<div>\n",
              "<style scoped>\n",
              "    .dataframe tbody tr th:only-of-type {\n",
              "        vertical-align: middle;\n",
              "    }\n",
              "\n",
              "    .dataframe tbody tr th {\n",
              "        vertical-align: top;\n",
              "    }\n",
              "\n",
              "    .dataframe thead th {\n",
              "        text-align: right;\n",
              "    }\n",
              "</style>\n",
              "<table border=\"1\" class=\"dataframe\">\n",
              "  <thead>\n",
              "    <tr style=\"text-align: right;\">\n",
              "      <th></th>\n",
              "      <th>X1</th>\n",
              "      <th>X2</th>\n",
              "      <th>Y</th>\n",
              "    </tr>\n",
              "  </thead>\n",
              "  <tbody>\n",
              "    <tr>\n",
              "      <th>0</th>\n",
              "      <td>32</td>\n",
              "      <td>6</td>\n",
              "      <td>1</td>\n",
              "    </tr>\n",
              "    <tr>\n",
              "      <th>1</th>\n",
              "      <td>64</td>\n",
              "      <td>13</td>\n",
              "      <td>2</td>\n",
              "    </tr>\n",
              "    <tr>\n",
              "      <th>2</th>\n",
              "      <td>32</td>\n",
              "      <td>4</td>\n",
              "      <td>0</td>\n",
              "    </tr>\n",
              "    <tr>\n",
              "      <th>3</th>\n",
              "      <td>64</td>\n",
              "      <td>6</td>\n",
              "      <td>0</td>\n",
              "    </tr>\n",
              "    <tr>\n",
              "      <th>4</th>\n",
              "      <td>64</td>\n",
              "      <td>12</td>\n",
              "      <td>1</td>\n",
              "    </tr>\n",
              "    <tr>\n",
              "      <th>5</th>\n",
              "      <td>128</td>\n",
              "      <td>6</td>\n",
              "      <td>2</td>\n",
              "    </tr>\n",
              "  </tbody>\n",
              "</table>\n",
              "</div>"
            ],
            "text/plain": [
              "    X1  X2  Y\n",
              "0   32   6  1\n",
              "1   64  13  2\n",
              "2   32   4  0\n",
              "3   64   6  0\n",
              "4   64  12  1\n",
              "5  128   6  2"
            ]
          },
          "metadata": {
            "tags": []
          },
          "execution_count": 5
        },
        {
          "output_type": "display_data",
          "data": {
            "image/png": "[encoded data removed]",
            "text/plain": [
              "<Figure size 432x288 with 1 Axes>"
            ]
          },
          "metadata": {
            "tags": [],
            "needs_background": "light"
          }
        }
      ]
    },
    {
      "cell_type": "code",
      "metadata": {
        "id": "RDVzcXyXoBYC"
      },
      "source": [
        "import numpy as np\n",
        "import pandas as pd\n",
        "import seaborn as sns\n",
        " \n",
        " \n",
        "def IB3(x1, x2, points_class,target_tuple, lower_t=0, upper_t=1, norm_choise=-1, dist_choise=0):\n",
        "    M = len(x1)\n",
        "    if M != len(x2) or M != len(points_class) or len(x2) != len(points_class):\n",
        "        return 'You had some error in counting the points'\n",
        "    data = pd.DataFrame(list(zip(x1, x2, points_class)), columns=['X1', 'X2', 'Y'])\n",
        "    if norm_choise >= 0:\n",
        "        data.X1, data.X2 = normalization(data.X1, norm_choise), normalization(data.X2, norm_choise)\n",
        "    # sns.scatterplot(x='X2', y='X1', data=data, hue='Y')    \n",
        "    # data = data.sample(frac = 1)    #Shuffle DataFrame\n",
        " \n",
        "    points = np.zeros(M*2).reshape(M, 2)\n",
        "    avg_dis = [data.T[0].to_list()]\n",
        " \n",
        "    for i in range(1, M):  \n",
        "        dis_arr = []\n",
        "        target = data.iloc[i]\n",
        "        for ind, item in enumerate(avg_dis):\n",
        "            dist = ((item[0] - target.X1)**2 + (item[1] - target.X2)**2)**0.5\n",
        "            dis_arr.append((item[-1], ind, dist)) \n",
        "        dis_arr.sort(key=lambda x: x[-1])   \n",
        "        nearest_one = dis_arr[0]\n",
        "        avg_dis.append(data.T[i].to_list())\n",
        "        if nearest_one[0] == target.Y:\n",
        "            points[nearest_one[1]][1] += 1\n",
        "        else:\n",
        "            points[nearest_one[1]][0] += 1\n",
        "    print(points)        \n",
        "    selected_points = [(ind, [i[0], i[1]]) for ind, i in enumerate(points) if (i[0] == lower_t) and (i[1] >= upper_t)]\n",
        "    print(selected_points)\n",
        "    selectedOnes = [avg_dis[i[0]] for i in selected_points]\n",
        "    data_df = pd.DataFrame(selectedOnes, columns=['X1', 'X2', 'Y'])\n",
        "    sns.scatterplot(x='X1', y='X2', data=data_df, hue='Y')\n",
        " \n",
        "    main_target = pd.DataFrame(list(zip([target_tuple[0]]*len(selectedOnes), [target_tuple[1]]*len(selectedOnes))), columns=['X1', 'X2'])\n",
        "    dist_list = ((data_df.X1 - main_target.X1)**2 + (data_df.X2- main_target.X2)**2)**0.5\n",
        "    dist_list = dist_list.sort_values()\n",
        "    \n",
        "    chosenOnes_index = dist_list.index.to_list()[0]\n",
        "    chosenOne = data_df.iloc[chosenOnes_index].Y\n",
        "    print(f'Central Points:\\n{data_df}\\nSelected Point Distance is:\\n{dist_list}\\nSelected Point Class is:\\t{chosenOne}\\n')\n",
        "    return selected_points"
      ],
      "execution_count": null,
      "outputs": []
    },
    {
      "cell_type": "code",
      "metadata": {
        "id": "j-pfpMch228k",
        "colab": {
          "base_uri": "https://localhost:8080/",
          "height": 734
        },
        "outputId": "5c0fabfc-89bf-4eb0-dd49-f7f94075b399"
      },
      "source": [
        "t1 = [25, 85, 45, 30, 50, 50, 70, 25, 50, 45, 50, 60]\n",
        "t2 = [60, 140, 60, 260, 75, 120, 110, 400, 100, 350, 275, 260]\n",
        "p_class = [0, 1, 0, 1, 0, 0, 1, 1, 0, 1, 1, 1]\n",
        "s = IB3(t1, t2, p_class, (2, 0.3), 0, 1, -1)\n",
        "s"
      ],
      "execution_count": null,
      "outputs": [
        {
          "output_type": "stream",
          "text": [
            "[[1. 1.]\n",
            " [1. 1.]\n",
            " [0. 1.]\n",
            " [0. 2.]\n",
            " [0. 0.]\n",
            " [1. 1.]\n",
            " [0. 0.]\n",
            " [0. 1.]\n",
            " [0. 0.]\n",
            " [0. 0.]\n",
            " [0. 1.]\n",
            " [0. 0.]]\n",
            "[(2, [0.0, 1.0]), (3, [0.0, 2.0]), (7, [0.0, 1.0]), (10, [0.0, 1.0])]\n",
            "Central Points:\n",
            "   X1   X2  Y\n",
            "0  45   60  0\n",
            "1  30  260  1\n",
            "2  25  400  1\n",
            "3  50  275  1\n",
            "Selected Point Distance is:\n",
            "0     73.573705\n",
            "1    261.205073\n",
            "3    278.862134\n",
            "2    400.361199\n",
            "dtype: float64\n",
            "Selected Point Class is:\t0\n",
            "\n"
          ],
          "name": "stdout"
        },
        {
          "output_type": "execute_result",
          "data": {
            "text/plain": [
              "[(2, [0.0, 1.0]), (3, [0.0, 2.0]), (7, [0.0, 1.0]), (10, [0.0, 1.0])]"
            ]
          },
          "metadata": {
            "tags": []
          },
          "execution_count": 22
        },
        {
          "output_type": "display_data",
          "data": {
            "image/png": "[encoded data removed]",
            "text/plain": [
              "<Figure size 432x288 with 1 Axes>"
            ]
          },
          "metadata": {
            "tags": [],
            "needs_background": "light"
          }
        }
      ]
    },
    {
      "cell_type": "markdown",
      "metadata": {
        "id": "qzOns86KUtN_"
      },
      "source": [
        "# 4 **linearClassification**"
      ]
    },
    {
      "cell_type": "code",
      "metadata": {
        "id": "ffh7daR8HK6I"
      },
      "source": [
        "import numpy as np\n",
        "import pandas as pd\n",
        "def perceptron(x1, x2, points_class, alpha=0.1, iterations=20):\n",
        "    w = [0, 0, 0]\n",
        "    for i in range(iterations):\n",
        "        for item in zip(x1, x2, points_class):\n",
        "            if np.sign((item[0] * w[0]) + (item[1] * w[1])) != item[2]:\n",
        "                w[0] = w[0] + (alpha*item[2] * item[0])\n",
        "                w[1] = w[1] + (alpha*item[2] * item[1])\n",
        "                w[2] = w[2] + (alpha*item[2])\n",
        "    return w"
      ],
      "execution_count": null,
      "outputs": []
    },
    {
      "cell_type": "code",
      "metadata": {
        "colab": {
          "base_uri": "https://localhost:8080/"
        },
        "id": "pItzDFcoVKpb",
        "outputId": "a63585fb-1440-4e9d-cbac-5528f78c3a77"
      },
      "source": [
        "t1 = [3, 1, 4, 2, 0, 1, 1, 6, 7, 6, 3, 2, 4, 2]\n",
        "t2 = [0.2 , 0.3, 0.5, 0.7, 1.0, 1.2, 1.7, 0.2, 0.3, 0.7, 1.1, 1.5, 1.7, 1.9]\n",
        "p_class = [0, 0, 0, 0, 0, 0, 0, 1, 1, 1, 1, 1, 1, 1]\n",
        "s = perceptron(t1, t2, p_class)\n",
        "s"
      ],
      "execution_count": null,
      "outputs": [
        {
          "output_type": "execute_result",
          "data": {
            "text/plain": [
              "[0.6000000000000001, 0.020000000000000004, 0.1]"
            ]
          },
          "metadata": {
            "tags": []
          },
          "execution_count": 24
        }
      ]
    },
    {
      "cell_type": "markdown",
      "metadata": {
        "id": "VBTtvBdzoh__"
      },
      "source": [
        "# 5 **Clustering**"
      ]
    },
    {
      "cell_type": "code",
      "metadata": {
        "id": "JQPhkPH7avbG"
      },
      "source": [
        "Minkowski_distance = lambda p, dist_power: np.sum([np.abs(m1 - m2) ** dist_power for m1, m2 in p]) ** (1/dist_power)"
      ],
      "execution_count": null,
      "outputs": []
    },
    {
      "cell_type": "code",
      "metadata": {
        "colab": {
          "base_uri": "https://localhost:8080/"
        },
        "id": "sR19AsfgbEBe",
        "outputId": "43edb8a5-810c-47c2-b3e4-872bab13f6aa"
      },
      "source": [
        "r1 = [0, 2]\n",
        "r2 = [2, 3]\n",
        "p = [(t1, t2) for t1, t2 in zip(r1, r2)]\n",
        "Minkowski_distance(p, 2)"
      ],
      "execution_count": null,
      "outputs": [
        {
          "output_type": "execute_result",
          "data": {
            "text/plain": [
              "2.23606797749979"
            ]
          },
          "metadata": {
            "tags": []
          },
          "execution_count": 26
        }
      ]
    },
    {
      "cell_type": "code",
      "metadata": {
        "id": "GVjsFzmJopeI"
      },
      "source": [
        "import numpy as np\n",
        "def Minkowski_distance_table(x1, x2, normalization_choice=0, dist_power=1):\n",
        "    if normalization_choice == 0:\n",
        "        X1, X2 = x1, x2\n",
        "    elif normalization_choice == 1:\n",
        "        X1 = (x1 - np.mean(x1, axis=0)) / np.std(x1, axis=0)\n",
        "        X2 = (x2 - np.mean(x2, axis=0)) / np.std(x2, axis=0)    \n",
        "    else:\n",
        "        X1 = (x1 - np.min(x1, axis=0)) / (np.max(x1, axis=0) - np.min(x1, axis=0))\n",
        "        X2 = (x2 - np.min(x2, axis=0)) / (np.max(x2, axis=0) - np.min(x2, axis=0))\n",
        "    \n",
        "    p = [(t1, t2) for t1, t2 in zip(X1, X2)]\n",
        "    m = len(p)\n",
        "    dis_table = np.array([0.0]*(m**2)).reshape(m, m)\n",
        "    for i in range(m):\n",
        "        for j in range(i, m):\n",
        "            res = np.sum([np.abs(m1 - m2) ** dist_power for m1, m2 in zip(p[i], p[j])]) ** (1/dist_power)\n",
        "            dis_table[i, j] = dis_table[j, i] = res\n",
        "    return dis_table"
      ],
      "execution_count": null,
      "outputs": []
    },
    {
      "cell_type": "code",
      "metadata": {
        "id": "00zMGgHvu1ZW",
        "colab": {
          "base_uri": "https://localhost:8080/"
        },
        "outputId": "fdcc8d59-2fd5-4231-bc74-803be3d905ee"
      },
      "source": [
        "r1 = [0, 2, 3, 5]\n",
        "r2 = [2, 0, 1, 1]\n",
        "Minkowski_distance_table(r1, r2, 0, 2)"
      ],
      "execution_count": null,
      "outputs": [
        {
          "output_type": "execute_result",
          "data": {
            "text/plain": [
              "array([[0.        , 2.82842712, 3.16227766, 5.09901951],\n",
              "       [2.82842712, 0.        , 1.41421356, 3.16227766],\n",
              "       [3.16227766, 1.41421356, 0.        , 2.        ],\n",
              "       [5.09901951, 3.16227766, 2.        , 0.        ]])"
            ]
          },
          "metadata": {
            "tags": []
          },
          "execution_count": 28
        }
      ]
    },
    {
      "cell_type": "code",
      "metadata": {
        "id": "9SzUdh430xrb"
      },
      "source": [
        "# x1, x2 are both strings in here\n",
        "def binary_similarity(x1, x2):\n",
        "    M00, M01, M10, M11 = 0, 0, 0, 0\n",
        "    if len(x1) == len(x2):\n",
        "        print(f'len_data: {len(x1)}')\n",
        "    else:\n",
        "        return f'All data must be the same size, difference is:(x1 - x2): {len(x1)-len(x2)}'\n",
        "    for i, j in zip(list(x1), list(x2)):\n",
        "        if i == j =='0':\n",
        "            M00 += 1\n",
        "        elif i == j == '1':    \n",
        "            M11 += 1\n",
        "        elif i == '0' and j == '1':\n",
        "            M01 += 1\n",
        "        elif i == '1' and j == '0':\n",
        "            M10 += 1\n",
        "        else:\n",
        "            return 'It is not binary'    \n",
        "    print(f'  M00: {M00}\\n  M10: {M10}\\n  M01: {M01}\\n  M11: {M11}')    \n",
        "    SMC = (M11 + M00) / (M00 + M01 + M10 + M11) \n",
        "    JC = (M11) / (M01 + M10 + M11)\n",
        "    print(f'  SMC:  {SMC}\\n  JC:  {JC}')"
      ],
      "execution_count": null,
      "outputs": []
    },
    {
      "cell_type": "code",
      "metadata": {
        "id": "R_moAjSo5Cqq",
        "colab": {
          "base_uri": "https://localhost:8080/"
        },
        "outputId": "fa91fd2e-e9b0-4b82-ee02-cc4987b0faf6"
      },
      "source": [
        "# b1, b2 are both strings\n",
        "b1 = '1000000000'\n",
        "b2 = '0000001001'\n",
        "binary_similarity(b1, b2)"
      ],
      "execution_count": null,
      "outputs": [
        {
          "output_type": "stream",
          "text": [
            "len_data: 10\n",
            "  M00: 7\n",
            "  M10: 1\n",
            "  M01: 2\n",
            "  M11: 0\n",
            "  SMC:  0.7\n",
            "  JC:  0.0\n"
          ],
          "name": "stdout"
        }
      ]
    },
    {
      "cell_type": "code",
      "metadata": {
        "id": "Ym9dhoHB5a8s"
      },
      "source": [
        "import numpy as np\n",
        "def Cosine_similarity(d1, d2):\n",
        "    d1 = [d/100 for d in d1]\n",
        "    d2 = [d/100 for d in d2]\n",
        "    len_d1 = sum([i**2 for i in d1]) ** 0.5\n",
        "    len_d2 = sum([k**2 for k in d2]) ** 0.5\n",
        "    print(len_d1, len_d2, np.dot(d1, d2))\n",
        "    return np.dot(d1, d2) / (len_d1 * len_d2)"
      ],
      "execution_count": null,
      "outputs": []
    },
    {
      "cell_type": "code",
      "metadata": {
        "colab": {
          "base_uri": "https://localhost:8080/"
        },
        "id": "KFxMn9yZCYXi",
        "outputId": "cfdb32a9-4d43-4c0a-8271-74e9a3d51048"
      },
      "source": [
        "# Write DECIMAL numbers in INT(*100),  The CODE will FIX It\n",
        "D1 = [40, 33, 0, 0, 17]\n",
        "D2 = [0, 0, 33, 100, 33]\n",
        "Cosine_similarity(D1, D2)"
      ],
      "execution_count": null,
      "outputs": [
        {
          "output_type": "stream",
          "text": [
            "0.5457105459856901 1.1035397591387452 0.056100000000000004\n"
          ],
          "name": "stdout"
        },
        {
          "output_type": "execute_result",
          "data": {
            "text/plain": [
              "0.09315636410904708"
            ]
          },
          "metadata": {
            "tags": []
          },
          "execution_count": 32
        }
      ]
    },
    {
      "cell_type": "markdown",
      "metadata": {
        "id": "DqKgnwgIyttK"
      },
      "source": [
        "# **Recommenders**"
      ]
    },
    {
      "cell_type": "code",
      "metadata": {
        "id": "ebnVzARz0Di2"
      },
      "source": [
        "import numpy as np\n",
        "def Cosine_similarity(d1, d2):\n",
        "    # d1 = [d/100 for d in d1]\n",
        "    # d2 = [d/100 for d in d2]\n",
        "    len_d1 = sum([i**2 for i in d1]) ** 0.5\n",
        "    len_d2 = sum([k**2 for k in d2]) ** 0.5\n",
        "    print(len_d1, len_d2, np.dot(d1, d2))\n",
        "    return np.dot(d1, d2) / (len_d1 * len_d2)"
      ],
      "execution_count": null,
      "outputs": []
    },
    {
      "cell_type": "code",
      "metadata": {
        "colab": {
          "base_uri": "https://localhost:8080/"
        },
        "id": "jrxJPvYS0GLg",
        "outputId": "bab6b029-9b0b-42db-cf74-b017d298ba02"
      },
      "source": [
        "# Write DECIMAL numbers in INT(*100),  The CODE will FIX It\n",
        "D1 = [1, 2, 3, 5, 8]\n",
        "# D2 = [.1, .2, .3, .5, .8]\n",
        "D2 = [.11, .12, .13, .15, .18]\n",
        "\n",
        "Cosine_similarity(D1, D2)"
      ],
      "execution_count": null,
      "outputs": [
        {
          "output_type": "stream",
          "text": [
            "10.14889156509222 0.31352830813181765 2.9299999999999997\n"
          ],
          "name": "stdout"
        },
        {
          "output_type": "execute_result",
          "data": {
            "text/plain": [
              "0.9208147111895181"
            ]
          },
          "metadata": {
            "tags": []
          },
          "execution_count": 52
        }
      ]
    },
    {
      "cell_type": "code",
      "metadata": {
        "id": "pmOxaG-QC3UO"
      },
      "source": [
        "Euclidean_distance = lambda p: np.sum([(m1 - m2) ** 2 for m1, m2 in p]) ** 0.5\n",
        "Similarity_distance= lambda p: 1 / (1 + Euclidean_distance(p))\n",
        "Normalized = lambda f: f - np.mean(f)"
      ],
      "execution_count": null,
      "outputs": []
    },
    {
      "cell_type": "code",
      "metadata": {
        "id": "4LkuUGw42WUy"
      },
      "source": [
        "x = [1, 2, 3, 5, 8]\n",
        "y = [.1, .2, .3, .5, .8]\n",
        "x, y = Normalized(x), Normalized(y)\n",
        "p = [(t1, t2) for t1, t2 in zip(x, y)]\n",
        "# Similarity_distance(p)\n",
        "# Euclidean_distance(p)\n",
        "# Cosine_similarity(x, y)"
      ],
      "execution_count": null,
      "outputs": []
    },
    {
      "cell_type": "code",
      "metadata": {
        "colab": {
          "base_uri": "https://localhost:8080/"
        },
        "id": "bMUPJzce0Rw7",
        "outputId": "bb842572-e11f-4387-d105-bf0f417f35e0"
      },
      "source": [
        "# Cosine_similarity(D1, D2)\n",
        "x, y"
      ],
      "execution_count": null,
      "outputs": [
        {
          "output_type": "execute_result",
          "data": {
            "text/plain": [
              "(array([-2.8, -1.8, -0.8,  1.2,  4.2]),\n",
              " array([-0.28, -0.18, -0.08,  0.12,  0.42]))"
            ]
          },
          "metadata": {
            "tags": []
          },
          "execution_count": 55
        }
      ]
    },
    {
      "cell_type": "code",
      "metadata": {
        "id": "nJtUBi8D4g8R"
      },
      "source": [
        "def Pearson_Correlation_Formula_1(x, y):\n",
        "    head = np.sum(np.dot(Normalized(x), Normalized(y))) \n",
        "    tail = np.dot(np.sum([(m1 - np.mean(x)) ** 2 for m1 in x]) ** 0.5, np.sum([(m1 - np.mean(y)) ** 2 for m1 in y]) ** 0.5)\n",
        "    print(f'head is: {head}, tail is: {tail}')\n",
        "    return head / tail"
      ],
      "execution_count": null,
      "outputs": []
    },
    {
      "cell_type": "code",
      "metadata": {
        "id": "oQi8ms64PNV6"
      },
      "source": [
        "def Pearson_Correlation_Formula_2(x, y):\n",
        "    m = len(x)\n",
        "    x, y = np.array(x), np.array(y)\n",
        "    head = np.dot(x, y) - (sum(x)*sum(y)/m)\n",
        "    tail = (sum(x**2)-((sum(x)**2)/m)) * (sum(y**2)-((sum(y)**2)/m))**.5\n",
        "    print(f'{np.dot(x, y)} - {(sum(x)*sum(y)/m)} / {(sum(x**2)-((sum(x)**2)/m))} * {(sum(y**2)-((sum(y)**2)/m))}')\n",
        "    # print(head, tail)\n",
        "    return head / tail"
      ],
      "execution_count": null,
      "outputs": []
    },
    {
      "cell_type": "code",
      "metadata": {
        "colab": {
          "base_uri": "https://localhost:8080/"
        },
        "id": "2Qs5XY0BRkLr",
        "outputId": "ebb4120d-01b5-4c48-e97b-74bf3b518765"
      },
      "source": [
        "f1 = [3.5, 3.5, 2.5]\n",
        "f2 = [4.5, 4.0, 1.0]\n",
        "# print(sum(f2))\n",
        "# Pearson_Correlation_Formula_1(f1, f2)\n",
        "Pearson_Correlation_Formula_2(f1, f2)"
      ],
      "execution_count": null,
      "outputs": [
        {
          "output_type": "stream",
          "text": [
            "32.25 - 30.083333333333332 / 0.6666666666666679 * 7.166666666666668\n"
          ],
          "name": "stdout"
        },
        {
          "output_type": "execute_result",
          "data": {
            "text/plain": [
              "1.2140169724111445"
            ]
          },
          "metadata": {
            "tags": []
          },
          "execution_count": 153
        }
      ]
    },
    {
      "cell_type": "code",
      "metadata": {
        "id": "eZcqNqGTR5jY"
      },
      "source": [
        "movies_name=['Night', 'Lady', 'Luck']\n",
        "['Lady', 'Snakes', 'Superman', 'Night', 'you', 'Luck']\n",
        "target_ratings=[None, None, None]\n",
        "peoples_ratings={\n",
        "    'Rose': [3.0, 2.5, 3.0], \n",
        "    'Seymour': [3.0, 3.0, 1.5],\n",
        "    'Puig': [4.5, None, 3.0], \n",
        "    'LaSalle': [3.0, 3.0, 2.0],\n",
        "    'Matthews': [3.0, 3.0, None]\n",
        "}\n",
        "def Recomending_items_table(target_ratings):\n"
      ],
      "execution_count": null,
      "outputs": []
    },
    {
      "cell_type": "code",
      "metadata": {
        "colab": {
          "base_uri": "https://localhost:8080/"
        },
        "id": "la44dYfnd5k7",
        "outputId": "164256ac-6bd0-44f7-9212-e1426e5fc1aa"
      },
      "source": [],
      "execution_count": null,
      "outputs": [
        {
          "output_type": "stream",
          "text": [
            "2\n",
            "3\n",
            "4\n",
            "iiii\n",
            "None\n",
            "3\n"
          ],
          "name": "stdout"
        }
      ]
    },
    {
      "cell_type": "code",
      "metadata": {
        "id": "G7sgYBYseB4G"
      },
      "source": [],
      "execution_count": null,
      "outputs": []
    }
  ]
}