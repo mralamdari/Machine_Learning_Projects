{
  "nbformat": 4,
  "nbformat_minor": 0,
  "metadata": {
    "colab": {
      "provenance": [],
      "collapsed_sections": [],
      "authorship_tag": "ABX9TyPH1+67Fzj3DcHL3QThFukr",
      "include_colab_link": true
    },
    "kernelspec": {
      "name": "python3",
      "display_name": "Python 3"
    },
    "language_info": {
      "name": "python"
    }
  },
  "cells": [
    {
      "cell_type": "markdown",
      "metadata": {
        "id": "view-in-github",
        "colab_type": "text"
      },
      "source": [
        "<a href=\"https://colab.research.google.com/github/mralamdari/Machine_Learning_Projects/blob/main/binary_classification.ipynb\" target=\"_parent\"><img src=\"https://colab.research.google.com/assets/colab-badge.svg\" alt=\"Open In Colab\"/></a>"
      ]
    },
    {
      "cell_type": "code",
      "metadata": {
        "id": "lVz_hJcczwmu"
      },
      "source": [
        "import tensorflow as tf, numpy as np, pandas as pd, seaborn as sns, matplotlib.pyplot as plt\n",
        "from sklearn import metrics, model_selection, datasets"
      ],
      "execution_count": null,
      "outputs": []
    },
    {
      "cell_type": "code",
      "metadata": {
        "id": "2P-N4qOpBKD_"
      },
      "source": [
        "x, y = datasets.make_circles(10000)\n",
        "x = pd.DataFrame(x, columns=['X0', 'X1'])\n",
        "y = pd.DataFrame(y, columns=['Labels'])"
      ],
      "execution_count": null,
      "outputs": []
    },
    {
      "cell_type": "code",
      "metadata": {
        "id": "4rXJ-ah20TeA",
        "colab": {
          "base_uri": "https://localhost:8080/"
        },
        "outputId": "c9cc1e1c-6881-4176-c9a4-e49cfced56d5"
      },
      "source": [
        "tf.random.set_seed(34)\n",
        "\n",
        "model = tf.keras.Sequential([\n",
        "  tf.keras.layers.Dense(10, activation='relu'),\n",
        "  tf.keras.layers.Dense(10, activation='relu'),  \n",
        "  tf.keras.layers.Dense(1, activation='sigmoid')\n",
        "])\n",
        "\n",
        "model.compile(\n",
        "    loss = tf.keras.losses.BinaryCrossentropy(), \n",
        "    optimizer = tf.keras.optimizers.Adam(),\n",
        "    metrics = ['accuracy']\n",
        ")\n",
        "\n",
        "lr_schedular = tf.keras.callbacks.LearningRateScheduler(lambda epoch: 1e-4 * 10 ** (epoch/20))\n",
        "\n",
        "model_history=model.fit(x, y, epochs=100, callbacks=[lr_schedular]) \n",
        "model.evaluate(x, y)"
      ],
      "execution_count": null,
      "outputs": [
        {
          "output_type": "stream",
          "text": [
            "Epoch 1/100\n",
            "313/313 [==============================] - 1s 1ms/step - loss: 0.7327 - accuracy: 0.4939\n",
            "Epoch 2/100\n",
            "313/313 [==============================] - 1s 2ms/step - loss: 0.7158 - accuracy: 0.4733\n",
            "Epoch 3/100\n",
            "313/313 [==============================] - 0s 1ms/step - loss: 0.7075 - accuracy: 0.4674\n",
            "Epoch 4/100\n",
            "313/313 [==============================] - 0s 1ms/step - loss: 0.7028 - accuracy: 0.4362\n",
            "Epoch 5/100\n",
            "313/313 [==============================] - 0s 1ms/step - loss: 0.6996 - accuracy: 0.4181\n",
            "Epoch 6/100\n",
            "313/313 [==============================] - 0s 1ms/step - loss: 0.6973 - accuracy: 0.4480\n",
            "Epoch 7/100\n",
            "313/313 [==============================] - 0s 1ms/step - loss: 0.6950 - accuracy: 0.4735\n",
            "Epoch 8/100\n",
            "313/313 [==============================] - 0s 2ms/step - loss: 0.6926 - accuracy: 0.4771\n",
            "Epoch 9/100\n",
            "313/313 [==============================] - 0s 1ms/step - loss: 0.6898 - accuracy: 0.4832\n",
            "Epoch 10/100\n",
            "313/313 [==============================] - 0s 1ms/step - loss: 0.6843 - accuracy: 0.5464\n",
            "Epoch 11/100\n",
            "313/313 [==============================] - 0s 2ms/step - loss: 0.6775 - accuracy: 0.6101\n",
            "Epoch 12/100\n",
            "313/313 [==============================] - 0s 1ms/step - loss: 0.6682 - accuracy: 0.6668\n",
            "Epoch 13/100\n",
            "313/313 [==============================] - 0s 1ms/step - loss: 0.6524 - accuracy: 0.7345\n",
            "Epoch 14/100\n",
            "313/313 [==============================] - 0s 1ms/step - loss: 0.6271 - accuracy: 0.8548\n",
            "Epoch 15/100\n",
            "313/313 [==============================] - 0s 1ms/step - loss: 0.5901 - accuracy: 0.9434\n",
            "Epoch 16/100\n",
            "313/313 [==============================] - 0s 1ms/step - loss: 0.5361 - accuracy: 0.9986\n",
            "Epoch 17/100\n",
            "313/313 [==============================] - 0s 1ms/step - loss: 0.4567 - accuracy: 0.9997\n",
            "Epoch 18/100\n",
            "313/313 [==============================] - 0s 1ms/step - loss: 0.3532 - accuracy: 1.0000\n",
            "Epoch 19/100\n",
            "313/313 [==============================] - 0s 1ms/step - loss: 0.2518 - accuracy: 1.0000\n",
            "Epoch 20/100\n",
            "313/313 [==============================] - 0s 1ms/step - loss: 0.1682 - accuracy: 1.0000\n",
            "Epoch 21/100\n",
            "313/313 [==============================] - 0s 1ms/step - loss: 0.1010 - accuracy: 1.0000\n",
            "Epoch 22/100\n",
            "313/313 [==============================] - 0s 1ms/step - loss: 0.0582 - accuracy: 1.0000\n",
            "Epoch 23/100\n",
            "313/313 [==============================] - 0s 1ms/step - loss: 0.0345 - accuracy: 1.0000\n",
            "Epoch 24/100\n",
            "313/313 [==============================] - 0s 1ms/step - loss: 0.0210 - accuracy: 1.0000\n",
            "Epoch 25/100\n",
            "313/313 [==============================] - 0s 1ms/step - loss: 0.0130 - accuracy: 1.0000\n",
            "Epoch 26/100\n",
            "313/313 [==============================] - 0s 2ms/step - loss: 0.0083 - accuracy: 1.0000\n",
            "Epoch 27/100\n",
            "313/313 [==============================] - 0s 1ms/step - loss: 0.0054 - accuracy: 1.0000\n",
            "Epoch 28/100\n",
            "313/313 [==============================] - 0s 1ms/step - loss: 0.0036 - accuracy: 1.0000\n",
            "Epoch 29/100\n",
            "313/313 [==============================] - 0s 2ms/step - loss: 0.0024 - accuracy: 1.0000\n",
            "Epoch 30/100\n",
            "313/313 [==============================] - 0s 1ms/step - loss: 0.0017 - accuracy: 1.0000\n",
            "Epoch 31/100\n",
            "313/313 [==============================] - 0s 1ms/step - loss: 0.0012 - accuracy: 1.0000\n",
            "Epoch 32/100\n",
            "313/313 [==============================] - 0s 1ms/step - loss: 8.0980e-04 - accuracy: 1.0000\n",
            "Epoch 33/100\n",
            "313/313 [==============================] - 0s 1ms/step - loss: 5.6834e-04 - accuracy: 1.0000\n",
            "Epoch 34/100\n",
            "313/313 [==============================] - 0s 1ms/step - loss: 4.0172e-04 - accuracy: 1.0000\n",
            "Epoch 35/100\n",
            "313/313 [==============================] - 0s 2ms/step - loss: 2.8479e-04 - accuracy: 1.0000\n",
            "Epoch 36/100\n",
            "313/313 [==============================] - 0s 1ms/step - loss: 2.0167e-04 - accuracy: 1.0000\n",
            "Epoch 37/100\n",
            "313/313 [==============================] - 0s 1ms/step - loss: 1.4342e-04 - accuracy: 1.0000\n",
            "Epoch 38/100\n",
            "313/313 [==============================] - 0s 2ms/step - loss: 1.0257e-04 - accuracy: 1.0000\n",
            "Epoch 39/100\n",
            "313/313 [==============================] - 0s 1ms/step - loss: 7.3948e-05 - accuracy: 1.0000\n",
            "Epoch 40/100\n",
            "313/313 [==============================] - 0s 1ms/step - loss: 5.3265e-05 - accuracy: 1.0000\n",
            "Epoch 41/100\n",
            "313/313 [==============================] - 0s 1ms/step - loss: 3.8692e-05 - accuracy: 1.0000\n",
            "Epoch 42/100\n",
            "313/313 [==============================] - 1s 2ms/step - loss: 2.8095e-05 - accuracy: 1.0000\n",
            "Epoch 43/100\n",
            "313/313 [==============================] - 0s 2ms/step - loss: 2.0446e-05 - accuracy: 1.0000\n",
            "Epoch 44/100\n",
            "313/313 [==============================] - 0s 2ms/step - loss: 1.4932e-05 - accuracy: 1.0000\n",
            "Epoch 45/100\n",
            "313/313 [==============================] - 1s 2ms/step - loss: 1.0880e-05 - accuracy: 1.0000\n",
            "Epoch 46/100\n",
            "313/313 [==============================] - 0s 1ms/step - loss: 7.9699e-06 - accuracy: 1.0000\n",
            "Epoch 47/100\n",
            "313/313 [==============================] - 0s 1ms/step - loss: 5.8088e-06 - accuracy: 1.0000\n",
            "Epoch 48/100\n",
            "313/313 [==============================] - 0s 1ms/step - loss: 4.2463e-06 - accuracy: 1.0000\n",
            "Epoch 49/100\n",
            "313/313 [==============================] - 0s 1ms/step - loss: 3.0887e-06 - accuracy: 1.0000\n",
            "Epoch 50/100\n",
            "313/313 [==============================] - 0s 1ms/step - loss: 2.2485e-06 - accuracy: 1.0000\n",
            "Epoch 51/100\n",
            "313/313 [==============================] - 0s 1ms/step - loss: 1.6323e-06 - accuracy: 1.0000\n",
            "Epoch 52/100\n",
            "313/313 [==============================] - 0s 2ms/step - loss: 1.1782e-06 - accuracy: 1.0000\n",
            "Epoch 53/100\n",
            "313/313 [==============================] - 0s 1ms/step - loss: 8.4952e-07 - accuracy: 1.0000\n",
            "Epoch 54/100\n",
            "313/313 [==============================] - 0s 1ms/step - loss: 6.0925e-07 - accuracy: 1.0000\n",
            "Epoch 55/100\n",
            "313/313 [==============================] - 0s 1ms/step - loss: 4.3410e-07 - accuracy: 1.0000\n",
            "Epoch 56/100\n",
            "313/313 [==============================] - 0s 2ms/step - loss: 3.0747e-07 - accuracy: 1.0000\n",
            "Epoch 57/100\n",
            "313/313 [==============================] - 1s 2ms/step - loss: 2.1665e-07 - accuracy: 1.0000\n",
            "Epoch 58/100\n",
            "313/313 [==============================] - 1s 2ms/step - loss: 1.5248e-07 - accuracy: 1.0000\n",
            "Epoch 59/100\n",
            "313/313 [==============================] - 0s 2ms/step - loss: 1.0710e-07 - accuracy: 1.0000\n",
            "Epoch 60/100\n",
            "313/313 [==============================] - 0s 1ms/step - loss: 7.5368e-08 - accuracy: 1.0000\n",
            "Epoch 61/100\n",
            "313/313 [==============================] - 0s 2ms/step - loss: 5.3288e-08 - accuracy: 1.0000\n",
            "Epoch 62/100\n",
            "313/313 [==============================] - 0s 1ms/step - loss: 3.7936e-08 - accuracy: 1.0000\n",
            "Epoch 63/100\n",
            "313/313 [==============================] - 0s 2ms/step - loss: 2.7345e-08 - accuracy: 1.0000\n",
            "Epoch 64/100\n",
            "313/313 [==============================] - 0s 1ms/step - loss: 1.9775e-08 - accuracy: 1.0000\n",
            "Epoch 65/100\n",
            "313/313 [==============================] - 0s 2ms/step - loss: 1.4653e-08 - accuracy: 1.0000\n",
            "Epoch 66/100\n",
            "313/313 [==============================] - 0s 1ms/step - loss: 1.1085e-08 - accuracy: 1.0000\n",
            "Epoch 67/100\n",
            "313/313 [==============================] - 0s 1ms/step - loss: 8.8007e-09 - accuracy: 1.0000\n",
            "Epoch 68/100\n",
            "313/313 [==============================] - 0s 2ms/step - loss: 7.3935e-09 - accuracy: 1.0000\n",
            "Epoch 69/100\n",
            "313/313 [==============================] - 1s 2ms/step - loss: 6.4787e-09 - accuracy: 1.0000\n",
            "Epoch 70/100\n",
            "313/313 [==============================] - 0s 1ms/step - loss: 5.9140e-09 - accuracy: 1.0000\n",
            "Epoch 71/100\n",
            "313/313 [==============================] - 0s 1ms/step - loss: 5.5745e-09 - accuracy: 1.0000\n",
            "Epoch 72/100\n",
            "313/313 [==============================] - 0s 2ms/step - loss: 5.2298e-09 - accuracy: 1.0000\n",
            "Epoch 73/100\n",
            "313/313 [==============================] - 0s 2ms/step - loss: 4.7871e-09 - accuracy: 1.0000\n",
            "Epoch 74/100\n",
            "313/313 [==============================] - 1s 2ms/step - loss: 4.5034e-09 - accuracy: 1.0000\n",
            "Epoch 75/100\n",
            "313/313 [==============================] - 1s 2ms/step - loss: 4.2725e-09 - accuracy: 1.0000\n",
            "Epoch 76/100\n",
            "313/313 [==============================] - 1s 2ms/step - loss: 4.0554e-09 - accuracy: 1.0000\n",
            "Epoch 77/100\n",
            "313/313 [==============================] - 1s 2ms/step - loss: 3.6672e-09 - accuracy: 1.0000\n",
            "Epoch 78/100\n",
            "313/313 [==============================] - 0s 1ms/step - loss: 3.3063e-09 - accuracy: 1.0000\n",
            "Epoch 79/100\n",
            "313/313 [==============================] - 1s 2ms/step - loss: 2.9533e-09 - accuracy: 1.0000\n",
            "Epoch 80/100\n",
            "313/313 [==============================] - 1s 2ms/step - loss: 2.3591e-09 - accuracy: 1.0000\n",
            "Epoch 81/100\n",
            "313/313 [==============================] - 1s 2ms/step - loss: 2.2526e-09 - accuracy: 1.0000\n",
            "Epoch 82/100\n",
            "313/313 [==============================] - 1s 2ms/step - loss: 1.8960e-09 - accuracy: 1.0000\n",
            "Epoch 83/100\n",
            "313/313 [==============================] - 0s 2ms/step - loss: 1.9236e-09 - accuracy: 1.0000\n",
            "Epoch 84/100\n",
            "313/313 [==============================] - 0s 1ms/step - loss: 3.2681 - accuracy: 0.7798\n",
            "Epoch 85/100\n",
            "313/313 [==============================] - 0s 1ms/step - loss: 0.6608 - accuracy: 0.5604\n",
            "Epoch 86/100\n",
            "313/313 [==============================] - 0s 1ms/step - loss: 0.6680 - accuracy: 0.5611\n",
            "Epoch 87/100\n",
            "313/313 [==============================] - 0s 2ms/step - loss: 0.6556 - accuracy: 0.5620\n",
            "Epoch 88/100\n",
            "313/313 [==============================] - 0s 2ms/step - loss: 0.6508 - accuracy: 0.5614\n",
            "Epoch 89/100\n",
            "313/313 [==============================] - 0s 2ms/step - loss: 0.6770 - accuracy: 0.5507\n",
            "Epoch 90/100\n",
            "313/313 [==============================] - 0s 1ms/step - loss: 0.6556 - accuracy: 0.5682\n",
            "Epoch 91/100\n",
            "313/313 [==============================] - 1s 2ms/step - loss: 0.6739 - accuracy: 0.5549\n",
            "Epoch 92/100\n",
            "313/313 [==============================] - 0s 1ms/step - loss: 0.6834 - accuracy: 0.5543\n",
            "Epoch 93/100\n",
            "313/313 [==============================] - 0s 2ms/step - loss: 0.6696 - accuracy: 0.5584\n",
            "Epoch 94/100\n",
            "313/313 [==============================] - 0s 2ms/step - loss: 0.6739 - accuracy: 0.5542\n",
            "Epoch 95/100\n",
            "313/313 [==============================] - 0s 1ms/step - loss: 0.6868 - accuracy: 0.5499\n",
            "Epoch 96/100\n",
            "313/313 [==============================] - 0s 2ms/step - loss: 0.6970 - accuracy: 0.5609\n",
            "Epoch 97/100\n",
            "313/313 [==============================] - 1s 2ms/step - loss: 0.6907 - accuracy: 0.5597\n",
            "Epoch 98/100\n",
            "313/313 [==============================] - 1s 2ms/step - loss: 0.7198 - accuracy: 0.5505\n",
            "Epoch 99/100\n",
            "313/313 [==============================] - 1s 2ms/step - loss: 0.7119 - accuracy: 0.5567\n",
            "Epoch 100/100\n",
            "313/313 [==============================] - 0s 2ms/step - loss: 0.7299 - accuracy: 0.5436\n",
            "313/313 [==============================] - 0s 1ms/step - loss: 1.0904 - accuracy: 0.5000\n"
          ],
          "name": "stdout"
        },
        {
          "output_type": "execute_result",
          "data": {
            "text/plain": [
              "[1.0903738737106323, 0.5]"
            ]
          },
          "metadata": {
            "tags": []
          },
          "execution_count": 16
        }
      ]
    },
    {
      "cell_type": "code",
      "metadata": {
        "id": "cPHGjsbDLD9y",
        "colab": {
          "base_uri": "https://localhost:8080/",
          "height": 405
        },
        "outputId": "1d766e00-9bb4-4726-b285-9de1dd029eec"
      },
      "source": [
        "pd.DataFrame(model_hisory.history).plot(figsize=(6,6), xlabel='Epochs')"
      ],
      "execution_count": null,
      "outputs": [
        {
          "output_type": "execute_result",
          "data": {
            "text/plain": [
              "<matplotlib.axes._subplots.AxesSubplot at 0x7f4f0039cc90>"
            ]
          },
          "metadata": {
            "tags": []
          },
          "execution_count": 20
        },
        {
          "output_type": "display_data",
          "data": {
            "image/png": "[encoded data removed]",
            "text/plain": [
              "<Figure size 432x432 with 1 Axes>"
            ]
          },
          "metadata": {
            "tags": [],
            "needs_background": "light"
          }
        }
      ]
    },
    {
      "cell_type": "code",
      "metadata": {
        "colab": {
          "base_uri": "https://localhost:8080/",
          "height": 316
        },
        "id": "EYnjokocv_Mq",
        "outputId": "f04e2e80-934a-4112-e6ed-c3c602ea99f9"
      },
      "source": [
        "pp = lambda epoch: 1e-4 * 10 ** (epoch/20)\n",
        "lrs = pp(tf.range(100))\n",
        "plt.semilogx(lrs, model_history.history['loss'])\n",
        "plt.xlabel('Learning Rate')\n",
        "plt.ylabel('Loss')\n",
        "plt.title('Learning Rate vs Loss')"
      ],
      "execution_count": null,
      "outputs": [
        {
          "output_type": "execute_result",
          "data": {
            "text/plain": [
              "Text(0.5, 1.0, 'Learning Rate vs Loss')"
            ]
          },
          "metadata": {
            "tags": []
          },
          "execution_count": 26
        },
        {
          "output_type": "display_data",
          "data": {
            "image/png": "[encoded data removed]",
            "text/plain": [
              "<Figure size 432x288 with 1 Axes>"
            ]
          },
          "metadata": {
            "tags": [],
            "needs_background": "light"
          }
        }
      ]
    }
  ]
}