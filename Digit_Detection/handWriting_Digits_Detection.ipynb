{
  "nbformat": 4,
  "nbformat_minor": 0,
  "metadata": {
    "colab": {
      "provenance": [],
      "collapsed_sections": [],
      "mount_file_id": "1w_ATRsHin8q0BJnfDPKWqAUPBlyPSifd",
      "authorship_tag": "ABX9TyNibSq5JLcvR/ly87h7bjjD",
      "include_colab_link": true
    },
    "kernelspec": {
      "name": "python3",
      "display_name": "Python 3"
    },
    "language_info": {
      "name": "python"
    }
  },
  "cells": [
    {
      "cell_type": "markdown",
      "metadata": {
        "id": "view-in-github",
        "colab_type": "text"
      },
      "source": [
        "<a href=\"https://colab.research.google.com/github/mralamdari/Machine_Learning_Projects/blob/main/handWriting_Digits_Detection.ipynb\" target=\"_parent\"><img src=\"https://colab.research.google.com/assets/colab-badge.svg\" alt=\"Open In Colab\"/></a>"
      ]
    },
    {
      "cell_type": "code",
      "metadata": {
        "id": "55VW19CEn53q"
      },
      "source": [
        "import numpy as np\n",
        "import pandas as pd\n",
        "import matplotlib as mpl\n",
        "import matplotlib.pyplot as plt\n",
        "from sklearn.base import clone, BaseEstimator\n",
        "import sklearn.linear_model as sklinear\n",
        "import sklearn.model_selection as model\n",
        "import sklearn.metrics as metrics\n",
        "from sklearn.preprocessing import StandardScaler\n",
        "from sklearn.ensemble import RandomForestClassifier\n",
        "from sklearn.datasets import fetch_openml"
      ],
      "execution_count": null,
      "outputs": []
    },
    {
      "cell_type": "code",
      "metadata": {
        "id": "amPPW1MNoD7D"
      },
      "source": [
        "mnist = fetch_openml('mnist_784', version=1)\n",
        "# mnist.keys()\n",
        "# dict_keys(['data', 'target', 'frame', 'feature_names', 'target_names', 'DESCR', 'details', 'categories', 'url'])"
      ],
      "execution_count": null,
      "outputs": []
    },
    {
      "cell_type": "code",
      "metadata": {
        "id": "gubGkdivonBF"
      },
      "source": [
        "x, y = mnist.data, mnist.target\n",
        "# y.reshape(-1, 1)"
      ],
      "execution_count": null,
      "outputs": []
    },
    {
      "cell_type": "code",
      "metadata": {
        "id": "fGO5O0LgqBpR",
        "colab": {
          "base_uri": "https://localhost:8080/",
          "height": 265
        },
        "outputId": "0aab172f-49f0-4665-ee33-f35723fcfdea"
      },
      "source": [
        "some_digit = x[185]\n",
        "plt.imshow(some_digit.reshape(28,28), cmap=mpl.cm.binary, interpolation='nearest')\n",
        "plt.axis('off')\n",
        "plt.show()\n",
        "print(y[185])"
      ],
      "execution_count": null,
      "outputs": [
        {
          "output_type": "display_data",
          "data": {
            "image/png": "[encoded data removed]",
            "text/plain": [
              "<Figure size 432x288 with 1 Axes>"
            ]
          },
          "metadata": {
            "tags": [],
            "needs_background": "light"
          }
        },
        {
          "output_type": "stream",
          "text": [
            "7\n"
          ],
          "name": "stdout"
        }
      ]
    },
    {
      "cell_type": "code",
      "metadata": {
        "id": "ohN1puzvybh1"
      },
      "source": [
        "x_train, x_test, y_train, y_test = x[:60000], x[60000:], y[:60000], y[60000:]"
      ],
      "execution_count": null,
      "outputs": []
    },
    {
      "cell_type": "code",
      "metadata": {
        "colab": {
          "base_uri": "https://localhost:8080/"
        },
        "id": "UxUEBEli12D6",
        "outputId": "fca00c27-6532-46c5-fb77-b74b5aa5b84c"
      },
      "source": [
        "y_train_5 = (y_train == '5')\n",
        "y_test_5 = (y_test == '5')\n",
        "# print(y_train_5.shape, y_train_5.shape)\n",
        "# np.unique(y_train_5)\n",
        "# any(y_train_5)\n",
        "# print(y_train)"
      ],
      "execution_count": null,
      "outputs": [
        {
          "output_type": "execute_result",
          "data": {
            "text/plain": [
              "True"
            ]
          },
          "metadata": {
            "tags": []
          },
          "execution_count": 46
        }
      ]
    },
    {
      "cell_type": "code",
      "metadata": {
        "colab": {
          "base_uri": "https://localhost:8080/"
        },
        "id": "-EP1Zlx50GdG",
        "outputId": "24bb3683-95c9-4389-bdcd-e479b69d95a9"
      },
      "source": [
        "sgd_clf = sklinear.SGDClassifier(random_state=42)\n",
        "sgd_clf.fit(x_train, y_train_5)"
      ],
      "execution_count": null,
      "outputs": [
        {
          "output_type": "execute_result",
          "data": {
            "text/plain": [
              "SGDClassifier(alpha=0.0001, average=False, class_weight=None,\n",
              "              early_stopping=False, epsilon=0.1, eta0=0.0, fit_intercept=True,\n",
              "              l1_ratio=0.15, learning_rate='optimal', loss='hinge',\n",
              "              max_iter=1000, n_iter_no_change=5, n_jobs=None, penalty='l2',\n",
              "              power_t=0.5, random_state=42, shuffle=True, tol=0.001,\n",
              "              validation_fraction=0.1, verbose=0, warm_start=False)"
            ]
          },
          "metadata": {
            "tags": []
          },
          "execution_count": 55
        }
      ]
    },
    {
      "cell_type": "code",
      "metadata": {
        "colab": {
          "base_uri": "https://localhost:8080/"
        },
        "id": "ZcJJcCw602oH",
        "outputId": "0e12ae58-b6f1-445f-ae70-5e2198c4eefd"
      },
      "source": [
        "print(y[0])\n",
        "sgd_clf.predict([x[0]])"
      ],
      "execution_count": null,
      "outputs": [
        {
          "output_type": "stream",
          "text": [
            "5\n"
          ],
          "name": "stdout"
        },
        {
          "output_type": "execute_result",
          "data": {
            "text/plain": [
              "array([ True])"
            ]
          },
          "metadata": {
            "tags": []
          },
          "execution_count": 56
        }
      ]
    },
    {
      "cell_type": "markdown",
      "metadata": {
        "id": "gRZbiW3FJiWj"
      },
      "source": []
    },
    {
      "cell_type": "code",
      "metadata": {
        "colab": {
          "base_uri": "https://localhost:8080/"
        },
        "id": "4yhZ3iKW7s8H",
        "outputId": "431a86e9-3f34-455c-de78-7a7bafa80cc5"
      },
      "source": [
        "skfolds = model.StratifiedKFold(n_splits=3, random_state=42)"
      ],
      "execution_count": null,
      "outputs": [
        {
          "output_type": "stream",
          "text": [
            "/usr/local/lib/python3.7/dist-packages/sklearn/model_selection/_split.py:296: FutureWarning: Setting a random_state has no effect since shuffle is False. This will raise an error in 0.24. You should leave random_state to its default (None), or set shuffle=True.\n",
            "  FutureWarning\n"
          ],
          "name": "stderr"
        }
      ]
    },
    {
      "cell_type": "code",
      "metadata": {
        "colab": {
          "base_uri": "https://localhost:8080/"
        },
        "id": "fDTeK6Ny8hIY",
        "outputId": "b0601c9f-0997-4b3e-b3d6-23063b666f49"
      },
      "source": [
        "for train_index, test_index in skfolds.split(x_train, y_train_5):\n",
        "    clone_clf = clone(sgd_clf)\n",
        "    x_train_fold, x_test_fold = x_train[train_index], x_train[test_index]\n",
        "    y_train_fold, y_test_fold = y_train_5[train_index], y_train_5[test_index]\n",
        "    clone_clf.fit(x_train_fold, y_train_fold)\n",
        "    y_pred = clone_clf.predict(x_test_fold)\n",
        "    result = np.sum(y_pred == y_test_fold) / len(y_pred)\n",
        "    print(result)"
      ],
      "execution_count": null,
      "outputs": [
        {
          "output_type": "stream",
          "text": [
            "0.95035\n",
            "0.96035\n",
            "0.9604\n"
          ],
          "name": "stdout"
        }
      ]
    },
    {
      "cell_type": "code",
      "metadata": {
        "colab": {
          "base_uri": "https://localhost:8080/"
        },
        "id": "U_A2qoplHgDl",
        "outputId": "c9346c44-e9d2-449e-c6d0-49a726fc355a"
      },
      "source": [
        "# array([0.95466667, 0.96975   , 0.9635    , 0.96533333, 0.94841667])               43\n",
        "# array([0.96358333, 0.96108333, 0.95716667, 0.95725   , 0.961     ])               20\n",
        "# array([0.9515    , 0.96408333, 0.96858333, 0.96241667, 0.93408333])               85\n",
        "sgd = sklinear.SGDClassifier(random_state=85)\n",
        "# sgd_clf = sklinear.SGDClassifier(random_state=42)\n",
        "sgd.fit(x_train, y_train_5)\n",
        "model.cross_val_score(sgd, x_train, y_train_5, scoring='accuracy')"
      ],
      "execution_count": null,
      "outputs": [
        {
          "output_type": "execute_result",
          "data": {
            "text/plain": [
              "array([0.9515    , 0.96408333, 0.96858333, 0.96241667, 0.93408333])"
            ]
          },
          "metadata": {
            "tags": []
          },
          "execution_count": 67
        }
      ]
    },
    {
      "cell_type": "code",
      "metadata": {
        "colab": {
          "base_uri": "https://localhost:8080/"
        },
        "id": "viffoSVtJ2WF",
        "outputId": "a638bd51-edbe-4751-e618-21f206d84eb7"
      },
      "source": [
        "class Never5Classifier(BaseEstimator):\n",
        "    def fit(self, x, y=None):\n",
        "        pass\n",
        "    def predict(self, x):\n",
        "        return np.zeros((len(x), 1), dtype=bool)\n",
        "\n",
        "never_5_cld = Never5Classifier()\n",
        "model.cross_val_score(never_5_cld, x_train, y_train_5, scoring='accuracy')"
      ],
      "execution_count": null,
      "outputs": [
        {
          "output_type": "execute_result",
          "data": {
            "text/plain": [
              "array([0.91266667, 0.90866667, 0.9095    , 0.90883333, 0.90858333])"
            ]
          },
          "metadata": {
            "tags": []
          },
          "execution_count": 73
        }
      ]
    },
    {
      "cell_type": "code",
      "metadata": {
        "colab": {
          "base_uri": "https://localhost:8080/"
        },
        "id": "YcXzfvFZPqig",
        "outputId": "f61cf58f-95f5-41a7-d614-447529514137"
      },
      "source": [
        "y_train_pred = model.cross_val_predict(sgd_clf, x_train, y_train_5)\n",
        "metrics.confusion_matrix(y_train_5, y_train_pred)"
      ],
      "execution_count": null,
      "outputs": [
        {
          "output_type": "execute_result",
          "data": {
            "text/plain": [
              "array([[53115,  1464],\n",
              "       [  916,  4505]])"
            ]
          },
          "metadata": {
            "tags": []
          },
          "execution_count": 78
        }
      ]
    },
    {
      "cell_type": "code",
      "metadata": {
        "colab": {
          "base_uri": "https://localhost:8080/"
        },
        "id": "s8Ma2WiyRtRh",
        "outputId": "3f81cc49-1edf-43b0-b2ac-52c6631a9d23"
      },
      "source": [
        "metrics.confusion_matrix(y_train_pred, y_train_pred)"
      ],
      "execution_count": null,
      "outputs": [
        {
          "output_type": "execute_result",
          "data": {
            "text/plain": [
              "array([[54031,     0],\n",
              "       [    0,  5969]])"
            ]
          },
          "metadata": {
            "tags": []
          },
          "execution_count": 79
        }
      ]
    },
    {
      "cell_type": "code",
      "metadata": {
        "colab": {
          "base_uri": "https://localhost:8080/"
        },
        "id": "2y5EcR_sTHdi",
        "outputId": "81c447d6-fa16-4533-bbea-3b6839ea727f"
      },
      "source": [
        "metrics.precision_score(y_train_5, y_train_pred)"
      ],
      "execution_count": null,
      "outputs": [
        {
          "output_type": "execute_result",
          "data": {
            "text/plain": [
              "0.7547327860613168"
            ]
          },
          "metadata": {
            "tags": []
          },
          "execution_count": 80
        }
      ]
    },
    {
      "cell_type": "code",
      "metadata": {
        "colab": {
          "base_uri": "https://localhost:8080/"
        },
        "id": "VLc6E7pOUlx8",
        "outputId": "b14c7085-7cef-4144-c788-90a7541c78f8"
      },
      "source": [
        "metrics.recall_score(y_train_5, y_train_pred)"
      ],
      "execution_count": null,
      "outputs": [
        {
          "output_type": "execute_result",
          "data": {
            "text/plain": [
              "0.8310274857037447"
            ]
          },
          "metadata": {
            "tags": []
          },
          "execution_count": 81
        }
      ]
    },
    {
      "cell_type": "code",
      "metadata": {
        "colab": {
          "base_uri": "https://localhost:8080/"
        },
        "id": "LGQprQrmU7I5",
        "outputId": "316c66f2-7025-4d3b-a8b2-e3e5d4aea10e"
      },
      "source": [
        "metrics.f1_score(y_train_5, y_train_pred)"
      ],
      "execution_count": null,
      "outputs": [
        {
          "output_type": "execute_result",
          "data": {
            "text/plain": [
              "0.791044776119403"
            ]
          },
          "metadata": {
            "tags": []
          },
          "execution_count": 82
        }
      ]
    },
    {
      "cell_type": "code",
      "metadata": {
        "colab": {
          "base_uri": "https://localhost:8080/"
        },
        "id": "YU3Azuu7Wm3Z",
        "outputId": "76d5239c-a08a-4953-e3a2-2fc612441b33"
      },
      "source": [
        "y_score = sgd_clf.decision_function([x[0]])\n",
        "y_score > 8000"
      ],
      "execution_count": null,
      "outputs": [
        {
          "output_type": "execute_result",
          "data": {
            "text/plain": [
              "array([False])"
            ]
          },
          "metadata": {
            "tags": []
          },
          "execution_count": 88
        }
      ]
    },
    {
      "cell_type": "code",
      "metadata": {
        "id": "VaTmt9dfXlbY"
      },
      "source": [
        "y_scores = model.cross_val_predict(sgd_clf, x_train, y_train_5, method='decision_function')"
      ],
      "execution_count": null,
      "outputs": []
    },
    {
      "cell_type": "code",
      "metadata": {
        "id": "22BRWXq1Zh3p"
      },
      "source": [
        "precision, recall, thereshold = metrics.precision_recall_curve(y_train_5, y_scores)"
      ],
      "execution_count": null,
      "outputs": []
    },
    {
      "cell_type": "code",
      "metadata": {
        "colab": {
          "base_uri": "https://localhost:8080/",
          "height": 265
        },
        "id": "-VNgb2l0aLHu",
        "outputId": "5cd21f66-7966-47e8-e7ef-9e964d11817b"
      },
      "source": [
        "def plot_precision_recall_vs_thereshold(precision, recall, thereshold):\n",
        "    fig, ax = plt.subplots()\n",
        "    plt.plot(thereshold, precision[:-1], 'b--', label='Precision')\n",
        "    plt.plot(thereshold, recall[:-1], 'g--', label='Recall')\n",
        "    ax.set_xlim([-40000, 40000])\n",
        "    plt.legend()\n",
        "\n",
        "plot_precision_recall_vs_thereshold(precision, recall, thereshold)\n",
        "plt.show()    "
      ],
      "execution_count": null,
      "outputs": [
        {
          "output_type": "display_data",
          "data": {
            "image/png": "[encoded data removed]",
            "text/plain": [
              "<Figure size 432x288 with 1 Axes>"
            ]
          },
          "metadata": {
            "tags": [],
            "needs_background": "light"
          }
        }
      ]
    },
    {
      "cell_type": "code",
      "metadata": {
        "colab": {
          "base_uri": "https://localhost:8080/"
        },
        "id": "51RJW7v1by8n",
        "outputId": "906f5d91-c51d-4f95-8820-05d57827369d"
      },
      "source": [
        "thereshold_90_percent = thereshold[np.argmax(precision >= 0.92)]\n",
        "thereshold_90_percent"
      ],
      "execution_count": null,
      "outputs": [
        {
          "output_type": "execute_result",
          "data": {
            "text/plain": [
              "3801.881885089166"
            ]
          },
          "metadata": {
            "tags": []
          },
          "execution_count": 120
        }
      ]
    },
    {
      "cell_type": "code",
      "metadata": {
        "id": "FdgI5PxDUe9I"
      },
      "source": [
        "y_train_predict90 = (y_scores >= thereshold_90_percent)"
      ],
      "execution_count": null,
      "outputs": []
    },
    {
      "cell_type": "code",
      "metadata": {
        "colab": {
          "base_uri": "https://localhost:8080/"
        },
        "id": "UDHyp65tTLLG",
        "outputId": "35cc5571-444b-4285-836c-ed77037dce9c"
      },
      "source": [
        "metrics.precision_score(y_train_5, y_train_predict90)"
      ],
      "execution_count": null,
      "outputs": [
        {
          "output_type": "execute_result",
          "data": {
            "text/plain": [
              "0.920113314447592"
            ]
          },
          "metadata": {
            "tags": []
          },
          "execution_count": 122
        }
      ]
    },
    {
      "cell_type": "code",
      "metadata": {
        "colab": {
          "base_uri": "https://localhost:8080/"
        },
        "id": "SBqMmFqgVFL2",
        "outputId": "1877041d-88ac-4a46-dff2-b555485f38c4"
      },
      "source": [
        "metrics.recall_score(y_train_5, y_train_predict90)"
      ],
      "execution_count": null,
      "outputs": [
        {
          "output_type": "execute_result",
          "data": {
            "text/plain": [
              "0.5991514480723114"
            ]
          },
          "metadata": {
            "tags": []
          },
          "execution_count": 123
        }
      ]
    },
    {
      "cell_type": "code",
      "metadata": {
        "id": "snWsZicGVn-w"
      },
      "source": [
        "fpr, tpr, threshold = metrics.roc_curve(y_train_5, y_scores)\n",
        "\n",
        "def plot_roc_curve(fpr, tpr, label=None):\n",
        "  # fig, ax = plt.subplots()\n",
        "  plt.plot(fpr, tpr, linewidth=2, label=label)\n",
        "  plt.plot([0, 1], [0, 1], 'k--')\n",
        "  # ax.xlabel('')\n",
        "  plt.legend()"
      ],
      "execution_count": null,
      "outputs": []
    },
    {
      "cell_type": "code",
      "metadata": {
        "colab": {
          "base_uri": "https://localhost:8080/",
          "height": 333
        },
        "id": "gXuOF7xxXeic",
        "outputId": "fe2e6b21-52ea-468d-fd85-41df95860c45"
      },
      "source": [
        "print(fpr, tpr, threshold)\n",
        "plot_roc_curve(fpr, tpr)\n",
        "\n",
        "plt.show()"
      ],
      "execution_count": null,
      "outputs": [
        {
          "output_type": "stream",
          "text": [
            "No handles with labels found to put in legend.\n"
          ],
          "name": "stderr"
        },
        {
          "output_type": "stream",
          "text": [
            "[0.         0.         0.         ... 0.99857088 0.99857088 1.        ] [0.00000000e+00 1.84467810e-04 7.37871241e-04 ... 9.99815532e-01\n",
            " 1.00000000e+00 1.00000000e+00] [  33371.36083388   33370.36083388   27939.65338    ...  -71564.61915861\n",
            "  -71657.12621734 -116288.54262534]\n"
          ],
          "name": "stdout"
        },
        {
          "output_type": "display_data",
          "data": {
            "image/png": "[encoded data removed]",
            "text/plain": [
              "<Figure size 432x288 with 1 Axes>"
            ]
          },
          "metadata": {
            "tags": [],
            "needs_background": "light"
          }
        }
      ]
    },
    {
      "cell_type": "code",
      "metadata": {
        "colab": {
          "base_uri": "https://localhost:8080/"
        },
        "id": "X3dlQcpwXoY1",
        "outputId": "8bafd717-9391-499f-916c-b9d6bf9d8e26"
      },
      "source": [
        "metrics.roc_auc_score(y_train_5, y_scores)"
      ],
      "execution_count": null,
      "outputs": [
        {
          "output_type": "execute_result",
          "data": {
            "text/plain": [
              "0.9648211175804801"
            ]
          },
          "metadata": {
            "tags": []
          },
          "execution_count": 127
        }
      ]
    },
    {
      "cell_type": "code",
      "metadata": {
        "colab": {
          "base_uri": "https://localhost:8080/"
        },
        "id": "Thl-2BCuY2-G",
        "outputId": "6d3c314e-7cef-4b1b-dc16-08eebe503232"
      },
      "source": [
        "# randomForestClassifier\n",
        "forest_clf = RandomForestClassifier(random_state=42)\n",
        "y_probas_forest = model.cross_val_predict(forest_clf, x_train, y_train_5, method='predict_proba')\n",
        "y_probas_forest"
      ],
      "execution_count": null,
      "outputs": [
        {
          "output_type": "execute_result",
          "data": {
            "text/plain": [
              "array([[0.14, 0.86],\n",
              "       [0.99, 0.01],\n",
              "       [0.98, 0.02],\n",
              "       ...,\n",
              "       [0.01, 0.99],\n",
              "       [0.96, 0.04],\n",
              "       [0.96, 0.04]])"
            ]
          },
          "metadata": {
            "tags": []
          },
          "execution_count": 132
        }
      ]
    },
    {
      "cell_type": "code",
      "metadata": {
        "id": "PL_OOgg7aRdT"
      },
      "source": [
        "y_scores_forest = y_probas_forest[:, 1]\n",
        "fpr_forest, tpr_forest, threshold_forest = metrics.roc_curve(y_train_5, y_scores_forest)"
      ],
      "execution_count": null,
      "outputs": []
    },
    {
      "cell_type": "code",
      "metadata": {
        "colab": {
          "base_uri": "https://localhost:8080/",
          "height": 265
        },
        "id": "NWbzxfbOcFnN",
        "outputId": "2b28d7ba-f91b-4d2c-a07a-10a131d74f74"
      },
      "source": [
        "plt.plot(fpr, tpr, 'b:', label='SGD')\n",
        "plot_roc_curve(fpr_forest, tpr_forest, 'Random Forest')\n",
        "plt.legend(loc='lower right')\n",
        "plt.show()"
      ],
      "execution_count": null,
      "outputs": [
        {
          "output_type": "display_data",
          "data": {
            "image/png": "[encoded data removed]",
            "text/plain": [
              "<Figure size 432x288 with 1 Axes>"
            ]
          },
          "metadata": {
            "tags": [],
            "needs_background": "light"
          }
        }
      ]
    },
    {
      "cell_type": "code",
      "metadata": {
        "colab": {
          "base_uri": "https://localhost:8080/"
        },
        "id": "Z5ScU4wfcoLC",
        "outputId": "74f08f2f-30ec-497c-c48f-5112e65b13f0"
      },
      "source": [
        "metrics.roc_auc_score(y_train_5, y_scores_forest)"
      ],
      "execution_count": null,
      "outputs": [
        {
          "output_type": "execute_result",
          "data": {
            "text/plain": [
              "0.998402186461512"
            ]
          },
          "metadata": {
            "tags": []
          },
          "execution_count": 140
        }
      ]
    },
    {
      "cell_type": "code",
      "metadata": {
        "colab": {
          "base_uri": "https://localhost:8080/"
        },
        "id": "zriU17g5c4C3",
        "outputId": "4355b14a-dda0-4162-f758-c0a654859cd0"
      },
      "source": [
        "# Multiclass Classification\n",
        "sgd_clf.fit(x_train, y_train)\n",
        "sgd_clf.predict([x[12]])"
      ],
      "execution_count": null,
      "outputs": [
        {
          "output_type": "execute_result",
          "data": {
            "text/plain": [
              "array(['3'], dtype='<U1')"
            ]
          },
          "metadata": {
            "tags": []
          },
          "execution_count": 142
        }
      ]
    },
    {
      "cell_type": "code",
      "metadata": {
        "colab": {
          "base_uri": "https://localhost:8080/"
        },
        "id": "Xtn5S7PAd2PS",
        "outputId": "8f0db781-53c0-4462-f38d-a81efafe429a"
      },
      "source": [
        "someds=sgd_clf.decision_function([x_train[0]])\n",
        "print(someds)"
      ],
      "execution_count": null,
      "outputs": [
        {
          "output_type": "stream",
          "text": [
            "[[-31893.03095419 -34419.69069632  -9530.63950739   1823.73154031\n",
            "  -22320.14822878  -1385.80478895 -26188.91070951 -16147.51323997\n",
            "   -4604.35491274 -12050.767298  ]]\n"
          ],
          "name": "stdout"
        }
      ]
    },
    {
      "cell_type": "code",
      "metadata": {
        "colab": {
          "base_uri": "https://localhost:8080/"
        },
        "id": "cOW28RrLfGYR",
        "outputId": "3eccc392-03a6-4de9-9dc7-351a918a89ae"
      },
      "source": [
        "np.argmax(someds)"
      ],
      "execution_count": null,
      "outputs": [
        {
          "output_type": "execute_result",
          "data": {
            "text/plain": [
              "3"
            ]
          },
          "metadata": {
            "tags": []
          },
          "execution_count": 146
        }
      ]
    },
    {
      "cell_type": "code",
      "metadata": {
        "colab": {
          "base_uri": "https://localhost:8080/"
        },
        "id": "HsKcBEFDfR9Y",
        "outputId": "b2740a77-e736-4ee1-cf7d-bce006e6d073"
      },
      "source": [
        "from sklearn.multiclass import OneVsOneClassifier\n",
        "ovo_clf = OneVsOneClassifier(sklinear.SGDClassifier(random_state=42))\n",
        "ovo_clf.fit(x_train, y_train)\n",
        "ovo_clf.predict([x[0]])"
      ],
      "execution_count": null,
      "outputs": [
        {
          "output_type": "execute_result",
          "data": {
            "text/plain": [
              "array(['5'], dtype=object)"
            ]
          },
          "metadata": {
            "tags": []
          },
          "execution_count": 148
        }
      ]
    },
    {
      "cell_type": "code",
      "metadata": {
        "colab": {
          "base_uri": "https://localhost:8080/"
        },
        "id": "p7Lan8Ksj_Sb",
        "outputId": "750c8b53-953e-4653-a0a3-2d5f6758e9ce"
      },
      "source": [
        "len(ovo_clf.estimators_)"
      ],
      "execution_count": null,
      "outputs": [
        {
          "output_type": "execute_result",
          "data": {
            "text/plain": [
              "45"
            ]
          },
          "metadata": {
            "tags": []
          },
          "execution_count": 149
        }
      ]
    },
    {
      "cell_type": "code",
      "metadata": {
        "colab": {
          "base_uri": "https://localhost:8080/"
        },
        "id": "e_WVjEDokd83",
        "outputId": "1dcd01e9-e330-4180-e124-61e72290811a"
      },
      "source": [
        "forest_clf.fit(x_train, y_train)"
      ],
      "execution_count": null,
      "outputs": [
        {
          "output_type": "execute_result",
          "data": {
            "text/plain": [
              "RandomForestClassifier(bootstrap=True, ccp_alpha=0.0, class_weight=None,\n",
              "                       criterion='gini', max_depth=None, max_features='auto',\n",
              "                       max_leaf_nodes=None, max_samples=None,\n",
              "                       min_impurity_decrease=0.0, min_impurity_split=None,\n",
              "                       min_samples_leaf=1, min_samples_split=2,\n",
              "                       min_weight_fraction_leaf=0.0, n_estimators=100,\n",
              "                       n_jobs=None, oob_score=False, random_state=42, verbose=0,\n",
              "                       warm_start=False)"
            ]
          },
          "metadata": {
            "tags": []
          },
          "execution_count": 150
        }
      ]
    },
    {
      "cell_type": "code",
      "metadata": {
        "colab": {
          "base_uri": "https://localhost:8080/"
        },
        "id": "jEtOWj-Lkjx2",
        "outputId": "3abf1c80-db97-42e7-c3ed-7568e261ae4d"
      },
      "source": [
        "forest_clf.predict([x[0]])"
      ],
      "execution_count": null,
      "outputs": [
        {
          "output_type": "execute_result",
          "data": {
            "text/plain": [
              "array(['5'], dtype=object)"
            ]
          },
          "metadata": {
            "tags": []
          },
          "execution_count": 151
        }
      ]
    },
    {
      "cell_type": "code",
      "metadata": {
        "colab": {
          "base_uri": "https://localhost:8080/"
        },
        "id": "09uhSKublEmU",
        "outputId": "472a2b2f-7daf-4c9e-d5b0-0f243aa12ee3"
      },
      "source": [
        "forest_clf.predict_proba([x[0]])"
      ],
      "execution_count": null,
      "outputs": [
        {
          "output_type": "execute_result",
          "data": {
            "text/plain": [
              "array([[0.  , 0.  , 0.01, 0.08, 0.  , 0.9 , 0.  , 0.  , 0.  , 0.01]])"
            ]
          },
          "metadata": {
            "tags": []
          },
          "execution_count": 153
        }
      ]
    },
    {
      "cell_type": "code",
      "metadata": {
        "colab": {
          "base_uri": "https://localhost:8080/"
        },
        "id": "BVXLpZ4UlSkW",
        "outputId": "d579903a-3e68-4c64-a6f0-118e17afea16"
      },
      "source": [
        "model.cross_val_score(sgd_clf, x_train, y_train, scoring='accuracy')"
      ],
      "execution_count": null,
      "outputs": [
        {
          "output_type": "execute_result",
          "data": {
            "text/plain": [
              "array([0.88083333, 0.88325   , 0.88116667, 0.86625   , 0.8875    ])"
            ]
          },
          "metadata": {
            "tags": []
          },
          "execution_count": 155
        }
      ]
    },
    {
      "cell_type": "code",
      "metadata": {
        "colab": {
          "base_uri": "https://localhost:8080/"
        },
        "id": "ee7d3p31mNfq",
        "outputId": "898db7a4-dc30-476f-8aaf-7fe45e0b0b88"
      },
      "source": [
        "scaler = StandardScaler()\n",
        "x_train_scaled = scaler.fit_transform(x_train.astype(np.float64))\n",
        "model.cross_val_score(sgd_clf, x_train_scaled, y_train, scoring='accuracy')"
      ],
      "execution_count": null,
      "outputs": [
        {
          "output_type": "execute_result",
          "data": {
            "text/plain": [
              "array([0.89733333, 0.88725   , 0.89583333, 0.89233333, 0.90516667])"
            ]
          },
          "metadata": {
            "tags": []
          },
          "execution_count": 158
        }
      ]
    },
    {
      "cell_type": "code",
      "metadata": {
        "id": "W0oSAFEPqJNm"
      },
      "source": [
        "y_train_pred = model.cross_val_predict(sgd_clf, x_train_scaled, y_train, cv=3)\n",
        "conf_mx = confusion_matrix(y_train, y_train_pred)"
      ],
      "execution_count": null,
      "outputs": []
    },
    {
      "cell_type": "code",
      "metadata": {
        "id": "zMRCFczZsto-"
      },
      "source": [
        "# plt.matshow(conf_mx, cmap=plt.cm.gray)\n",
        "# plt.show()"
      ],
      "execution_count": null,
      "outputs": []
    },
    {
      "cell_type": "code",
      "metadata": {
        "id": "-VIXY0L3xluO"
      },
      "source": [
        "from sklearn.neighbors import KNeighborsClassifier\n",
        "y_train_large = (np.float64(y_train) >= 7)\n",
        "y_train_odd = (np.float64(y_train) % 2 == 1)\n",
        "y_mltilabel = np.c_[y_train_large, y_train_odd]\n",
        "knn_clf = KNeighborsClassifier()\n",
        "knn_clf.fit(x_train, y_multilabel)\n",
        "knn_clf.predict([x[0]])"
      ],
      "execution_count": null,
      "outputs": []
    },
    {
      "cell_type": "code",
      "metadata": {
        "id": "oKRFoqgazRLI"
      },
      "source": [
        "\n"
      ],
      "execution_count": null,
      "outputs": []
    }
  ]
}
