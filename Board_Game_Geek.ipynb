{
  "nbformat": 4,
  "nbformat_minor": 0,
  "metadata": {
    "colab": {
      "provenance": [],
      "collapsed_sections": [],
      "mount_file_id": "1Wq00XztTwP5Y-TqvnF-YHBp_00rAP6qp",
      "authorship_tag": "ABX9TyORE/LRQi+xTCQ9BvclZbgn",
      "include_colab_link": true
    },
    "kernelspec": {
      "name": "python3",
      "display_name": "Python 3"
    },
    "language_info": {
      "name": "python"
    }
  },
  "cells": [
    {
      "cell_type": "markdown",
      "metadata": {
        "id": "view-in-github",
        "colab_type": "text"
      },
      "source": [
        "<a href=\"https://colab.research.google.com/github/mralamdari/Machine_Learning_Projects/blob/main/Board_Game_Geek.ipynb\" target=\"_parent\"><img src=\"https://colab.research.google.com/assets/colab-badge.svg\" alt=\"Open In Colab\"/></a>"
      ]
    },
    {
      "cell_type": "markdown",
      "metadata": {
        "id": "79hEcdMhFYPB"
      },
      "source": [
        "Board Game Geek\n",
        "\n",
        "https://github.com/ThaWeatherman/scrapers/tree/master/boardgamegeek"
      ]
    },
    {
      "cell_type": "code",
      "metadata": {
        "id": "bf0_XmsCD-tm"
      },
      "source": [
        "import numpy as np\n",
        "import pandas as pd\n",
        "import seaborn as sns\n",
        "import matplotlib.pyplot as plt\n",
        "\n",
        "from sklearn import metrics\n",
        "from sklearn import ensemble\n",
        "from sklearn import linear_model\n",
        "from sklearn import preprocessing\n",
        "from sklearn import model_selection"
      ],
      "execution_count": null,
      "outputs": []
    },
    {
      "cell_type": "code",
      "metadata": {
        "id": "pvzPzo3SFIUp"
      },
      "source": [
        "data = pd.read_csv('/content/drive/MyDrive/Colab Notebooks/ML Projects/games.csv')"
      ],
      "execution_count": null,
      "outputs": []
    },
    {
      "cell_type": "code",
      "metadata": {
        "id": "lTfXvqUVI5U-",
        "colab": {
          "base_uri": "https://localhost:8080/",
          "height": 776
        },
        "outputId": "9ec7e6de-f3a6-4285-fad9-b59f80682929"
      },
      "source": [
        "data.keys()\n",
        "data.info()\n",
        "data.describe()"
      ],
      "execution_count": null,
      "outputs": [
        {
          "output_type": "stream",
          "text": [
            "<class 'pandas.core.frame.DataFrame'>\n",
            "Int64Index: 73594 entries, 0 to 81311\n",
            "Data columns (total 20 columns):\n",
            " #   Column                Non-Null Count  Dtype  \n",
            "---  ------                --------------  -----  \n",
            " 0   id                    73594 non-null  int64  \n",
            " 1   type                  73594 non-null  object \n",
            " 2   name                  73594 non-null  object \n",
            " 3   yearpublished         73594 non-null  float64\n",
            " 4   minplayers            73594 non-null  float64\n",
            " 5   maxplayers            73594 non-null  float64\n",
            " 6   playingtime           73594 non-null  float64\n",
            " 7   minplaytime           73594 non-null  float64\n",
            " 8   maxplaytime           73594 non-null  float64\n",
            " 9   minage                73594 non-null  float64\n",
            " 10  users_rated           73594 non-null  int64  \n",
            " 11  average_rating        73594 non-null  float64\n",
            " 12  bayes_average_rating  73594 non-null  float64\n",
            " 13  total_owners          73594 non-null  int64  \n",
            " 14  total_traders         73594 non-null  int64  \n",
            " 15  total_wanters         73594 non-null  int64  \n",
            " 16  total_wishers         73594 non-null  int64  \n",
            " 17  total_comments        73594 non-null  int64  \n",
            " 18  total_weights         73594 non-null  int64  \n",
            " 19  average_weight        73594 non-null  float64\n",
            "dtypes: float64(10), int64(8), object(2)\n",
            "memory usage: 11.8+ MB\n"
          ],
          "name": "stdout"
        },
        {
          "output_type": "execute_result",
          "data": {
            "text/html": [
              "<div>\n",
              "<style scoped>\n",
              "    .dataframe tbody tr th:only-of-type {\n",
              "        vertical-align: middle;\n",
              "    }\n",
              "\n",
              "    .dataframe tbody tr th {\n",
              "        vertical-align: top;\n",
              "    }\n",
              "\n",
              "    .dataframe thead th {\n",
              "        text-align: right;\n",
              "    }\n",
              "</style>\n",
              "<table border=\"1\" class=\"dataframe\">\n",
              "  <thead>\n",
              "    <tr style=\"text-align: right;\">\n",
              "      <th></th>\n",
              "      <th>id</th>\n",
              "      <th>yearpublished</th>\n",
              "      <th>minplayers</th>\n",
              "      <th>maxplayers</th>\n",
              "      <th>playingtime</th>\n",
              "      <th>minplaytime</th>\n",
              "      <th>maxplaytime</th>\n",
              "      <th>minage</th>\n",
              "      <th>users_rated</th>\n",
              "      <th>average_rating</th>\n",
              "      <th>bayes_average_rating</th>\n",
              "      <th>total_owners</th>\n",
              "      <th>total_traders</th>\n",
              "      <th>total_wanters</th>\n",
              "      <th>total_wishers</th>\n",
              "      <th>total_comments</th>\n",
              "      <th>total_weights</th>\n",
              "      <th>average_weight</th>\n",
              "    </tr>\n",
              "  </thead>\n",
              "  <tbody>\n",
              "    <tr>\n",
              "      <th>count</th>\n",
              "      <td>73594.000000</td>\n",
              "      <td>73594.000000</td>\n",
              "      <td>73594.000000</td>\n",
              "      <td>73594.000000</td>\n",
              "      <td>73594.000000</td>\n",
              "      <td>73594.000000</td>\n",
              "      <td>73594.000000</td>\n",
              "      <td>73594.000000</td>\n",
              "      <td>73594.000000</td>\n",
              "      <td>73594.000000</td>\n",
              "      <td>73594.000000</td>\n",
              "      <td>73594.000000</td>\n",
              "      <td>73594.000000</td>\n",
              "      <td>73594.000000</td>\n",
              "      <td>73594.000000</td>\n",
              "      <td>73594.000000</td>\n",
              "      <td>73594.000000</td>\n",
              "      <td>73594.000000</td>\n",
              "    </tr>\n",
              "    <tr>\n",
              "      <th>mean</th>\n",
              "      <td>71153.788651</td>\n",
              "      <td>1995.014594</td>\n",
              "      <td>1.992635</td>\n",
              "      <td>5.711104</td>\n",
              "      <td>52.958257</td>\n",
              "      <td>50.503642</td>\n",
              "      <td>52.958257</td>\n",
              "      <td>7.151588</td>\n",
              "      <td>178.522502</td>\n",
              "      <td>4.395985</td>\n",
              "      <td>1.270685</td>\n",
              "      <td>289.342582</td>\n",
              "      <td>10.155828</td>\n",
              "      <td>13.942237</td>\n",
              "      <td>46.939886</td>\n",
              "      <td>54.251719</td>\n",
              "      <td>18.165815</td>\n",
              "      <td>0.968484</td>\n",
              "    </tr>\n",
              "    <tr>\n",
              "      <th>std</th>\n",
              "      <td>59047.245714</td>\n",
              "      <td>81.409466</td>\n",
              "      <td>0.911922</td>\n",
              "      <td>58.761940</td>\n",
              "      <td>355.752631</td>\n",
              "      <td>343.760148</td>\n",
              "      <td>355.752631</td>\n",
              "      <td>5.013515</td>\n",
              "      <td>1203.328293</td>\n",
              "      <td>3.005607</td>\n",
              "      <td>2.422741</td>\n",
              "      <td>1578.993639</td>\n",
              "      <td>41.500099</td>\n",
              "      <td>63.723714</td>\n",
              "      <td>251.100773</td>\n",
              "      <td>298.919892</td>\n",
              "      <td>121.783251</td>\n",
              "      <td>1.192931</td>\n",
              "    </tr>\n",
              "    <tr>\n",
              "      <th>min</th>\n",
              "      <td>1.000000</td>\n",
              "      <td>-3500.000000</td>\n",
              "      <td>0.000000</td>\n",
              "      <td>0.000000</td>\n",
              "      <td>0.000000</td>\n",
              "      <td>0.000000</td>\n",
              "      <td>0.000000</td>\n",
              "      <td>0.000000</td>\n",
              "      <td>0.000000</td>\n",
              "      <td>0.000000</td>\n",
              "      <td>0.000000</td>\n",
              "      <td>0.000000</td>\n",
              "      <td>0.000000</td>\n",
              "      <td>0.000000</td>\n",
              "      <td>0.000000</td>\n",
              "      <td>0.000000</td>\n",
              "      <td>0.000000</td>\n",
              "      <td>0.000000</td>\n",
              "    </tr>\n",
              "    <tr>\n",
              "      <th>25%</th>\n",
              "      <td>20167.250000</td>\n",
              "      <td>1991.000000</td>\n",
              "      <td>2.000000</td>\n",
              "      <td>2.000000</td>\n",
              "      <td>10.000000</td>\n",
              "      <td>10.000000</td>\n",
              "      <td>10.000000</td>\n",
              "      <td>0.000000</td>\n",
              "      <td>0.000000</td>\n",
              "      <td>0.000000</td>\n",
              "      <td>0.000000</td>\n",
              "      <td>2.000000</td>\n",
              "      <td>0.000000</td>\n",
              "      <td>0.000000</td>\n",
              "      <td>0.000000</td>\n",
              "      <td>0.000000</td>\n",
              "      <td>0.000000</td>\n",
              "      <td>0.000000</td>\n",
              "    </tr>\n",
              "    <tr>\n",
              "      <th>50%</th>\n",
              "      <td>41993.500000</td>\n",
              "      <td>2005.000000</td>\n",
              "      <td>2.000000</td>\n",
              "      <td>4.000000</td>\n",
              "      <td>30.000000</td>\n",
              "      <td>30.000000</td>\n",
              "      <td>30.000000</td>\n",
              "      <td>8.000000</td>\n",
              "      <td>3.000000</td>\n",
              "      <td>5.500000</td>\n",
              "      <td>0.000000</td>\n",
              "      <td>9.000000</td>\n",
              "      <td>0.000000</td>\n",
              "      <td>0.000000</td>\n",
              "      <td>1.000000</td>\n",
              "      <td>2.000000</td>\n",
              "      <td>0.000000</td>\n",
              "      <td>0.000000</td>\n",
              "    </tr>\n",
              "    <tr>\n",
              "      <th>75%</th>\n",
              "      <td>128300.750000</td>\n",
              "      <td>2011.000000</td>\n",
              "      <td>2.000000</td>\n",
              "      <td>6.000000</td>\n",
              "      <td>60.000000</td>\n",
              "      <td>60.000000</td>\n",
              "      <td>60.000000</td>\n",
              "      <td>12.000000</td>\n",
              "      <td>21.000000</td>\n",
              "      <td>6.788543</td>\n",
              "      <td>0.000000</td>\n",
              "      <td>66.000000</td>\n",
              "      <td>3.000000</td>\n",
              "      <td>3.000000</td>\n",
              "      <td>8.000000</td>\n",
              "      <td>11.000000</td>\n",
              "      <td>3.000000</td>\n",
              "      <td>2.000000</td>\n",
              "    </tr>\n",
              "    <tr>\n",
              "      <th>max</th>\n",
              "      <td>184451.000000</td>\n",
              "      <td>2018.000000</td>\n",
              "      <td>99.000000</td>\n",
              "      <td>11299.000000</td>\n",
              "      <td>60120.000000</td>\n",
              "      <td>60120.000000</td>\n",
              "      <td>60120.000000</td>\n",
              "      <td>120.000000</td>\n",
              "      <td>53680.000000</td>\n",
              "      <td>10.000000</td>\n",
              "      <td>8.221860</td>\n",
              "      <td>73188.000000</td>\n",
              "      <td>1395.000000</td>\n",
              "      <td>1586.000000</td>\n",
              "      <td>6402.000000</td>\n",
              "      <td>11798.000000</td>\n",
              "      <td>5996.000000</td>\n",
              "      <td>5.000000</td>\n",
              "    </tr>\n",
              "  </tbody>\n",
              "</table>\n",
              "</div>"
            ],
            "text/plain": [
              "                  id  yearpublished  ...  total_weights  average_weight\n",
              "count   73594.000000   73594.000000  ...   73594.000000    73594.000000\n",
              "mean    71153.788651    1995.014594  ...      18.165815        0.968484\n",
              "std     59047.245714      81.409466  ...     121.783251        1.192931\n",
              "min         1.000000   -3500.000000  ...       0.000000        0.000000\n",
              "25%     20167.250000    1991.000000  ...       0.000000        0.000000\n",
              "50%     41993.500000    2005.000000  ...       0.000000        0.000000\n",
              "75%    128300.750000    2011.000000  ...       3.000000        2.000000\n",
              "max    184451.000000    2018.000000  ...    5996.000000        5.000000\n",
              "\n",
              "[8 rows x 18 columns]"
            ]
          },
          "metadata": {
            "tags": []
          },
          "execution_count": 35
        }
      ]
    },
    {
      "cell_type": "code",
      "metadata": {
        "id": "WoOkwJQHJmOe"
      },
      "source": [
        "data.average_rating.hist()\n",
        "# as we see there are some games that has never releast and so they have zero ratings and have to be deleted\n",
        "data.drop(data[data.users_rated == 0].index, axis=0, inplace=True)\n",
        "data.dropna(axis=0, inplace=True)"
      ],
      "execution_count": null,
      "outputs": []
    },
    {
      "cell_type": "code",
      "metadata": {
        "colab": {
          "base_uri": "https://localhost:8080/",
          "height": 282
        },
        "id": "zrpk6bWDOqC8",
        "outputId": "1292cb2a-ee77-41bd-d311-06290953743f"
      },
      "source": [
        "data.average_rating.hist()"
      ],
      "execution_count": null,
      "outputs": [
        {
          "output_type": "execute_result",
          "data": {
            "text/plain": [
              "<matplotlib.axes._subplots.AxesSubplot at 0x7f69d1de2150>"
            ]
          },
          "metadata": {
            "tags": []
          },
          "execution_count": 44
        },
        {
          "output_type": "display_data",
          "data": {
            "image/png": "[encoded data removed]",
            "text/plain": [
              "<Figure size 432x288 with 1 Axes>"
            ]
          },
          "metadata": {
            "tags": [],
            "needs_background": "light"
          }
        }
      ]
    },
    {
      "cell_type": "code",
      "metadata": {
        "colab": {
          "base_uri": "https://localhost:8080/",
          "height": 387
        },
        "id": "GURqbW6iQS2g",
        "outputId": "437aa468-d8f1-4526-82d6-5b60da2a3b88"
      },
      "source": [
        "sns.heatmap(data.corr())\n",
        "# darker ===> less corrolation\n",
        "# brighter ===> More corrolation"
      ],
      "execution_count": null,
      "outputs": [
        {
          "output_type": "execute_result",
          "data": {
            "text/plain": [
              "<matplotlib.axes._subplots.AxesSubplot at 0x7f69c73b8f10>"
            ]
          },
          "metadata": {
            "tags": []
          },
          "execution_count": 50
        },
        {
          "output_type": "display_data",
          "data": {
            "image/png": "[encoded data removed]",
            "text/plain": [
              "<Figure size 432x288 with 2 Axes>"
            ]
          },
          "metadata": {
            "tags": [],
            "needs_background": "light"
          }
        }
      ]
    },
    {
      "cell_type": "code",
      "metadata": {
        "id": "NwTmz0O-SHux"
      },
      "source": [
        "x = data.drop(columns=['bayes_average_rating', 'average_weight', 'id', 'type','name'])\n",
        "y = data.average_weight\n",
        "train_x, test_x, train_y, test_y = model_selection.train_test_split(x, y, random_state=45, test_size=0.2)"
      ],
      "execution_count": null,
      "outputs": []
    },
    {
      "cell_type": "code",
      "metadata": {
        "id": "FporrVFSUQCv"
      },
      "source": [
        "lr = linear_model.LinearRegression()\n",
        "lr.fit(train_x, train_y)\n",
        "h1 = lr.predict(test_x)"
      ],
      "execution_count": null,
      "outputs": []
    },
    {
      "cell_type": "code",
      "metadata": {
        "colab": {
          "base_uri": "https://localhost:8080/"
        },
        "id": "_2Uu31VxUmY8",
        "outputId": "110cb9f6-0b1c-4679-eef6-30f4842a4b70"
      },
      "source": [
        "metrics.mean_squared_error(h1, test_y)"
      ],
      "execution_count": null,
      "outputs": [
        {
          "output_type": "execute_result",
          "data": {
            "text/plain": [
              "1.1085506322567367"
            ]
          },
          "metadata": {
            "tags": []
          },
          "execution_count": 116
        }
      ]
    },
    {
      "cell_type": "code",
      "metadata": {
        "id": "8Y2L-UYuVExr"
      },
      "source": [
        "rfr=ensemble.RandomForestRegressor(n_estimators=200, min_samples_leaf=20, random_state=23)\n",
        "rfr.fit(train_x, train_y)\n",
        "h = rfr.predict(test_x)"
      ],
      "execution_count": null,
      "outputs": []
    },
    {
      "cell_type": "code",
      "metadata": {
        "colab": {
          "base_uri": "https://localhost:8080/"
        },
        "id": "7H6OoUN_VWfi",
        "outputId": "e3715711-6b40-4802-d5d4-3c35f1a902f7"
      },
      "source": [
        "metrics.mean_squared_error(h, test_y)"
      ],
      "execution_count": null,
      "outputs": [
        {
          "output_type": "execute_result",
          "data": {
            "text/plain": [
              "0.2326763161970122"
            ]
          },
          "metadata": {
            "tags": []
          },
          "execution_count": 93
        }
      ]
    },
    {
      "cell_type": "code",
      "metadata": {
        "colab": {
          "base_uri": "https://localhost:8080/"
        },
        "id": "6S3uAWNkWS-O",
        "outputId": "ab3f3ada-c7ed-493c-da20-13c5c5d5cd82"
      },
      "source": [
        "n=3766\n",
        "test_1 = test_x.iloc[n].values.reshape(1, -1)\n",
        "print(test_y.iloc[n])\n",
        "print(test_x.iloc[n])"
      ],
      "execution_count": null,
      "outputs": [
        {
          "output_type": "stream",
          "text": [
            "2.7671\n",
            "yearpublished     2005.00000\n",
            "minplayers           2.00000\n",
            "maxplayers           2.00000\n",
            "playingtime         30.00000\n",
            "minplaytime         30.00000\n",
            "maxplaytime         30.00000\n",
            "minage              10.00000\n",
            "users_rated       1197.00000\n",
            "average_rating       6.86001\n",
            "total_owners      2029.00000\n",
            "total_traders       45.00000\n",
            "total_wanters      143.00000\n",
            "total_wishers      347.00000\n",
            "total_comments     480.00000\n",
            "total_weights      146.00000\n",
            "Name: 958, dtype: float64\n"
          ],
          "name": "stdout"
        }
      ]
    },
    {
      "cell_type": "code",
      "metadata": {
        "colab": {
          "base_uri": "https://localhost:8080/"
        },
        "id": "E53LhwLAXLMy",
        "outputId": "f4786376-b0b0-4757-ea8a-117410f8bf0a"
      },
      "source": [
        "h1=lr.predict(test_1)\n",
        "h2=rfr.predict(test_1)\n",
        "h1, h2"
      ],
      "execution_count": null,
      "outputs": [
        {
          "output_type": "execute_result",
          "data": {
            "text/plain": [
              "(array([2.34916397]), array([2.12756727]))"
            ]
          },
          "metadata": {
            "tags": []
          },
          "execution_count": 119
        }
      ]
    }
  ]
}